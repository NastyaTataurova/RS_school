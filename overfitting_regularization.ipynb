{
  "cells": [
    {
      "cell_type": "markdown",
      "metadata": {
        "id": "FcN-9_ofndk2"
      },
      "source": [
        "# Overfitting and Regularization"
      ]
    },
    {
      "cell_type": "markdown",
      "metadata": {
        "id": "URRrH3Kbndk3"
      },
      "source": [
        "## Imports"
      ]
    },
    {
      "cell_type": "code",
      "execution_count": 1,
      "metadata": {
        "ExecuteTime": {
          "end_time": "2022-02-16T07:39:25.890581Z",
          "start_time": "2022-02-16T07:39:23.835921Z"
        },
        "id": "6h7i3ladndk4"
      },
      "outputs": [],
      "source": [
        "import numpy as np\n",
        "import pandas as pd\n",
        "import seaborn as sns\n",
        "import matplotlib.pyplot as plt\n",
        "\n",
        "from tqdm.notebook import tqdm\n",
        "import warnings\n",
        "warnings.filterwarnings(\"ignore\")"
      ]
    },
    {
      "cell_type": "code",
      "execution_count": 2,
      "metadata": {
        "ExecuteTime": {
          "end_time": "2022-02-16T07:39:26.108031Z",
          "start_time": "2022-02-16T07:39:25.925893Z"
        },
        "id": "7DkbdkXIndk4"
      },
      "outputs": [],
      "source": [
        "from sklearn.pipeline import Pipeline\n",
        "from sklearn.model_selection import train_test_split, cross_validate\n",
        "from sklearn.preprocessing import PolynomialFeatures, StandardScaler\n",
        "from sklearn.linear_model import LinearRegression, Lasso, Ridge\n",
        "from sklearn.metrics import mean_squared_error\n",
        "from sklearn import set_config"
      ]
    },
    {
      "cell_type": "code",
      "execution_count": 3,
      "metadata": {
        "ExecuteTime": {
          "end_time": "2022-02-16T07:39:26.155183Z",
          "start_time": "2022-02-16T07:39:26.141249Z"
        },
        "id": "0xavehcTndk5"
      },
      "outputs": [],
      "source": [
        "set_config(display='diagram')"
      ]
    },
    {
      "cell_type": "markdown",
      "metadata": {
        "id": "RFmCEOODndk5"
      },
      "source": [
        "## Settings"
      ]
    },
    {
      "cell_type": "code",
      "execution_count": 4,
      "metadata": {
        "ExecuteTime": {
          "end_time": "2022-02-16T07:39:26.201661Z",
          "start_time": "2022-02-16T07:39:26.189181Z"
        },
        "id": "7KcDFEQYndk6"
      },
      "outputs": [],
      "source": [
        "SEED = 42\n",
        "RANGE = (-5, 5)\n",
        "N_SAMPLES = 50\n",
        "DEGREES = np.linspace(0, 15, 1 + 15, dtype=int)\n",
        "ALPHAS = np.linspace(0, 0.5, 1 + 40)"
      ]
    },
    {
      "cell_type": "markdown",
      "metadata": {
        "id": "VpQ3M3S2ndk6"
      },
      "source": [
        "## Part 1: Underfitting vs. overfitting"
      ]
    },
    {
      "cell_type": "markdown",
      "metadata": {
        "id": "ZuBqqPyEndk7"
      },
      "source": [
        "### Generate samples"
      ]
    },
    {
      "cell_type": "markdown",
      "metadata": {
        "ExecuteTime": {
          "end_time": "2020-11-09T09:04:09.904994Z",
          "start_time": "2020-11-09T09:04:09.896444Z"
        },
        "id": "c5Ra6Pbrndk8"
      },
      "source": [
        "Let's pick a target function $ f(x) = 2\\cdot x + 10\\cdot sin(x) $ and generate some noisy samples to learn from."
      ]
    },
    {
      "cell_type": "code",
      "execution_count": 5,
      "metadata": {
        "ExecuteTime": {
          "end_time": "2022-02-16T07:39:26.433239Z",
          "start_time": "2022-02-16T07:39:26.412501Z"
        },
        "id": "ZVQVYsrLndk8"
      },
      "outputs": [],
      "source": [
        "def target_function(x):\n",
        "    return 2 * x + 10 * np.sin(x)\n",
        "\n",
        "def generate_samples():\n",
        "    \"\"\"Generate noisy samples.\"\"\"\n",
        "    np.random.seed(SEED)\n",
        "    x = np.random.uniform(*RANGE, size=N_SAMPLES)\n",
        "    y = target_function(x) + np.random.normal(scale=4, size=N_SAMPLES)\n",
        "    return x.reshape(-1, 1), y\n",
        "\n",
        "X, y = generate_samples()"
      ]
    },
    {
      "cell_type": "markdown",
      "metadata": {
        "id": "rwGkB7uXndk8"
      },
      "source": [
        "### Plot samples"
      ]
    },
    {
      "cell_type": "code",
      "execution_count": 6,
      "metadata": {
        "ExecuteTime": {
          "end_time": "2022-02-16T07:39:27.822431Z",
          "start_time": "2022-02-16T07:39:27.696426Z"
        },
        "colab": {
          "base_uri": "https://localhost:8080/",
          "height": 280
        },
        "id": "jvyVYCAFndk9",
        "outputId": "6da19ce0-2563-459c-c4c7-93edfec0b3d2"
      },
      "outputs": [
        {
          "output_type": "display_data",
          "data": {
            "text/plain": [
              "<Figure size 432x288 with 1 Axes>"
            ],
            "image/png": "[encoded data removed]"
          },
          "metadata": {
            "needs_background": "light"
          }
        }
      ],
      "source": [
        "def plot_scatter(x, y, title=None, label='Noisy samples'):\n",
        "    plt.scatter(x, y, label=label)\n",
        "    plt.xlabel('x')\n",
        "    plt.ylabel('y')\n",
        "    plt.grid(True)\n",
        "    plt.title(title)\n",
        "    plt.legend(loc='lower right')\n",
        "\n",
        "plot_scatter(X, y)"
      ]
    },
    {
      "cell_type": "markdown",
      "metadata": {
        "id": "juyLqAhDndk9"
      },
      "source": [
        "### Split"
      ]
    },
    {
      "cell_type": "code",
      "execution_count": 7,
      "metadata": {
        "ExecuteTime": {
          "end_time": "2022-02-16T07:39:29.210072Z",
          "start_time": "2022-02-16T07:39:29.093175Z"
        },
        "colab": {
          "base_uri": "https://localhost:8080/",
          "height": 280
        },
        "id": "K8fOYzolndk9",
        "outputId": "761459b8-0c07-4d39-edcd-a659407f904b"
      },
      "outputs": [
        {
          "output_type": "display_data",
          "data": {
            "text/plain": [
              "<Figure size 432x288 with 1 Axes>"
            ],
            "image/png": "[encoded data removed]"
          },
          "metadata": {
            "needs_background": "light"
          }
        }
      ],
      "source": [
        "X_train, X_valid, y_train, y_valid = train_test_split(X, y, test_size=0.3, random_state=SEED)\n",
        "\n",
        "plot_scatter(X_train, y_train, label='Training set')\n",
        "plot_scatter(X_valid, y_valid, label='Validation set')"
      ]
    },
    {
      "cell_type": "code",
      "execution_count": 8,
      "metadata": {
        "ExecuteTime": {
          "end_time": "2022-02-16T07:39:33.496625Z",
          "start_time": "2022-02-16T07:39:33.479851Z"
        },
        "colab": {
          "base_uri": "https://localhost:8080/"
        },
        "id": "b8MSumpCndk-",
        "outputId": "3cf0c34e-6c57-4ef5-f8de-3112d799a00b"
      },
      "outputs": [
        {
          "output_type": "execute_result",
          "data": {
            "text/plain": [
              "array([ -1.10771616,   0.84986647,  -9.62110024,   3.70972424,\n",
              "        -2.36319095,   5.83708039, -16.53330524,  -1.8815588 ,\n",
              "       -11.1506254 ,   1.0883081 ,  -9.05957818, -14.72254274,\n",
              "         5.71746212,   5.48508317,  -6.81897956,  -1.80751907,\n",
              "        -2.14124891, -12.83476672,  -0.09034969,  -3.48222266,\n",
              "        11.50001273,  -2.03019037,  10.03142993, -17.18409407,\n",
              "        -2.48182149,   1.67461593, -17.32081894,  -6.32825039,\n",
              "        -4.15121484,   9.31494651,   6.5817456 ,   6.58351686,\n",
              "        -1.83803375,  11.27589865,  13.68530977])"
            ]
          },
          "metadata": {},
          "execution_count": 8
        }
      ],
      "source": [
        "y_train"
      ]
    },
    {
      "cell_type": "markdown",
      "metadata": {
        "id": "mrBv-_lpndk-"
      },
      "source": [
        "### Model"
      ]
    },
    {
      "cell_type": "markdown",
      "metadata": {
        "id": "W3Zr04CKndk-"
      },
      "source": [
        "Let's try to approximate our target function $ f(x) = 2\\cdot x + 10\\cdot sin(x) $ with polynomials of different degree. \n",
        "\n",
        "A polynomial of degree $n$ has the form:\n",
        "$ h(x) = w_0 + w_1\\cdot x + w_2\\cdot x^2 +\\ldots + w_n\\cdot x^n $.\n",
        "\n",
        "$x^i$ values could easily be generated by `PolynomialFeatures`, while $w_i$ are the unknown paramaters to be estimated using `LinearRegression`."
      ]
    },
    {
      "cell_type": "code",
      "execution_count": 9,
      "metadata": {
        "ExecuteTime": {
          "end_time": "2022-02-16T07:39:34.647226Z",
          "start_time": "2022-02-16T07:39:34.639540Z"
        },
        "colab": {
          "base_uri": "https://localhost:8080/"
        },
        "id": "LmuGTPTtndk-",
        "outputId": "96352724-c783-4a7a-9a4a-3b502fa5c43f"
      },
      "outputs": [
        {
          "output_type": "execute_result",
          "data": {
            "text/plain": [
              "array([[  1.,   1.,   1.,   1.],\n",
              "       [  3.,   9.,  27.,  81.],\n",
              "       [  4.,  16.,  64., 256.]])"
            ]
          },
          "metadata": {},
          "execution_count": 9
        }
      ],
      "source": [
        "PolynomialFeatures(degree=4, include_bias=False).fit_transform(X=[\n",
        "    [1],\n",
        "    [3],\n",
        "    [4],\n",
        "])"
      ]
    },
    {
      "cell_type": "code",
      "execution_count": 10,
      "metadata": {
        "ExecuteTime": {
          "end_time": "2022-02-16T07:40:49.993908Z",
          "start_time": "2022-02-16T07:40:49.959340Z"
        },
        "colab": {
          "base_uri": "https://localhost:8080/",
          "height": 449
        },
        "id": "G_xPQp0mndk-",
        "outputId": "c53a988a-61f6-4b78-d072-fb57bf560244"
      },
      "outputs": [
        {
          "output_type": "display_data",
          "data": {
            "text/plain": [
              "Pipeline(steps=[('pol', PolynomialFeatures(include_bias=False)),\n",
              "                ('sca', StandardScaler()), ('reg', LinearRegression())])"
            ],
            "text/html": [
              "<style>#sk-072ef2b2-3996-4f3e-93e6-7478d96d0b94 {color: black;background-color: white;}#sk-072ef2b2-3996-4f3e-93e6-7478d96d0b94 pre{padding: 0;}#sk-072ef2b2-3996-4f3e-93e6-7478d96d0b94 div.sk-toggleable {background-color: white;}#sk-072ef2b2-3996-4f3e-93e6-7478d96d0b94 label.sk-toggleable__label {cursor: pointer;display: block;width: 100%;margin-bottom: 0;padding: 0.3em;box-sizing: border-box;text-align: center;}#sk-072ef2b2-3996-4f3e-93e6-7478d96d0b94 label.sk-toggleable__label-arrow:before {content: \"▸\";float: left;margin-right: 0.25em;color: #696969;}#sk-072ef2b2-3996-4f3e-93e6-7478d96d0b94 label.sk-toggleable__label-arrow:hover:before {color: black;}#sk-072ef2b2-3996-4f3e-93e6-7478d96d0b94 div.sk-estimator:hover label.sk-toggleable__label-arrow:before {color: black;}#sk-072ef2b2-3996-4f3e-93e6-7478d96d0b94 div.sk-toggleable__content {max-height: 0;max-width: 0;overflow: hidden;text-align: left;background-color: #f0f8ff;}#sk-072ef2b2-3996-4f3e-93e6-7478d96d0b94 div.sk-toggleable__content pre {margin: 0.2em;color: black;border-radius: 0.25em;background-color: #f0f8ff;}#sk-072ef2b2-3996-4f3e-93e6-7478d96d0b94 input.sk-toggleable__control:checked~div.sk-toggleable__content {max-height: 200px;max-width: 100%;overflow: auto;}#sk-072ef2b2-3996-4f3e-93e6-7478d96d0b94 input.sk-toggleable__control:checked~label.sk-toggleable__label-arrow:before {content: \"▾\";}#sk-072ef2b2-3996-4f3e-93e6-7478d96d0b94 div.sk-estimator input.sk-toggleable__control:checked~label.sk-toggleable__label {background-color: #d4ebff;}#sk-072ef2b2-3996-4f3e-93e6-7478d96d0b94 div.sk-label input.sk-toggleable__control:checked~label.sk-toggleable__label {background-color: #d4ebff;}#sk-072ef2b2-3996-4f3e-93e6-7478d96d0b94 input.sk-hidden--visually {border: 0;clip: rect(1px 1px 1px 1px);clip: rect(1px, 1px, 1px, 1px);height: 1px;margin: -1px;overflow: hidden;padding: 0;position: absolute;width: 1px;}#sk-072ef2b2-3996-4f3e-93e6-7478d96d0b94 div.sk-estimator {font-family: monospace;background-color: #f0f8ff;border: 1px dotted black;border-radius: 0.25em;box-sizing: border-box;margin-bottom: 0.5em;}#sk-072ef2b2-3996-4f3e-93e6-7478d96d0b94 div.sk-estimator:hover {background-color: #d4ebff;}#sk-072ef2b2-3996-4f3e-93e6-7478d96d0b94 div.sk-parallel-item::after {content: \"\";width: 100%;border-bottom: 1px solid gray;flex-grow: 1;}#sk-072ef2b2-3996-4f3e-93e6-7478d96d0b94 div.sk-label:hover label.sk-toggleable__label {background-color: #d4ebff;}#sk-072ef2b2-3996-4f3e-93e6-7478d96d0b94 div.sk-serial::before {content: \"\";position: absolute;border-left: 1px solid gray;box-sizing: border-box;top: 2em;bottom: 0;left: 50%;}#sk-072ef2b2-3996-4f3e-93e6-7478d96d0b94 div.sk-serial {display: flex;flex-direction: column;align-items: center;background-color: white;padding-right: 0.2em;padding-left: 0.2em;}#sk-072ef2b2-3996-4f3e-93e6-7478d96d0b94 div.sk-item {z-index: 1;}#sk-072ef2b2-3996-4f3e-93e6-7478d96d0b94 div.sk-parallel {display: flex;align-items: stretch;justify-content: center;background-color: white;}#sk-072ef2b2-3996-4f3e-93e6-7478d96d0b94 div.sk-parallel::before {content: \"\";position: absolute;border-left: 1px solid gray;box-sizing: border-box;top: 2em;bottom: 0;left: 50%;}#sk-072ef2b2-3996-4f3e-93e6-7478d96d0b94 div.sk-parallel-item {display: flex;flex-direction: column;position: relative;background-color: white;}#sk-072ef2b2-3996-4f3e-93e6-7478d96d0b94 div.sk-parallel-item:first-child::after {align-self: flex-end;width: 50%;}#sk-072ef2b2-3996-4f3e-93e6-7478d96d0b94 div.sk-parallel-item:last-child::after {align-self: flex-start;width: 50%;}#sk-072ef2b2-3996-4f3e-93e6-7478d96d0b94 div.sk-parallel-item:only-child::after {width: 0;}#sk-072ef2b2-3996-4f3e-93e6-7478d96d0b94 div.sk-dashed-wrapped {border: 1px dashed gray;margin: 0 0.4em 0.5em 0.4em;box-sizing: border-box;padding-bottom: 0.4em;background-color: white;position: relative;}#sk-072ef2b2-3996-4f3e-93e6-7478d96d0b94 div.sk-label label {font-family: monospace;font-weight: bold;background-color: white;display: inline-block;line-height: 1.2em;}#sk-072ef2b2-3996-4f3e-93e6-7478d96d0b94 div.sk-label-container {position: relative;z-index: 2;text-align: center;}#sk-072ef2b2-3996-4f3e-93e6-7478d96d0b94 div.sk-container {/* jupyter's `normalize.less` sets `[hidden] { display: none; }` but bootstrap.min.css set `[hidden] { display: none !important; }` so we also need the `!important` here to be able to override the default hidden behavior on the sphinx rendered scikit-learn.org. See: https://github.com/scikit-learn/scikit-learn/issues/21755 */display: inline-block !important;position: relative;}#sk-072ef2b2-3996-4f3e-93e6-7478d96d0b94 div.sk-text-repr-fallback {display: none;}</style><div id=\"sk-072ef2b2-3996-4f3e-93e6-7478d96d0b94\" class=\"sk-top-container\"><div class=\"sk-text-repr-fallback\"><pre>Pipeline(steps=[(&#x27;pol&#x27;, PolynomialFeatures(include_bias=False)),\n",
              "                (&#x27;sca&#x27;, StandardScaler()), (&#x27;reg&#x27;, LinearRegression())])</pre><b>Please rerun this cell to show the HTML repr or trust the notebook.</b></div><div class=\"sk-container\" hidden><div class=\"sk-item sk-dashed-wrapped\"><div class=\"sk-label-container\"><div class=\"sk-label sk-toggleable\"><input class=\"sk-toggleable__control sk-hidden--visually\" id=\"86288b9b-815c-404e-ae42-7aaf520d2b13\" type=\"checkbox\" ><label for=\"86288b9b-815c-404e-ae42-7aaf520d2b13\" class=\"sk-toggleable__label sk-toggleable__label-arrow\">Pipeline</label><div class=\"sk-toggleable__content\"><pre>Pipeline(steps=[(&#x27;pol&#x27;, PolynomialFeatures(include_bias=False)),\n",
              "                (&#x27;sca&#x27;, StandardScaler()), (&#x27;reg&#x27;, LinearRegression())])</pre></div></div></div><div class=\"sk-serial\"><div class=\"sk-item\"><div class=\"sk-estimator sk-toggleable\"><input class=\"sk-toggleable__control sk-hidden--visually\" id=\"15b31c98-3e62-41bf-a28e-39d72106f4b6\" type=\"checkbox\" ><label for=\"15b31c98-3e62-41bf-a28e-39d72106f4b6\" class=\"sk-toggleable__label sk-toggleable__label-arrow\">PolynomialFeatures</label><div class=\"sk-toggleable__content\"><pre>PolynomialFeatures(include_bias=False)</pre></div></div></div><div class=\"sk-item\"><div class=\"sk-estimator sk-toggleable\"><input class=\"sk-toggleable__control sk-hidden--visually\" id=\"1c97f0fb-78bc-4e19-bd60-3b7b6bf61e73\" type=\"checkbox\" ><label for=\"1c97f0fb-78bc-4e19-bd60-3b7b6bf61e73\" class=\"sk-toggleable__label sk-toggleable__label-arrow\">StandardScaler</label><div class=\"sk-toggleable__content\"><pre>StandardScaler()</pre></div></div></div><div class=\"sk-item\"><div class=\"sk-estimator sk-toggleable\"><input class=\"sk-toggleable__control sk-hidden--visually\" id=\"3248a7b5-0e5c-4139-8466-273b32204ef9\" type=\"checkbox\" ><label for=\"3248a7b5-0e5c-4139-8466-273b32204ef9\" class=\"sk-toggleable__label sk-toggleable__label-arrow\">LinearRegression</label><div class=\"sk-toggleable__content\"><pre>LinearRegression()</pre></div></div></div></div></div></div></div>"
            ]
          },
          "metadata": {}
        },
        {
          "output_type": "display_data",
          "data": {
            "text/plain": [
              "Pipeline(steps=[('pol', PolynomialFeatures(include_bias=False)),\n",
              "                ('sca', StandardScaler()),\n",
              "                ('reg', Lasso(alpha=0.1, max_iter=50000, random_state=42))])"
            ],
            "text/html": [
              "<style>#sk-2f111ea6-c952-4fcc-8fa3-8f97722c4459 {color: black;background-color: white;}#sk-2f111ea6-c952-4fcc-8fa3-8f97722c4459 pre{padding: 0;}#sk-2f111ea6-c952-4fcc-8fa3-8f97722c4459 div.sk-toggleable {background-color: white;}#sk-2f111ea6-c952-4fcc-8fa3-8f97722c4459 label.sk-toggleable__label {cursor: pointer;display: block;width: 100%;margin-bottom: 0;padding: 0.3em;box-sizing: border-box;text-align: center;}#sk-2f111ea6-c952-4fcc-8fa3-8f97722c4459 label.sk-toggleable__label-arrow:before {content: \"▸\";float: left;margin-right: 0.25em;color: #696969;}#sk-2f111ea6-c952-4fcc-8fa3-8f97722c4459 label.sk-toggleable__label-arrow:hover:before {color: black;}#sk-2f111ea6-c952-4fcc-8fa3-8f97722c4459 div.sk-estimator:hover label.sk-toggleable__label-arrow:before {color: black;}#sk-2f111ea6-c952-4fcc-8fa3-8f97722c4459 div.sk-toggleable__content {max-height: 0;max-width: 0;overflow: hidden;text-align: left;background-color: #f0f8ff;}#sk-2f111ea6-c952-4fcc-8fa3-8f97722c4459 div.sk-toggleable__content pre {margin: 0.2em;color: black;border-radius: 0.25em;background-color: #f0f8ff;}#sk-2f111ea6-c952-4fcc-8fa3-8f97722c4459 input.sk-toggleable__control:checked~div.sk-toggleable__content {max-height: 200px;max-width: 100%;overflow: auto;}#sk-2f111ea6-c952-4fcc-8fa3-8f97722c4459 input.sk-toggleable__control:checked~label.sk-toggleable__label-arrow:before {content: \"▾\";}#sk-2f111ea6-c952-4fcc-8fa3-8f97722c4459 div.sk-estimator input.sk-toggleable__control:checked~label.sk-toggleable__label {background-color: #d4ebff;}#sk-2f111ea6-c952-4fcc-8fa3-8f97722c4459 div.sk-label input.sk-toggleable__control:checked~label.sk-toggleable__label {background-color: #d4ebff;}#sk-2f111ea6-c952-4fcc-8fa3-8f97722c4459 input.sk-hidden--visually {border: 0;clip: rect(1px 1px 1px 1px);clip: rect(1px, 1px, 1px, 1px);height: 1px;margin: -1px;overflow: hidden;padding: 0;position: absolute;width: 1px;}#sk-2f111ea6-c952-4fcc-8fa3-8f97722c4459 div.sk-estimator {font-family: monospace;background-color: #f0f8ff;border: 1px dotted black;border-radius: 0.25em;box-sizing: border-box;margin-bottom: 0.5em;}#sk-2f111ea6-c952-4fcc-8fa3-8f97722c4459 div.sk-estimator:hover {background-color: #d4ebff;}#sk-2f111ea6-c952-4fcc-8fa3-8f97722c4459 div.sk-parallel-item::after {content: \"\";width: 100%;border-bottom: 1px solid gray;flex-grow: 1;}#sk-2f111ea6-c952-4fcc-8fa3-8f97722c4459 div.sk-label:hover label.sk-toggleable__label {background-color: #d4ebff;}#sk-2f111ea6-c952-4fcc-8fa3-8f97722c4459 div.sk-serial::before {content: \"\";position: absolute;border-left: 1px solid gray;box-sizing: border-box;top: 2em;bottom: 0;left: 50%;}#sk-2f111ea6-c952-4fcc-8fa3-8f97722c4459 div.sk-serial {display: flex;flex-direction: column;align-items: center;background-color: white;padding-right: 0.2em;padding-left: 0.2em;}#sk-2f111ea6-c952-4fcc-8fa3-8f97722c4459 div.sk-item {z-index: 1;}#sk-2f111ea6-c952-4fcc-8fa3-8f97722c4459 div.sk-parallel {display: flex;align-items: stretch;justify-content: center;background-color: white;}#sk-2f111ea6-c952-4fcc-8fa3-8f97722c4459 div.sk-parallel::before {content: \"\";position: absolute;border-left: 1px solid gray;box-sizing: border-box;top: 2em;bottom: 0;left: 50%;}#sk-2f111ea6-c952-4fcc-8fa3-8f97722c4459 div.sk-parallel-item {display: flex;flex-direction: column;position: relative;background-color: white;}#sk-2f111ea6-c952-4fcc-8fa3-8f97722c4459 div.sk-parallel-item:first-child::after {align-self: flex-end;width: 50%;}#sk-2f111ea6-c952-4fcc-8fa3-8f97722c4459 div.sk-parallel-item:last-child::after {align-self: flex-start;width: 50%;}#sk-2f111ea6-c952-4fcc-8fa3-8f97722c4459 div.sk-parallel-item:only-child::after {width: 0;}#sk-2f111ea6-c952-4fcc-8fa3-8f97722c4459 div.sk-dashed-wrapped {border: 1px dashed gray;margin: 0 0.4em 0.5em 0.4em;box-sizing: border-box;padding-bottom: 0.4em;background-color: white;position: relative;}#sk-2f111ea6-c952-4fcc-8fa3-8f97722c4459 div.sk-label label {font-family: monospace;font-weight: bold;background-color: white;display: inline-block;line-height: 1.2em;}#sk-2f111ea6-c952-4fcc-8fa3-8f97722c4459 div.sk-label-container {position: relative;z-index: 2;text-align: center;}#sk-2f111ea6-c952-4fcc-8fa3-8f97722c4459 div.sk-container {/* jupyter's `normalize.less` sets `[hidden] { display: none; }` but bootstrap.min.css set `[hidden] { display: none !important; }` so we also need the `!important` here to be able to override the default hidden behavior on the sphinx rendered scikit-learn.org. See: https://github.com/scikit-learn/scikit-learn/issues/21755 */display: inline-block !important;position: relative;}#sk-2f111ea6-c952-4fcc-8fa3-8f97722c4459 div.sk-text-repr-fallback {display: none;}</style><div id=\"sk-2f111ea6-c952-4fcc-8fa3-8f97722c4459\" class=\"sk-top-container\"><div class=\"sk-text-repr-fallback\"><pre>Pipeline(steps=[(&#x27;pol&#x27;, PolynomialFeatures(include_bias=False)),\n",
              "                (&#x27;sca&#x27;, StandardScaler()),\n",
              "                (&#x27;reg&#x27;, Lasso(alpha=0.1, max_iter=50000, random_state=42))])</pre><b>Please rerun this cell to show the HTML repr or trust the notebook.</b></div><div class=\"sk-container\" hidden><div class=\"sk-item sk-dashed-wrapped\"><div class=\"sk-label-container\"><div class=\"sk-label sk-toggleable\"><input class=\"sk-toggleable__control sk-hidden--visually\" id=\"1cab63ba-3d33-464e-831b-1d02c6af5805\" type=\"checkbox\" ><label for=\"1cab63ba-3d33-464e-831b-1d02c6af5805\" class=\"sk-toggleable__label sk-toggleable__label-arrow\">Pipeline</label><div class=\"sk-toggleable__content\"><pre>Pipeline(steps=[(&#x27;pol&#x27;, PolynomialFeatures(include_bias=False)),\n",
              "                (&#x27;sca&#x27;, StandardScaler()),\n",
              "                (&#x27;reg&#x27;, Lasso(alpha=0.1, max_iter=50000, random_state=42))])</pre></div></div></div><div class=\"sk-serial\"><div class=\"sk-item\"><div class=\"sk-estimator sk-toggleable\"><input class=\"sk-toggleable__control sk-hidden--visually\" id=\"8d75b810-8c9f-4bf4-96fe-6640b3b654e1\" type=\"checkbox\" ><label for=\"8d75b810-8c9f-4bf4-96fe-6640b3b654e1\" class=\"sk-toggleable__label sk-toggleable__label-arrow\">PolynomialFeatures</label><div class=\"sk-toggleable__content\"><pre>PolynomialFeatures(include_bias=False)</pre></div></div></div><div class=\"sk-item\"><div class=\"sk-estimator sk-toggleable\"><input class=\"sk-toggleable__control sk-hidden--visually\" id=\"7ce386ad-75dd-438a-bd72-eb721c7f4659\" type=\"checkbox\" ><label for=\"7ce386ad-75dd-438a-bd72-eb721c7f4659\" class=\"sk-toggleable__label sk-toggleable__label-arrow\">StandardScaler</label><div class=\"sk-toggleable__content\"><pre>StandardScaler()</pre></div></div></div><div class=\"sk-item\"><div class=\"sk-estimator sk-toggleable\"><input class=\"sk-toggleable__control sk-hidden--visually\" id=\"2d7fe535-da2b-4756-8e2b-b4f1c1241cd3\" type=\"checkbox\" ><label for=\"2d7fe535-da2b-4756-8e2b-b4f1c1241cd3\" class=\"sk-toggleable__label sk-toggleable__label-arrow\">Lasso</label><div class=\"sk-toggleable__content\"><pre>Lasso(alpha=0.1, max_iter=50000, random_state=42)</pre></div></div></div></div></div></div></div>"
            ]
          },
          "metadata": {}
        },
        {
          "output_type": "display_data",
          "data": {
            "text/plain": [
              "Pipeline(steps=[('pol', PolynomialFeatures(include_bias=False)),\n",
              "                ('sca', StandardScaler()),\n",
              "                ('reg', Ridge(alpha=0.1, max_iter=50000, random_state=42))])"
            ],
            "text/html": [
              "<style>#sk-2d3ae7c7-0aba-4c07-9161-74e00fcfd64e {color: black;background-color: white;}#sk-2d3ae7c7-0aba-4c07-9161-74e00fcfd64e pre{padding: 0;}#sk-2d3ae7c7-0aba-4c07-9161-74e00fcfd64e div.sk-toggleable {background-color: white;}#sk-2d3ae7c7-0aba-4c07-9161-74e00fcfd64e label.sk-toggleable__label {cursor: pointer;display: block;width: 100%;margin-bottom: 0;padding: 0.3em;box-sizing: border-box;text-align: center;}#sk-2d3ae7c7-0aba-4c07-9161-74e00fcfd64e label.sk-toggleable__label-arrow:before {content: \"▸\";float: left;margin-right: 0.25em;color: #696969;}#sk-2d3ae7c7-0aba-4c07-9161-74e00fcfd64e label.sk-toggleable__label-arrow:hover:before {color: black;}#sk-2d3ae7c7-0aba-4c07-9161-74e00fcfd64e div.sk-estimator:hover label.sk-toggleable__label-arrow:before {color: black;}#sk-2d3ae7c7-0aba-4c07-9161-74e00fcfd64e div.sk-toggleable__content {max-height: 0;max-width: 0;overflow: hidden;text-align: left;background-color: #f0f8ff;}#sk-2d3ae7c7-0aba-4c07-9161-74e00fcfd64e div.sk-toggleable__content pre {margin: 0.2em;color: black;border-radius: 0.25em;background-color: #f0f8ff;}#sk-2d3ae7c7-0aba-4c07-9161-74e00fcfd64e input.sk-toggleable__control:checked~div.sk-toggleable__content {max-height: 200px;max-width: 100%;overflow: auto;}#sk-2d3ae7c7-0aba-4c07-9161-74e00fcfd64e input.sk-toggleable__control:checked~label.sk-toggleable__label-arrow:before {content: \"▾\";}#sk-2d3ae7c7-0aba-4c07-9161-74e00fcfd64e div.sk-estimator input.sk-toggleable__control:checked~label.sk-toggleable__label {background-color: #d4ebff;}#sk-2d3ae7c7-0aba-4c07-9161-74e00fcfd64e div.sk-label input.sk-toggleable__control:checked~label.sk-toggleable__label {background-color: #d4ebff;}#sk-2d3ae7c7-0aba-4c07-9161-74e00fcfd64e input.sk-hidden--visually {border: 0;clip: rect(1px 1px 1px 1px);clip: rect(1px, 1px, 1px, 1px);height: 1px;margin: -1px;overflow: hidden;padding: 0;position: absolute;width: 1px;}#sk-2d3ae7c7-0aba-4c07-9161-74e00fcfd64e div.sk-estimator {font-family: monospace;background-color: #f0f8ff;border: 1px dotted black;border-radius: 0.25em;box-sizing: border-box;margin-bottom: 0.5em;}#sk-2d3ae7c7-0aba-4c07-9161-74e00fcfd64e div.sk-estimator:hover {background-color: #d4ebff;}#sk-2d3ae7c7-0aba-4c07-9161-74e00fcfd64e div.sk-parallel-item::after {content: \"\";width: 100%;border-bottom: 1px solid gray;flex-grow: 1;}#sk-2d3ae7c7-0aba-4c07-9161-74e00fcfd64e div.sk-label:hover label.sk-toggleable__label {background-color: #d4ebff;}#sk-2d3ae7c7-0aba-4c07-9161-74e00fcfd64e div.sk-serial::before {content: \"\";position: absolute;border-left: 1px solid gray;box-sizing: border-box;top: 2em;bottom: 0;left: 50%;}#sk-2d3ae7c7-0aba-4c07-9161-74e00fcfd64e div.sk-serial {display: flex;flex-direction: column;align-items: center;background-color: white;padding-right: 0.2em;padding-left: 0.2em;}#sk-2d3ae7c7-0aba-4c07-9161-74e00fcfd64e div.sk-item {z-index: 1;}#sk-2d3ae7c7-0aba-4c07-9161-74e00fcfd64e div.sk-parallel {display: flex;align-items: stretch;justify-content: center;background-color: white;}#sk-2d3ae7c7-0aba-4c07-9161-74e00fcfd64e div.sk-parallel::before {content: \"\";position: absolute;border-left: 1px solid gray;box-sizing: border-box;top: 2em;bottom: 0;left: 50%;}#sk-2d3ae7c7-0aba-4c07-9161-74e00fcfd64e div.sk-parallel-item {display: flex;flex-direction: column;position: relative;background-color: white;}#sk-2d3ae7c7-0aba-4c07-9161-74e00fcfd64e div.sk-parallel-item:first-child::after {align-self: flex-end;width: 50%;}#sk-2d3ae7c7-0aba-4c07-9161-74e00fcfd64e div.sk-parallel-item:last-child::after {align-self: flex-start;width: 50%;}#sk-2d3ae7c7-0aba-4c07-9161-74e00fcfd64e div.sk-parallel-item:only-child::after {width: 0;}#sk-2d3ae7c7-0aba-4c07-9161-74e00fcfd64e div.sk-dashed-wrapped {border: 1px dashed gray;margin: 0 0.4em 0.5em 0.4em;box-sizing: border-box;padding-bottom: 0.4em;background-color: white;position: relative;}#sk-2d3ae7c7-0aba-4c07-9161-74e00fcfd64e div.sk-label label {font-family: monospace;font-weight: bold;background-color: white;display: inline-block;line-height: 1.2em;}#sk-2d3ae7c7-0aba-4c07-9161-74e00fcfd64e div.sk-label-container {position: relative;z-index: 2;text-align: center;}#sk-2d3ae7c7-0aba-4c07-9161-74e00fcfd64e div.sk-container {/* jupyter's `normalize.less` sets `[hidden] { display: none; }` but bootstrap.min.css set `[hidden] { display: none !important; }` so we also need the `!important` here to be able to override the default hidden behavior on the sphinx rendered scikit-learn.org. See: https://github.com/scikit-learn/scikit-learn/issues/21755 */display: inline-block !important;position: relative;}#sk-2d3ae7c7-0aba-4c07-9161-74e00fcfd64e div.sk-text-repr-fallback {display: none;}</style><div id=\"sk-2d3ae7c7-0aba-4c07-9161-74e00fcfd64e\" class=\"sk-top-container\"><div class=\"sk-text-repr-fallback\"><pre>Pipeline(steps=[(&#x27;pol&#x27;, PolynomialFeatures(include_bias=False)),\n",
              "                (&#x27;sca&#x27;, StandardScaler()),\n",
              "                (&#x27;reg&#x27;, Ridge(alpha=0.1, max_iter=50000, random_state=42))])</pre><b>Please rerun this cell to show the HTML repr or trust the notebook.</b></div><div class=\"sk-container\" hidden><div class=\"sk-item sk-dashed-wrapped\"><div class=\"sk-label-container\"><div class=\"sk-label sk-toggleable\"><input class=\"sk-toggleable__control sk-hidden--visually\" id=\"961c699f-69b5-4f58-a5eb-59b40869db7e\" type=\"checkbox\" ><label for=\"961c699f-69b5-4f58-a5eb-59b40869db7e\" class=\"sk-toggleable__label sk-toggleable__label-arrow\">Pipeline</label><div class=\"sk-toggleable__content\"><pre>Pipeline(steps=[(&#x27;pol&#x27;, PolynomialFeatures(include_bias=False)),\n",
              "                (&#x27;sca&#x27;, StandardScaler()),\n",
              "                (&#x27;reg&#x27;, Ridge(alpha=0.1, max_iter=50000, random_state=42))])</pre></div></div></div><div class=\"sk-serial\"><div class=\"sk-item\"><div class=\"sk-estimator sk-toggleable\"><input class=\"sk-toggleable__control sk-hidden--visually\" id=\"a33a5402-0c2b-43a3-8c14-95191c362fca\" type=\"checkbox\" ><label for=\"a33a5402-0c2b-43a3-8c14-95191c362fca\" class=\"sk-toggleable__label sk-toggleable__label-arrow\">PolynomialFeatures</label><div class=\"sk-toggleable__content\"><pre>PolynomialFeatures(include_bias=False)</pre></div></div></div><div class=\"sk-item\"><div class=\"sk-estimator sk-toggleable\"><input class=\"sk-toggleable__control sk-hidden--visually\" id=\"6f3a08e5-1db7-4378-8966-aa61ce599d45\" type=\"checkbox\" ><label for=\"6f3a08e5-1db7-4378-8966-aa61ce599d45\" class=\"sk-toggleable__label sk-toggleable__label-arrow\">StandardScaler</label><div class=\"sk-toggleable__content\"><pre>StandardScaler()</pre></div></div></div><div class=\"sk-item\"><div class=\"sk-estimator sk-toggleable\"><input class=\"sk-toggleable__control sk-hidden--visually\" id=\"60a74d89-601e-47ce-a3b6-825e9a7fa656\" type=\"checkbox\" ><label for=\"60a74d89-601e-47ce-a3b6-825e9a7fa656\" class=\"sk-toggleable__label sk-toggleable__label-arrow\">Ridge</label><div class=\"sk-toggleable__content\"><pre>Ridge(alpha=0.1, max_iter=50000, random_state=42)</pre></div></div></div></div></div></div></div>"
            ]
          },
          "metadata": {}
        }
      ],
      "source": [
        "def make_model(degree, alpha=0, penalty=None):\n",
        "    # linear regression\n",
        "    if alpha == 0:\n",
        "        regressor = LinearRegression()\n",
        "    # lasso regression\",\n",
        "    elif penalty == 'L1':\n",
        "        regressor = Lasso(alpha=alpha, random_state=SEED, max_iter=50000)\n",
        "    # ridge regression\",\n",
        "    elif penalty == 'L2':\n",
        "        regressor = Ridge(alpha=alpha, random_state=SEED, max_iter=50000) \n",
        "    \n",
        "    \n",
        "    return Pipeline([\n",
        "        ('pol', PolynomialFeatures(degree, include_bias=(degree == 0))),\n",
        "        ('sca', StandardScaler()),\n",
        "        ('reg', regressor)\n",
        "    ])\n",
        "\n",
        "display(make_model(2))\n",
        "display(make_model(2, penalty='L1', alpha=0.1))\n",
        "display(make_model(2, penalty='L2', alpha=0.1))"
      ]
    },
    {
      "cell_type": "markdown",
      "metadata": {
        "id": "dSm9SaHxndk_"
      },
      "source": [
        "### Fit"
      ]
    },
    {
      "cell_type": "markdown",
      "metadata": {
        "id": "3mRwRiqQndk_"
      },
      "source": [
        "Let's fit a model and plot the hypothesis it learns:"
      ]
    },
    {
      "cell_type": "code",
      "execution_count": 11,
      "metadata": {
        "ExecuteTime": {
          "end_time": "2022-02-16T07:40:51.426785Z",
          "start_time": "2022-02-16T07:40:51.209830Z"
        },
        "colab": {
          "base_uri": "https://localhost:8080/",
          "height": 295
        },
        "id": "VFFuqwOIndk_",
        "outputId": "fbbc77c1-f027-42dd-f200-e709473532cd"
      },
      "outputs": [
        {
          "output_type": "display_data",
          "data": {
            "text/plain": [
              "<Figure size 432x288 with 1 Axes>"
            ],
            "image/png": "[encoded data removed]"
          },
          "metadata": {
            "needs_background": "light"
          }
        }
      ],
      "source": [
        "def plot_fit(model):\n",
        "    degree = model['pol'].degree\n",
        "    X_range = np.linspace(*RANGE, 1000).reshape(-1, 1)\n",
        "    y_pred = model.predict(X_range)\n",
        "    plot_scatter(X_train, y_train, label='Training sample')\n",
        "    plot_scatter(X_valid, y_valid, label='Validation sample')\n",
        "    plt.plot(X_range, target_function(X_range), c='green', alpha=0.2, lw=5, label='Target function')\n",
        "    plt.plot(X_range, y_pred, c='red', label='Hypothesis')\n",
        "    plt.ylim((min(y) - 3, max(y) + 3))\n",
        "    plt.legend(loc='best')    \n",
        "    plt.title(f'Polynomial approximation: degree={degree}')\n",
        "    plt.show()\n",
        "\n",
        "plot_fit(make_model(degree=2).fit(X_train, y_train))"
      ]
    },
    {
      "cell_type": "markdown",
      "metadata": {
        "id": "1qYcTbMwndk_"
      },
      "source": [
        "### From underfitting to overfitting"
      ]
    },
    {
      "cell_type": "markdown",
      "metadata": {
        "ExecuteTime": {
          "end_time": "2020-11-09T11:15:24.323458Z",
          "start_time": "2020-11-09T11:15:24.318089Z"
        },
        "id": "snM_WFXzndk_"
      },
      "source": [
        "We can investigate the shape of the fitted curve for different values of `degree`:"
      ]
    },
    {
      "cell_type": "code",
      "execution_count": 12,
      "metadata": {
        "ExecuteTime": {
          "end_time": "2022-02-16T07:40:54.236522Z",
          "start_time": "2022-02-16T07:40:52.748262Z"
        },
        "scrolled": false,
        "colab": {
          "base_uri": "https://localhost:8080/",
          "height": 1000
        },
        "id": "cfUKzFdundk_",
        "outputId": "c3f8b957-b683-4891-fbfd-b80063be525c"
      },
      "outputs": [
        {
          "output_type": "display_data",
          "data": {
            "text/plain": [
              "<Figure size 432x288 with 1 Axes>"
            ],
            "image/png": "[encoded data removed]"
          },
          "metadata": {
            "needs_background": "light"
          }
        },
        {
          "output_type": "display_data",
          "data": {
            "text/plain": [
              "<Figure size 432x288 with 1 Axes>"
            ],
            "image/png": "[encoded data removed]"
          },
          "metadata": {
            "needs_background": "light"
          }
        },
        {
          "output_type": "display_data",
          "data": {
            "text/plain": [
              "<Figure size 432x288 with 1 Axes>"
            ],
            "image/png": "[encoded data removed]"
          },
          "metadata": {
            "needs_background": "light"
          }
        },
        {
          "output_type": "display_data",
          "data": {
            "text/plain": [
              "<Figure size 432x288 with 1 Axes>"
            ],
            "image/png": "[encoded data removed]"
          },
          "metadata": {
            "needs_background": "light"
          }
        },
        {
          "output_type": "display_data",
          "data": {
            "text/plain": [
              "<Figure size 432x288 with 1 Axes>"
            ],
            "image/png": "[encoded data removed]"
          },
          "metadata": {
            "needs_background": "light"
          }
        },
        {
          "output_type": "display_data",
          "data": {
            "text/plain": [
              "<Figure size 432x288 with 1 Axes>"
            ],
            "image/png": "[encoded data removed]"
          },
          "metadata": {
            "needs_background": "light"
          }
        },
        {
          "output_type": "display_data",
          "data": {
            "text/plain": [
              "<Figure size 432x288 with 1 Axes>"
            ],
            "image/png": "[encoded data removed]"
          },
          "metadata": {
            "needs_background": "light"
          }
        },
        {
          "output_type": "display_data",
          "data": {
            "text/plain": [
              "<Figure size 432x288 with 1 Axes>"
            ],
            "image/png": "[encoded data removed]"
          },
          "metadata": {
            "needs_background": "light"
          }
        },
        {
          "output_type": "display_data",
          "data": {
            "text/plain": [
              "<Figure size 432x288 with 1 Axes>"
            ],
            "image/png": "[encoded data removed]"
          },
          "metadata": {
            "needs_background": "light"
          }
        }
      ],
      "source": [
        "for degree in [0, 1, 2, 3, 4, 5, 10, 15, 20]:\n",
        "    plot_fit(make_model(degree).fit(X_train, y_train))"
      ]
    },
    {
      "cell_type": "markdown",
      "metadata": {
        "id": "6d-NHP-cndk_"
      },
      "source": [
        "### Fitting graph"
      ]
    },
    {
      "cell_type": "markdown",
      "metadata": {
        "id": "bu6J-dJRndk_"
      },
      "source": [
        "In the next step we calculate the training and the validation error for each `degree` and plot them in a single graph. The resulting graph is called the fitting graph."
      ]
    },
    {
      "cell_type": "code",
      "execution_count": 13,
      "metadata": {
        "ExecuteTime": {
          "end_time": "2021-12-15T20:32:47.308471Z",
          "start_time": "2021-12-15T20:32:47.036535Z"
        },
        "colab": {
          "base_uri": "https://localhost:8080/",
          "height": 325
        },
        "id": "gZ8eyY8CndlA",
        "outputId": "adf0d73c-d55b-49c5-c59f-59d37fcd57b7"
      },
      "outputs": [
        {
          "output_type": "display_data",
          "data": {
            "text/plain": [
              "<Figure size 648x324 with 1 Axes>"
            ],
            "image/png": "[encoded data removed]"
          },
          "metadata": {
            "needs_background": "light"
          }
        }
      ],
      "source": [
        "def rmse(y_true, y_pred):\n",
        "    return np.sqrt(mean_squared_error(y_true, y_pred))\n",
        "\n",
        "def plot_fitting_graph(x, metric_train, metric_valid, xlabel, ylabel, \n",
        "                       custom_metric=None, custom_label='', custom_scale='log', title='Fitting graph'):\n",
        "    plt.figure(figsize=(9, 4.5))\n",
        "    plt.plot(x, metric_train, label='Training')\n",
        "    plt.plot(x, metric_valid, color='C1', label='Validation')\n",
        "    plt.axvline(x[np.argmin(metric_valid)], color='C1', lw=10, alpha=0.2)\n",
        "    plt.title(title)\n",
        "    plt.xlabel(xlabel)\n",
        "    plt.ylabel(ylabel)\n",
        "    plt.grid(True)\n",
        "    plt.xticks(x, rotation='vertical')\n",
        "    plt.legend(loc='center left')        \n",
        "    if custom_metric:\n",
        "        plt.twinx()\n",
        "        plt.yscale(custom_scale)\n",
        "        plt.plot(x, custom_metric, alpha=0.2, lw=4, ls='dotted', color='black', label=custom_label) \n",
        "        plt.legend(loc='center right')         \n",
        "    plt.show()\n",
        "    \n",
        "rmse_train, rmse_valid = [], []\n",
        "for degree in DEGREES:\n",
        "    reg = make_model(degree).fit(X_train, y_train)\n",
        "    rmse_train.append(rmse(reg.predict(X_train), y_train))\n",
        "    rmse_valid.append(rmse(reg.predict(X_valid), y_valid))\n",
        "    \n",
        "plot_fitting_graph(DEGREES, rmse_train, rmse_valid, xlabel='Complexity (degree)', ylabel='Error (RMSE)', \n",
        "                   title='Least squares polynomial regression')"
      ]
    },
    {
      "cell_type": "markdown",
      "metadata": {
        "id": "4RIB84otndlA"
      },
      "source": [
        "### Sweet spot"
      ]
    },
    {
      "cell_type": "markdown",
      "metadata": {
        "id": "fS1nS4UvndlA"
      },
      "source": [
        "What is the optimal `degree` to go with?"
      ]
    },
    {
      "cell_type": "code",
      "execution_count": 14,
      "metadata": {
        "ExecuteTime": {
          "end_time": "2021-12-15T20:32:47.324492Z",
          "start_time": "2021-12-15T20:32:47.308471Z"
        },
        "colab": {
          "base_uri": "https://localhost:8080/"
        },
        "id": "UGhU_JARndlA",
        "outputId": "b60e60c6-4a2e-4fd4-e200-e30b92cad73e"
      },
      "outputs": [
        {
          "output_type": "execute_result",
          "data": {
            "text/plain": [
              "5"
            ]
          },
          "metadata": {},
          "execution_count": 14
        }
      ],
      "source": [
        "DEGREES[np.argmin(rmse_valid)]"
      ]
    },
    {
      "cell_type": "markdown",
      "metadata": {
        "id": "D_VJYJdzndlA"
      },
      "source": [
        "### Cross-validation"
      ]
    },
    {
      "cell_type": "markdown",
      "metadata": {
        "id": "P1RJfsiFndlA"
      },
      "source": [
        "Ideally, we would choose the the model parameters such that we have the best model performance. However, we want to make sure that we really have the best validation performance. When we do `train_test_split` we randomly split the data into two parts. What could happen is that we got lucky and split the data such that it favours the validation error. This is especially dangerous if we are dealing with small datasets. One way to check if that's the case is to run the experiment several times for different, random splits. However, there is an even more systematic way of doing this: [cross-validation](https://scikit-learn.org/stable/modules/cross_validation.html)."
      ]
    },
    {
      "cell_type": "markdown",
      "metadata": {
        "id": "60XOE2idndlA"
      },
      "source": [
        "<img src=\"https://scikit-learn.org/stable/_images/grid_search_cross_validation.png\" width=50% />"
      ]
    },
    {
      "cell_type": "code",
      "execution_count": 15,
      "metadata": {
        "ExecuteTime": {
          "end_time": "2021-12-15T20:32:47.788153Z",
          "start_time": "2021-12-15T20:32:47.324492Z"
        },
        "colab": {
          "base_uri": "https://localhost:8080/",
          "height": 325
        },
        "id": "5OyG4t75ndlA",
        "outputId": "0c2947a8-b09c-47e0-9492-10686a47cf6d"
      },
      "outputs": [
        {
          "output_type": "display_data",
          "data": {
            "text/plain": [
              "<Figure size 648x324 with 1 Axes>"
            ],
            "image/png": "[encoded data removed]"
          },
          "metadata": {
            "needs_background": "light"
          }
        }
      ],
      "source": [
        "rmse_train, rmse_valid = [], []\n",
        "for degree in DEGREES:\n",
        "    results = cross_validate(make_model(degree), \n",
        "                             X, y, cv=5,\n",
        "                             return_train_score=True,\n",
        "                             scoring='neg_root_mean_squared_error')\n",
        "    rmse_train.append(-np.mean(results['train_score']))\n",
        "    rmse_valid.append(-np.mean(results['test_score']))\n",
        "    \n",
        "plot_fitting_graph(DEGREES, rmse_train, rmse_valid, xlabel='Complexity (degree)', ylabel='Error (RMSE)',\n",
        "                   title='Least squares polynomial regression')"
      ]
    },
    {
      "cell_type": "markdown",
      "metadata": {
        "id": "JoDh_1ACndlA"
      },
      "source": [
        "### Model coefficients"
      ]
    },
    {
      "cell_type": "markdown",
      "metadata": {
        "ExecuteTime": {
          "end_time": "2020-11-05T16:26:33.200639Z",
          "start_time": "2020-11-05T16:26:33.197656Z"
        },
        "id": "5CxBDCc1ndlA"
      },
      "source": [
        "Let's inspect our regression model coefficients:"
      ]
    },
    {
      "cell_type": "code",
      "execution_count": 16,
      "metadata": {
        "ExecuteTime": {
          "end_time": "2021-12-15T20:32:47.820142Z",
          "start_time": "2021-12-15T20:32:47.788153Z"
        },
        "colab": {
          "base_uri": "https://localhost:8080/"
        },
        "id": "EWSsxVAondlB",
        "outputId": "f63399da-4c58-4019-a3d7-ab060e27ee4b"
      },
      "outputs": [
        {
          "output_type": "execute_result",
          "data": {
            "text/plain": [
              "(array([2.81292778]),\n",
              " array([2.80049884, 0.45166501]),\n",
              " array([ 30.87315584,   1.48752361, -54.60227825,  -1.63699842,\n",
              "         26.62792933]),\n",
              " array([  33.63850705,  -41.86346242,  -70.48743112,  278.98853452,\n",
              "          27.48125634, -656.36383501,   59.32988346,  651.64795186,\n",
              "         -47.55728814, -233.48455138]))"
            ]
          },
          "metadata": {},
          "execution_count": 16
        }
      ],
      "source": [
        "(make_model(degree=1).fit(X_train, y_train)['reg'].coef_,\n",
        " make_model(degree=2).fit(X_train, y_train)['reg'].coef_,\n",
        " make_model(degree=5).fit(X_train, y_train)['reg'].coef_,\n",
        " make_model(degree=10).fit(X_train, y_train)['reg'].coef_)"
      ]
    },
    {
      "cell_type": "markdown",
      "metadata": {
        "id": "ARzZvbkFndlB"
      },
      "source": [
        "Hmm... it looks like high degree polynomials are coming with much bigger regression coefficients. \n",
        "\n",
        "We are going to plot the mean absolute value of $w_i$ as a function of degree to reveal the relationship:"
      ]
    },
    {
      "cell_type": "code",
      "execution_count": 17,
      "metadata": {
        "ExecuteTime": {
          "end_time": "2021-12-15T20:32:48.876099Z",
          "start_time": "2021-12-15T20:32:47.820142Z"
        },
        "colab": {
          "base_uri": "https://localhost:8080/",
          "height": 325
        },
        "id": "bEcAV3bqndlB",
        "outputId": "3b37ac22-8407-47ce-a768-4169e5ebf462"
      },
      "outputs": [
        {
          "output_type": "display_data",
          "data": {
            "text/plain": [
              "<Figure size 648x324 with 2 Axes>"
            ],
            "image/png": "[encoded data removed]"
          },
          "metadata": {
            "needs_background": "light"
          }
        }
      ],
      "source": [
        "rmse_train, rmse_valid, avg_coef = [], [], []\n",
        "for degree in DEGREES:\n",
        "    results = cross_validate(make_model(degree),\n",
        "                             X, y, cv=5,\n",
        "                             return_train_score=True, return_estimator=True,\n",
        "                             scoring='neg_root_mean_squared_error')\n",
        "    rmse_train.append(-np.mean(results['train_score']))\n",
        "    rmse_valid.append(-np.mean(results['test_score']))        \n",
        "    avg_coef.append(        \n",
        "        # average over CV folds\n",
        "        np.mean([            \n",
        "            # mean absolute value of weights\n",
        "            np.mean(np.abs(model['reg'].coef_))\n",
        "            for model in results['estimator']\n",
        "        ]))\n",
        "    \n",
        "plot_fitting_graph(DEGREES, rmse_train, rmse_valid,\n",
        "                   xlabel='Complexity (degree)', ylabel='Error (RMSE)',\n",
        "                   custom_metric=avg_coef, custom_label='avg(|$w_i$|)',\n",
        "                   title='Least squares polynomial regression')"
      ]
    },
    {
      "cell_type": "markdown",
      "metadata": {
        "ExecuteTime": {
          "end_time": "2020-11-09T15:24:18.245064Z",
          "start_time": "2020-11-09T15:24:18.241548Z"
        },
        "id": "6W5N5x4undlB"
      },
      "source": [
        "### Summary"
      ]
    },
    {
      "cell_type": "markdown",
      "metadata": {
        "id": "LwyOhLAZndlB"
      },
      "source": [
        "We observe the following:\n",
        "\n",
        "1. **Underfitting** (degree < 5): The model is not able to fit the data properly. The fit is bad for both the training and the validation set.\n",
        "\n",
        "2. **Fit is just right** (degree = 5): The model is able to capture the underlying data distribution. The fit is good for both the training and the validation set.\n",
        "\n",
        "3. **Overfitting** (degree > 5): The model starts fitting the noise in the dataset. While the fit for the training data gets even better, the fit for the validation set gets worse.\n",
        "\n",
        "4. As the order of polynomial increases, the linear model coefficients become more likely to take on **large values**."
      ]
    },
    {
      "cell_type": "markdown",
      "metadata": {
        "ExecuteTime": {
          "end_time": "2020-11-03T08:47:28.699189Z",
          "start_time": "2020-11-03T08:47:28.695466Z"
        },
        "id": "Gx4xubgGndlB"
      },
      "source": [
        "## Part 2: Regularization"
      ]
    },
    {
      "cell_type": "markdown",
      "metadata": {
        "id": "llvalYoGndlB"
      },
      "source": [
        "There are two major ways to build a machine learning model with the ability to generalize well on unseen data:\n",
        "1. Train the simplest model possible for our purpose (according to Occam’s Razor).\n",
        "2. Train a complex or more expressive model on the data and perform regularization.\n",
        "\n",
        "Regularization is a method used to reduce the variance of a machine learning model. In other words, it is used to reduce overfitting. Regularization penalizes a model for being complex. For linear models, it means regularization forces model coefficients to be smaller in magnitude.\n",
        "\n",
        "Let's pick a polynomial model of degree **15** (which tends to overfit strongly) and try to regularize it using **L1** and **L2** penalties."
      ]
    },
    {
      "cell_type": "markdown",
      "metadata": {
        "id": "d5ybLlQnndlB"
      },
      "source": [
        "### L1 - Lasso regression"
      ]
    },
    {
      "cell_type": "code",
      "execution_count": 18,
      "metadata": {
        "ExecuteTime": {
          "end_time": "2021-12-15T20:32:49.851006Z",
          "start_time": "2021-12-15T20:32:48.876099Z"
        },
        "scrolled": false,
        "colab": {
          "base_uri": "https://localhost:8080/",
          "height": 348
        },
        "id": "YxZ4JEmVndlB",
        "outputId": "834ce2f2-e73e-4350-9b42-fd0b25ad6d6a"
      },
      "outputs": [
        {
          "output_type": "display_data",
          "data": {
            "text/plain": [
              "<Figure size 648x324 with 1 Axes>"
            ],
            "image/png": "[encoded data removed]"
          },
          "metadata": {
            "needs_background": "light"
          }
        }
      ],
      "source": [
        "rmse_train, rmse_valid = [], []\n",
        "for alpha in ALPHAS:    \n",
        "    results = cross_validate(make_model(degree=15, penalty='L1', alpha=alpha), \n",
        "                             X, y, cv=5,\n",
        "                             return_train_score=True,\n",
        "                             scoring='neg_root_mean_squared_error')\n",
        "    rmse_train.append(-np.mean(results['train_score']))\n",
        "    rmse_valid.append(-np.mean(results['test_score']))\n",
        "    \n",
        "plot_fitting_graph(ALPHAS, rmse_train, rmse_valid,\n",
        "                   xlabel='Regularization strength (alpha)', ylabel='Error (RMSE)',\n",
        "                   title='Lasso polynomial regression (L1): degree=15')"
      ]
    },
    {
      "cell_type": "markdown",
      "metadata": {
        "id": "nI2ftrRGndlB"
      },
      "source": [
        "### L2 - Ridge regression"
      ]
    },
    {
      "cell_type": "code",
      "execution_count": 19,
      "metadata": {
        "ExecuteTime": {
          "end_time": "2021-12-15T20:32:51.202745Z",
          "start_time": "2021-12-15T20:32:50.468099Z"
        },
        "colab": {
          "base_uri": "https://localhost:8080/",
          "height": 348
        },
        "id": "3O6qDN9ZndlB",
        "outputId": "86b1dd51-0c2d-4184-bda1-a8dcab224860"
      },
      "outputs": [
        {
          "output_type": "display_data",
          "data": {
            "text/plain": [
              "<Figure size 648x324 with 1 Axes>"
            ],
            "image/png": "[encoded data removed]"
          },
          "metadata": {
            "needs_background": "light"
          }
        }
      ],
      "source": [
        "rmse_train, rmse_valid = [], []\n",
        "for alpha in ALPHAS:    \n",
        "    results = cross_validate(make_model(degree=15, penalty='L2', alpha=alpha), \n",
        "                             X, y, cv=5,\n",
        "                             return_train_score=True,\n",
        "                             scoring='neg_root_mean_squared_error')\n",
        "    rmse_train.append(-np.mean(results['train_score']))\n",
        "    rmse_valid.append(-np.mean(results['test_score']))\n",
        "    \n",
        "plot_fitting_graph(ALPHAS, rmse_train, rmse_valid, \n",
        "                   xlabel='Regularization strength (alpha)', ylabel='Error (RMSE)', \n",
        "                   title='Ridge polynomial regression (L2): degree=15')"
      ]
    },
    {
      "cell_type": "markdown",
      "metadata": {
        "ExecuteTime": {
          "end_time": "2020-11-09T13:47:39.048589Z",
          "start_time": "2020-11-09T13:47:39.044912Z"
        },
        "id": "eJ_qcBHVndlC"
      },
      "source": [
        "### Summary"
      ]
    },
    {
      "cell_type": "markdown",
      "metadata": {
        "ExecuteTime": {
          "end_time": "2020-11-09T13:49:03.993455Z",
          "start_time": "2020-11-09T13:49:03.987472Z"
        },
        "id": "UY8aEmNSndlC"
      },
      "source": [
        "1. We can control the regularization strength by changing the hyperparameter `alpha`.\n",
        "2. Regularized version of the model performs pretty well. Even in case the original original (unregularized) model is heavily overfitting due to excessive complexity."
      ]
    },
    {
      "cell_type": "markdown",
      "metadata": {
        "ExecuteTime": {
          "end_time": "2020-11-09T12:14:17.962945Z",
          "start_time": "2020-11-09T12:14:17.959952Z"
        },
        "id": "SzloohZPndlC"
      },
      "source": [
        "## Part 3: Homework assignment (10 points)"
      ]
    },
    {
      "cell_type": "markdown",
      "metadata": {
        "id": "yfq8hDC0ndlC"
      },
      "source": [
        "**WARNING!**\n",
        "\n",
        "Due to the limited power of your machine, you may face some difficulties in generating polynomial features of a high degree. It's ok to take only a subsample of features for that purpose (even one feature is enough). Afterwards, you **must collect all features together** (those which were used to generate polynomials and the rest)."
      ]
    },
    {
      "cell_type": "markdown",
      "metadata": {
        "ExecuteTime": {
          "end_time": "2021-12-10T12:27:23.202301Z",
          "start_time": "2021-12-10T12:27:23.185315Z"
        },
        "id": "kSag-0k0ndlC"
      },
      "source": [
        "### Excercise 1 - Overfiting and Underfitting (2 points)"
      ]
    },
    {
      "cell_type": "markdown",
      "metadata": {
        "ExecuteTime": {
          "end_time": "2021-12-10T07:35:07.485715Z",
          "start_time": "2021-12-10T07:35:07.461799Z"
        },
        "id": "yWdda-XpndlC"
      },
      "source": [
        "Let's work with the diabetes dataset"
      ]
    },
    {
      "cell_type": "code",
      "execution_count": 20,
      "metadata": {
        "ExecuteTime": {
          "end_time": "2021-12-15T20:32:51.450770Z",
          "start_time": "2021-12-15T20:32:51.234725Z"
        },
        "colab": {
          "base_uri": "https://localhost:8080/"
        },
        "id": "nxSiW0KAndlC",
        "outputId": "7bc4cf4e-8371-412b-f46a-d2a4064a1641"
      },
      "outputs": [
        {
          "output_type": "stream",
          "name": "stdout",
          "text": [
            ".. _diabetes_dataset:\n",
            "\n",
            "Diabetes dataset\n",
            "----------------\n",
            "\n",
            "Ten baseline variables, age, sex, body mass index, average blood\n",
            "pressure, and six blood serum measurements were obtained for each of n =\n",
            "442 diabetes patients, as well as the response of interest, a\n",
            "quantitative measure of disease progression one year after baseline.\n",
            "\n",
            "**Data Set Characteristics:**\n",
            "\n",
            "  :Number of Instances: 442\n",
            "\n",
            "  :Number of Attributes: First 10 columns are numeric predictive values\n",
            "\n",
            "  :Target: Column 11 is a quantitative measure of disease progression one year after baseline\n",
            "\n",
            "  :Attribute Information:\n",
            "      - age     age in years\n",
            "      - sex\n",
            "      - bmi     body mass index\n",
            "      - bp      average blood pressure\n",
            "      - s1      tc, total serum cholesterol\n",
            "      - s2      ldl, low-density lipoproteins\n",
            "      - s3      hdl, high-density lipoproteins\n",
            "      - s4      tch, total cholesterol / HDL\n",
            "      - s5      ltg, possibly log of serum triglycerides level\n",
            "      - s6      glu, blood sugar level\n",
            "\n",
            "Note: Each of these 10 feature variables have been mean centered and scaled by the standard deviation times `n_samples` (i.e. the sum of squares of each column totals 1).\n",
            "\n",
            "Source URL:\n",
            "https://www4.stat.ncsu.edu/~boos/var.select/diabetes.html\n",
            "\n",
            "For more information see:\n",
            "Bradley Efron, Trevor Hastie, Iain Johnstone and Robert Tibshirani (2004) \"Least Angle Regression,\" Annals of Statistics (with discussion), 407-499.\n",
            "(https://web.stanford.edu/~hastie/Papers/LARS/LeastAngle_2002.pdf)\n"
          ]
        }
      ],
      "source": [
        "from sklearn.datasets import load_diabetes\n",
        "data = load_diabetes()\n",
        "X_diabetes = pd.DataFrame(data['data'], columns=data['feature_names'])\n",
        "y_diabetes = pd.DataFrame(data['target'], columns=['target'])\n",
        "print(data['DESCR'])"
      ]
    },
    {
      "cell_type": "markdown",
      "metadata": {
        "id": "HPKRyALHndlC"
      },
      "source": [
        "Apply model for diabetes dataset with polynomial feature engineering of different degrees. Plot the dependence of train and test error on polynomial degree. Highlight a degree with the best test error. Which degrees cause overfitting/underfitting? Why?"
      ]
    },
    {
      "cell_type": "code",
      "source": [
        "X_diabetes.head()"
      ],
      "metadata": {
        "colab": {
          "base_uri": "https://localhost:8080/",
          "height": 206
        },
        "id": "3WQAkcb6pCOP",
        "outputId": "25b19121-b835-4104-a255-5e572470146f"
      },
      "execution_count": 21,
      "outputs": [
        {
          "output_type": "execute_result",
          "data": {
            "text/plain": [
              "        age       sex       bmi        bp        s1        s2        s3  \\\n",
              "0  0.038076  0.050680  0.061696  0.021872 -0.044223 -0.034821 -0.043401   \n",
              "1 -0.001882 -0.044642 -0.051474 -0.026328 -0.008449 -0.019163  0.074412   \n",
              "2  0.085299  0.050680  0.044451 -0.005671 -0.045599 -0.034194 -0.032356   \n",
              "3 -0.089063 -0.044642 -0.011595 -0.036656  0.012191  0.024991 -0.036038   \n",
              "4  0.005383 -0.044642 -0.036385  0.021872  0.003935  0.015596  0.008142   \n",
              "\n",
              "         s4        s5        s6  \n",
              "0 -0.002592  0.019908 -0.017646  \n",
              "1 -0.039493 -0.068330 -0.092204  \n",
              "2 -0.002592  0.002864 -0.025930  \n",
              "3  0.034309  0.022692 -0.009362  \n",
              "4 -0.002592 -0.031991 -0.046641  "
            ],
            "text/html": [
              "\n",
              "  <div id=\"df-0612f196-c0b9-467f-9696-6d0eb0daf0b4\">\n",
              "    <div class=\"colab-df-container\">\n",
              "      <div>\n",
              "<style scoped>\n",
              "    .dataframe tbody tr th:only-of-type {\n",
              "        vertical-align: middle;\n",
              "    }\n",
              "\n",
              "    .dataframe tbody tr th {\n",
              "        vertical-align: top;\n",
              "    }\n",
              "\n",
              "    .dataframe thead th {\n",
              "        text-align: right;\n",
              "    }\n",
              "</style>\n",
              "<table border=\"1\" class=\"dataframe\">\n",
              "  <thead>\n",
              "    <tr style=\"text-align: right;\">\n",
              "      <th></th>\n",
              "      <th>age</th>\n",
              "      <th>sex</th>\n",
              "      <th>bmi</th>\n",
              "      <th>bp</th>\n",
              "      <th>s1</th>\n",
              "      <th>s2</th>\n",
              "      <th>s3</th>\n",
              "      <th>s4</th>\n",
              "      <th>s5</th>\n",
              "      <th>s6</th>\n",
              "    </tr>\n",
              "  </thead>\n",
              "  <tbody>\n",
              "    <tr>\n",
              "      <th>0</th>\n",
              "      <td>0.038076</td>\n",
              "      <td>0.050680</td>\n",
              "      <td>0.061696</td>\n",
              "      <td>0.021872</td>\n",
              "      <td>-0.044223</td>\n",
              "      <td>-0.034821</td>\n",
              "      <td>-0.043401</td>\n",
              "      <td>-0.002592</td>\n",
              "      <td>0.019908</td>\n",
              "      <td>-0.017646</td>\n",
              "    </tr>\n",
              "    <tr>\n",
              "      <th>1</th>\n",
              "      <td>-0.001882</td>\n",
              "      <td>-0.044642</td>\n",
              "      <td>-0.051474</td>\n",
              "      <td>-0.026328</td>\n",
              "      <td>-0.008449</td>\n",
              "      <td>-0.019163</td>\n",
              "      <td>0.074412</td>\n",
              "      <td>-0.039493</td>\n",
              "      <td>-0.068330</td>\n",
              "      <td>-0.092204</td>\n",
              "    </tr>\n",
              "    <tr>\n",
              "      <th>2</th>\n",
              "      <td>0.085299</td>\n",
              "      <td>0.050680</td>\n",
              "      <td>0.044451</td>\n",
              "      <td>-0.005671</td>\n",
              "      <td>-0.045599</td>\n",
              "      <td>-0.034194</td>\n",
              "      <td>-0.032356</td>\n",
              "      <td>-0.002592</td>\n",
              "      <td>0.002864</td>\n",
              "      <td>-0.025930</td>\n",
              "    </tr>\n",
              "    <tr>\n",
              "      <th>3</th>\n",
              "      <td>-0.089063</td>\n",
              "      <td>-0.044642</td>\n",
              "      <td>-0.011595</td>\n",
              "      <td>-0.036656</td>\n",
              "      <td>0.012191</td>\n",
              "      <td>0.024991</td>\n",
              "      <td>-0.036038</td>\n",
              "      <td>0.034309</td>\n",
              "      <td>0.022692</td>\n",
              "      <td>-0.009362</td>\n",
              "    </tr>\n",
              "    <tr>\n",
              "      <th>4</th>\n",
              "      <td>0.005383</td>\n",
              "      <td>-0.044642</td>\n",
              "      <td>-0.036385</td>\n",
              "      <td>0.021872</td>\n",
              "      <td>0.003935</td>\n",
              "      <td>0.015596</td>\n",
              "      <td>0.008142</td>\n",
              "      <td>-0.002592</td>\n",
              "      <td>-0.031991</td>\n",
              "      <td>-0.046641</td>\n",
              "    </tr>\n",
              "  </tbody>\n",
              "</table>\n",
              "</div>\n",
              "      <button class=\"colab-df-convert\" onclick=\"convertToInteractive('df-0612f196-c0b9-467f-9696-6d0eb0daf0b4')\"\n",
              "              title=\"Convert this dataframe to an interactive table.\"\n",
              "              style=\"display:none;\">\n",
              "        \n",
              "  <svg xmlns=\"http://www.w3.org/2000/svg\" height=\"24px\"viewBox=\"0 0 24 24\"\n",
              "       width=\"24px\">\n",
              "    <path d=\"M0 0h24v24H0V0z\" fill=\"none\"/>\n",
              "    <path d=\"M18.56 5.44l.94 2.06.94-2.06 2.06-.94-2.06-.94-.94-2.06-.94 2.06-2.06.94zm-11 1L8.5 8.5l.94-2.06 2.06-.94-2.06-.94L8.5 2.5l-.94 2.06-2.06.94zm10 10l.94 2.06.94-2.06 2.06-.94-2.06-.94-.94-2.06-.94 2.06-2.06.94z\"/><path d=\"M17.41 7.96l-1.37-1.37c-.4-.4-.92-.59-1.43-.59-.52 0-1.04.2-1.43.59L10.3 9.45l-7.72 7.72c-.78.78-.78 2.05 0 2.83L4 21.41c.39.39.9.59 1.41.59.51 0 1.02-.2 1.41-.59l7.78-7.78 2.81-2.81c.8-.78.8-2.07 0-2.86zM5.41 20L4 18.59l7.72-7.72 1.47 1.35L5.41 20z\"/>\n",
              "  </svg>\n",
              "      </button>\n",
              "      \n",
              "  <style>\n",
              "    .colab-df-container {\n",
              "      display:flex;\n",
              "      flex-wrap:wrap;\n",
              "      gap: 12px;\n",
              "    }\n",
              "\n",
              "    .colab-df-convert {\n",
              "      background-color: #E8F0FE;\n",
              "      border: none;\n",
              "      border-radius: 50%;\n",
              "      cursor: pointer;\n",
              "      display: none;\n",
              "      fill: #1967D2;\n",
              "      height: 32px;\n",
              "      padding: 0 0 0 0;\n",
              "      width: 32px;\n",
              "    }\n",
              "\n",
              "    .colab-df-convert:hover {\n",
              "      background-color: #E2EBFA;\n",
              "      box-shadow: 0px 1px 2px rgba(60, 64, 67, 0.3), 0px 1px 3px 1px rgba(60, 64, 67, 0.15);\n",
              "      fill: #174EA6;\n",
              "    }\n",
              "\n",
              "    [theme=dark] .colab-df-convert {\n",
              "      background-color: #3B4455;\n",
              "      fill: #D2E3FC;\n",
              "    }\n",
              "\n",
              "    [theme=dark] .colab-df-convert:hover {\n",
              "      background-color: #434B5C;\n",
              "      box-shadow: 0px 1px 3px 1px rgba(0, 0, 0, 0.15);\n",
              "      filter: drop-shadow(0px 1px 2px rgba(0, 0, 0, 0.3));\n",
              "      fill: #FFFFFF;\n",
              "    }\n",
              "  </style>\n",
              "\n",
              "      <script>\n",
              "        const buttonEl =\n",
              "          document.querySelector('#df-0612f196-c0b9-467f-9696-6d0eb0daf0b4 button.colab-df-convert');\n",
              "        buttonEl.style.display =\n",
              "          google.colab.kernel.accessAllowed ? 'block' : 'none';\n",
              "\n",
              "        async function convertToInteractive(key) {\n",
              "          const element = document.querySelector('#df-0612f196-c0b9-467f-9696-6d0eb0daf0b4');\n",
              "          const dataTable =\n",
              "            await google.colab.kernel.invokeFunction('convertToInteractive',\n",
              "                                                     [key], {});\n",
              "          if (!dataTable) return;\n",
              "\n",
              "          const docLinkHtml = 'Like what you see? Visit the ' +\n",
              "            '<a target=\"_blank\" href=https://colab.research.google.com/notebooks/data_table.ipynb>data table notebook</a>'\n",
              "            + ' to learn more about interactive tables.';\n",
              "          element.innerHTML = '';\n",
              "          dataTable['output_type'] = 'display_data';\n",
              "          await google.colab.output.renderOutput(dataTable, element);\n",
              "          const docLink = document.createElement('div');\n",
              "          docLink.innerHTML = docLinkHtml;\n",
              "          element.appendChild(docLink);\n",
              "        }\n",
              "      </script>\n",
              "    </div>\n",
              "  </div>\n",
              "  "
            ]
          },
          "metadata": {},
          "execution_count": 21
        }
      ]
    },
    {
      "cell_type": "code",
      "source": [
        "X_train_d, X_valid_d, y_train_d, y_valid_d = train_test_split(X_diabetes,\n",
        "                                                              y_diabetes,\n",
        "                                                              test_size=0.3,\n",
        "                                                              random_state=SEED\n",
        "                                                             )"
      ],
      "metadata": {
        "id": "UGw2e2T_nimi"
      },
      "execution_count": 22,
      "outputs": []
    },
    {
      "cell_type": "code",
      "source": [
        "DEGREES = np.linspace(1, 15, 15, dtype=int)\n",
        "\n",
        "rmse_train, rmse_valid = [], []\n",
        "for degree in tqdm(DEGREES):\n",
        "    reg = make_model(degree).fit(X_train_d, y_train_d)\n",
        "    rmse_train.append(rmse(reg.predict(X_train_d), y_train_d))\n",
        "    rmse_valid.append(rmse(reg.predict(X_valid_d), y_valid_d))\n",
        "    \n",
        "plot_fitting_graph(DEGREES, rmse_train, rmse_valid, xlabel='Complexity (degree)', ylabel='Error (RMSE)', \n",
        "                   title='Least squares polynomial regression')"
      ],
      "metadata": {
        "colab": {
          "base_uri": "https://localhost:8080/",
          "height": 357,
          "referenced_widgets": [
            "2e36069e504e454ebed9637eb7a74e6b",
            "377f8f080a58431781919196774964b5",
            "dcb9cf92e26747b2a8d8d014e05b7aec",
            "6f2162db9d954118a2292d1ce5848422",
            "3559a1a9dc7948dd91bb7f4ac0e3f269",
            "2389b425debf47beb9de8192690b0541",
            "46d8869f38c444bd9a8434f3bac4b9bd",
            "97fe73780584443188126c5680de8412",
            "55805f7ba1f14858812b6824253e86e3",
            "a22bda9f99da45cf9a43b95b73ed1774",
            "d7a84ea2a08747ebbba7949a712f4bb1"
          ]
        },
        "id": "L9cR6Uhwnih5",
        "outputId": "b79c1b66-13fa-4fdc-e109-2754850d230a"
      },
      "execution_count": 26,
      "outputs": [
        {
          "output_type": "display_data",
          "data": {
            "text/plain": [
              "  0%|          | 0/15 [00:00<?, ?it/s]"
            ],
            "application/vnd.jupyter.widget-view+json": {
              "version_major": 2,
              "version_minor": 0,
              "model_id": "2e36069e504e454ebed9637eb7a74e6b"
            }
          },
          "metadata": {}
        },
        {
          "output_type": "display_data",
          "data": {
            "text/plain": [
              "<Figure size 648x324 with 1 Axes>"
            ],
            "image/png": "[encoded data removed]"
          },
          "metadata": {
            "needs_background": "light"
          }
        }
      ]
    },
    {
      "cell_type": "markdown",
      "source": [
        "Модель работает наилучшим образом с 2 степенью, далее модель начинает переобучаться, потому что прогнозная модель сановится слишком сложной и подстаивается под каждый объект из тренировочной выборки. Также это ведет к ухудшению работы модели на валидационном наборе данных."
      ],
      "metadata": {
        "id": "H9EHK4p-DHb2"
      }
    },
    {
      "cell_type": "markdown",
      "metadata": {
        "ExecuteTime": {
          "end_time": "2021-12-10T12:46:46.756169Z",
          "start_time": "2021-12-10T12:44:13.217Z"
        },
        "id": "jnWpDTFqndlC"
      },
      "source": [
        "### Excercise 2 - Magnitude (3 points)"
      ]
    },
    {
      "cell_type": "markdown",
      "metadata": {
        "id": "iT0xPWZAndlC"
      },
      "source": [
        "As discussed earlier, regularization methods are expected to constraint the weights (model coefficients). \n",
        "\n",
        "Is it indeed happening? \n",
        "\n",
        "Please do a discovery on your own and find that out empirically (both for **L1** and **L2**). Let's use `degree=15` and `alpha` from `ALPHAS`."
      ]
    },
    {
      "cell_type": "markdown",
      "metadata": {
        "id": "mS_xjOPpndlC"
      },
      "source": [
        "#### L1"
      ]
    },
    {
      "cell_type": "code",
      "execution_count": 24,
      "metadata": {
        "colab": {
          "base_uri": "https://localhost:8080/",
          "height": 380,
          "referenced_widgets": [
            "5d2dca4fc30d48c39ddefa79a51da426",
            "d244a7dac6f146cebc76db2a4173d373",
            "6ab3854188fa42438cb072553f0d7537",
            "889b128dceed4efcbe503df6d515e3bb",
            "e09245bd6c8845bc921b1007e693ba5f",
            "d6685c55d73e4221bbe9bfd227b45e28",
            "7fc749c05f6a41038975cfa8566de58b",
            "06d16ec05fc64251befc5a6a402e8aea",
            "4cf4dbd9c4d344e292e84fe373cf163f",
            "858e708659fb494592a32ab361869031",
            "ea5829c85a7e474c94cf3e5c6893f8e9"
          ]
        },
        "id": "cwYJbliDndlC",
        "outputId": "338f8846-2a88-4cd8-f2ff-8d361a4cf5c7"
      },
      "outputs": [
        {
          "output_type": "display_data",
          "data": {
            "text/plain": [
              "  0%|          | 0/41 [00:00<?, ?it/s]"
            ],
            "application/vnd.jupyter.widget-view+json": {
              "version_major": 2,
              "version_minor": 0,
              "model_id": "5d2dca4fc30d48c39ddefa79a51da426"
            }
          },
          "metadata": {}
        },
        {
          "output_type": "display_data",
          "data": {
            "text/plain": [
              "<Figure size 648x324 with 2 Axes>"
            ],
            "image/png": "[encoded data removed]"
          },
          "metadata": {
            "needs_background": "light"
          }
        }
      ],
      "source": [
        "# your code\n",
        "rmse_train, rmse_valid, avg_coef = [], [], []\n",
        "for alpha in tqdm(ALPHAS):    \n",
        "    results = cross_validate(make_model(degree=15, penalty='L1', alpha=alpha), \n",
        "                             X_diabetes, y_diabetes, cv=2,\n",
        "                             return_train_score=True, return_estimator=True,\n",
        "                             scoring='neg_root_mean_squared_error')\n",
        "    rmse_train.append(-np.mean(results['train_score']))\n",
        "    rmse_valid.append(-np.mean(results['test_score']))\n",
        "    \n",
        "    avg_coef.append(        \n",
        "        # average over CV folds\n",
        "        np.mean([            \n",
        "            # mean absolute value of weights\n",
        "            np.mean(np.abs(model['reg'].coef_))\n",
        "            for model in results['estimator']\n",
        "        ]))\n",
        "    \n",
        "plot_fitting_graph(ALPHAS, rmse_train, rmse_valid,\n",
        "                   xlabel='Regularization strength (alpha)', ylabel='Error (RMSE)',\n",
        "                   custom_metric=avg_coef, custom_label='avg(|$w_i$|)',\n",
        "                   title='Least squares polynomial regression')"
      ]
    },
    {
      "cell_type": "markdown",
      "metadata": {
        "id": "ro8QNLt4ndlC"
      },
      "source": [
        "#### L2"
      ]
    },
    {
      "cell_type": "code",
      "execution_count": 24,
      "metadata": {
        "colab": {
          "base_uri": "https://localhost:8080/",
          "height": 380,
          "referenced_widgets": [
            "552aa2425d0c46a2a08e61d0da059e33",
            "68fe1d501ac64b419b8e39e5d35a5a0c",
            "77cc7f65f5394174b283bfaf7136f2b4",
            "050607fa4e4c4621abf613bac23e918d",
            "889a1925f4164b03abb261a6525cacbb",
            "9ca581bcd46f438c99f16f9eebb40859",
            "1b1cb4ef0f7a4581aa971e56cda4001f",
            "40e3aa5195214482bfd681b6a03fef8b",
            "73cd78e17412465090f592fe39dfcfdd",
            "2836128f3a834c02bff725a93bdc0a50",
            "c130979cf8644f4f8eb60a4d811b9c67"
          ]
        },
        "id": "3Fjz8NSUndlC",
        "outputId": "1d2313c8-6948-4cae-ac6a-3ab58686b31c"
      },
      "outputs": [
        {
          "output_type": "display_data",
          "data": {
            "text/plain": [
              "  0%|          | 0/41 [00:00<?, ?it/s]"
            ],
            "application/vnd.jupyter.widget-view+json": {
              "version_major": 2,
              "version_minor": 0,
              "model_id": "552aa2425d0c46a2a08e61d0da059e33"
            }
          },
          "metadata": {}
        },
        {
          "output_type": "display_data",
          "data": {
            "text/plain": [
              "<Figure size 648x324 with 2 Axes>"
            ],
            "image/png": "[encoded data removed]"
          },
          "metadata": {
            "needs_background": "light"
          }
        }
      ],
      "source": [
        "# your code\n",
        "rmse_train, rmse_valid, avg_coef = [], [], []\n",
        "for alpha in tqdm(ALPHAS):    \n",
        "    results = cross_validate(make_model(degree=15, penalty='L2', alpha=alpha), \n",
        "                             X_diabetes, y_diabetes, cv=2,\n",
        "                             return_train_score=True, return_estimator=True,\n",
        "                             scoring='neg_root_mean_squared_error')\n",
        "    rmse_train.append(-np.mean(results['train_score']))\n",
        "    rmse_valid.append(-np.mean(results['test_score']))\n",
        "    \n",
        "    avg_coef.append(        \n",
        "        # average over CV folds\n",
        "        np.mean([            \n",
        "            # mean absolute value of weights\n",
        "            np.mean(np.abs(model['reg'].coef_))\n",
        "            for model in results['estimator']\n",
        "        ]))\n",
        "    \n",
        "plot_fitting_graph(ALPHAS, rmse_train, rmse_valid,\n",
        "                   xlabel='Regularization strength (alpha)', ylabel='Error (RMSE)',\n",
        "                   custom_metric=avg_coef, custom_label='avg(|$w_i$|)',\n",
        "                   title='Least squares polynomial regression')"
      ]
    },
    {
      "cell_type": "markdown",
      "metadata": {
        "id": "9bPtbKDondlC"
      },
      "source": [
        "#### Summary"
      ]
    },
    {
      "cell_type": "markdown",
      "source": [
        "По графикам видно, что методы регуляризации ограничивают веса модели: при увеличении alpha среднее абсолютное значение весов становится ниже. Оба вида регуляризации примерно одинаково справляются с этим.\n",
        "\n"
      ],
      "metadata": {
        "id": "KSakYbUTF4nc"
      }
    },
    {
      "cell_type": "markdown",
      "metadata": {
        "ExecuteTime": {
          "end_time": "2021-12-10T12:46:46.756169Z",
          "start_time": "2021-12-10T12:44:13.217Z"
        },
        "id": "fYW7rVSBndlC"
      },
      "source": [
        "### Excercise 3 - Sparsity (3 points)"
      ]
    },
    {
      "cell_type": "markdown",
      "metadata": {
        "id": "N5amRTiQndlG"
      },
      "source": [
        "Lasso can also be used for **feature selection** since L1 is [more likely to produce zero coefficients](https://explained.ai/regularization/).\n",
        "\n",
        "Is it indeed happening? \n",
        "\n",
        "Please do a discovery on your own and find that out empirically (both for **L1** and **L2**). Let's use `degree=15` and `alpha` from `ALPHAS`."
      ]
    },
    {
      "cell_type": "markdown",
      "metadata": {
        "id": "iyE5YGacndlG"
      },
      "source": [
        "#### L1"
      ]
    },
    {
      "cell_type": "code",
      "execution_count": 23,
      "metadata": {
        "colab": {
          "base_uri": "https://localhost:8080/",
          "height": 301,
          "referenced_widgets": [
            "e2250aa3c346437593605f64d032fd3c",
            "336269f08a9547da98f1d06258e852f8",
            "c76aebc91f9f4df39161256a829081c0",
            "820d0144594448b89233fa7b84e98e6e",
            "c43188e1d2434caa830143040cbb1832",
            "eab78bcf7fb2459781afe58f04ea4b22",
            "94fde5da8a144519aa401a78045a49ac",
            "5899b9e3534142f5b9f3e97512e51024",
            "5356dee4150243dbafde9e452836b129",
            "1d34010c61314657bc215e547d1d4cb0",
            "b820064302544c21be0803588bc47b83"
          ]
        },
        "id": "rp-YlPOZndlG",
        "outputId": "1f475c53-8583-43a9-a685-873b38e85aeb"
      },
      "outputs": [
        {
          "output_type": "display_data",
          "data": {
            "text/plain": [
              "  0%|          | 0/41 [00:00<?, ?it/s]"
            ],
            "application/vnd.jupyter.widget-view+json": {
              "version_major": 2,
              "version_minor": 0,
              "model_id": "e2250aa3c346437593605f64d032fd3c"
            }
          },
          "metadata": {}
        },
        {
          "output_type": "display_data",
          "data": {
            "text/plain": [
              "<Figure size 432x288 with 1 Axes>"
            ],
            "image/png": "[encoded data removed]"
          },
          "metadata": {
            "needs_background": "light"
          }
        }
      ],
      "source": [
        "# your code\n",
        "rmse_train, rmse_valid, zero_count = [], [], {}\n",
        "for alpha in tqdm(ALPHAS):    \n",
        "    results = cross_validate(make_model(degree=15, penalty='L1', alpha=alpha), \n",
        "                             X_diabetes, y_diabetes, cv=2,\n",
        "                             return_train_score=True, return_estimator=True,\n",
        "                             scoring='neg_root_mean_squared_error')\n",
        "    rmse_train.append(-np.mean(results['train_score']))\n",
        "    rmse_valid.append(-np.mean(results['test_score']))\n",
        "    \n",
        "    \n",
        "    zero_count[alpha] = np.sum([model['reg'].coef_ == 0\n",
        "            for model in results['estimator']\n",
        "        ])\n",
        "    \n",
        "# plot_fitting_graph(ALPHAS, rmse_train, rmse_valid,\n",
        "#                    xlabel='Regularization strength (alpha)', ylabel='Error (RMSE)',\n",
        "#                    custom_metric=zero_count.values(), custom_label='avg(|$w_i$|)',\n",
        "#                    title='The number of weights that are zero')\n",
        "\n",
        "sns.scatterplot(ALPHAS, zero_count.values());"
      ]
    },
    {
      "cell_type": "code",
      "source": [
        "# Выведем список с количеством коэффиуинтов, которые равны 0, при разных alpha\n",
        "print(*zero_count.values(), '\\n')\n",
        "print(zero_count)"
      ],
      "metadata": {
        "colab": {
          "base_uri": "https://localhost:8080/"
        },
        "id": "-ixDVGkuAYVW",
        "outputId": "5d3d0182-f689-48c2-e488-3f9d7e5e5f13"
      },
      "execution_count": 26,
      "outputs": [
        {
          "output_type": "stream",
          "name": "stdout",
          "text": [
            "0 7014 7308 7392 7451 7478 7512 7521 7536 7545 7542 7546 7547 7554 7561 7564 7564 7563 7573 7569 7579 7582 7587 7590 7599 7595 7600 7594 7603 7604 7604 7603 7614 7618 7620 7619 7620 7625 7629 7630 7630 \n",
            "\n",
            "{0.0: 0, 0.0125: 7014, 0.025: 7308, 0.037500000000000006: 7392, 0.05: 7451, 0.0625: 7478, 0.07500000000000001: 7512, 0.08750000000000001: 7521, 0.1: 7536, 0.1125: 7545, 0.125: 7542, 0.1375: 7546, 0.15000000000000002: 7547, 0.1625: 7554, 0.17500000000000002: 7561, 0.1875: 7564, 0.2: 7564, 0.21250000000000002: 7563, 0.225: 7573, 0.23750000000000002: 7569, 0.25: 7579, 0.2625: 7582, 0.275: 7587, 0.28750000000000003: 7590, 0.30000000000000004: 7599, 0.3125: 7595, 0.325: 7600, 0.3375: 7594, 0.35000000000000003: 7603, 0.36250000000000004: 7604, 0.375: 7604, 0.3875: 7603, 0.4: 7614, 0.41250000000000003: 7618, 0.42500000000000004: 7620, 0.4375: 7619, 0.45: 7620, 0.4625: 7625, 0.47500000000000003: 7629, 0.48750000000000004: 7630, 0.5: 7630}\n"
          ]
        }
      ]
    },
    {
      "cell_type": "markdown",
      "metadata": {
        "id": "wdyuZpoindlG"
      },
      "source": [
        "#### L2"
      ]
    },
    {
      "cell_type": "code",
      "execution_count": 29,
      "metadata": {
        "colab": {
          "base_uri": "https://localhost:8080/",
          "height": 282
        },
        "id": "4kwmb4wEndlG",
        "outputId": "d76bed22-c5eb-419c-c2e0-bc441ca5c6a4"
      },
      "outputs": [
        {
          "output_type": "execute_result",
          "data": {
            "text/plain": [
              "<matplotlib.axes._subplots.AxesSubplot at 0x7f2d984291d0>"
            ]
          },
          "metadata": {},
          "execution_count": 29
        },
        {
          "output_type": "display_data",
          "data": {
            "text/plain": [
              "<Figure size 432x288 with 1 Axes>"
            ],
            "image/png": "[encoded data removed]"
          },
          "metadata": {
            "needs_background": "light"
          }
        }
      ],
      "source": [
        "# your code\n",
        "rmse_train, rmse_valid, zero_count = [], [], {}\n",
        "for alpha in tqdm(ALPHAS):    \n",
        "    results = cross_validate(make_model(degree=15, penalty='L2', alpha=alpha), \n",
        "                             X_diabetes, y_diabetes, cv=2,\n",
        "                             return_train_score=True, return_estimator=True,\n",
        "                             scoring='neg_root_mean_squared_error')\n",
        "    rmse_train.append(-np.mean(results['train_score']))\n",
        "    rmse_valid.append(-np.mean(results['test_score']))\n",
        "    \n",
        "    \n",
        "    zero_count[alpha] = np.sum([model['reg'].coef_ == 0\n",
        "            for model in results['estimator']\n",
        "        ])\n",
        "    \n",
        "# plot_fitting_graph(ALPHAS, rmse_train, rmse_valid,\n",
        "#                    xlabel='Regularization strength (alpha)', ylabel='Error (RMSE)',\n",
        "#                    custom_metric=zero_count.values(), custom_label='avg(|$w_i$|)',\n",
        "#                    title='The number of weights that are zero')\n",
        "sns.scatterplot(ALPHAS, zero_count.values());"
      ]
    },
    {
      "cell_type": "code",
      "source": [
        "# Выведем список с количеством коэффиуинтов, которые равны 0, при разных alpha\n",
        "print(*zero_count.values(), '\\n')\n",
        "print(zero_count)"
      ],
      "metadata": {
        "colab": {
          "base_uri": "https://localhost:8080/"
        },
        "id": "6vijCl_PAem2",
        "outputId": "515b44b6-c314-4271-b93c-e33e436f6ea8"
      },
      "execution_count": 28,
      "outputs": [
        {
          "output_type": "stream",
          "name": "stdout",
          "text": [
            "0 0 0 0 0 0 0 0 0 0 0 0 0 0 0 0 0 0 0 0 0 0 0 0 0 0 0 0 0 0 0 0 0 0 0 0 0 0 0 0 0 \n",
            "\n",
            "{0.0: 0, 0.0125: 0, 0.025: 0, 0.037500000000000006: 0, 0.05: 0, 0.0625: 0, 0.07500000000000001: 0, 0.08750000000000001: 0, 0.1: 0, 0.1125: 0, 0.125: 0, 0.1375: 0, 0.15000000000000002: 0, 0.1625: 0, 0.17500000000000002: 0, 0.1875: 0, 0.2: 0, 0.21250000000000002: 0, 0.225: 0, 0.23750000000000002: 0, 0.25: 0, 0.2625: 0, 0.275: 0, 0.28750000000000003: 0, 0.30000000000000004: 0, 0.3125: 0, 0.325: 0, 0.3375: 0, 0.35000000000000003: 0, 0.36250000000000004: 0, 0.375: 0, 0.3875: 0, 0.4: 0, 0.41250000000000003: 0, 0.42500000000000004: 0, 0.4375: 0, 0.45: 0, 0.4625: 0, 0.47500000000000003: 0, 0.48750000000000004: 0, 0.5: 0}\n"
          ]
        }
      ]
    },
    {
      "cell_type": "markdown",
      "metadata": {
        "id": "rFECoUFGndlG"
      },
      "source": [
        "#### Summary"
      ]
    },
    {
      "cell_type": "markdown",
      "source": [
        "Можно сделать вывод, что при L1 регуляризации количество коэффициентов модели раынх 0 страновится больше с увеличением alpha, в самом начале обучения их было 0, в конце стало 7630.\n",
        "\n",
        "При L2 регуляризации количество таких коэффициентов не увеличивается: на протяжении всего обучения их 0."
      ],
      "metadata": {
        "id": "TrFgLdNBQiv7"
      }
    },
    {
      "cell_type": "markdown",
      "metadata": {
        "id": "9kV4gZdqndlG"
      },
      "source": [
        "### Excercise 4 - Scaling (2 points)"
      ]
    },
    {
      "cell_type": "markdown",
      "metadata": {
        "id": "D7QgnC_wndlG"
      },
      "source": [
        "As a general rule, it is recommended to scale input features before fitting a regularized model so that the features/inputs take values in similar ranges. One common way of doing so is to standardize the inputs and that is exactly what our pipeline  second step (`StandardScaler`) is responsible for. \n",
        "\n",
        "Is scaling important? What are the underlying reasons?\n",
        "\n",
        "Please do a discovery on your own and find that out empirically (both for **L1** and **L2**) on the dataset below. Check coefficients."
      ]
    },
    {
      "cell_type": "code",
      "execution_count": 24,
      "metadata": {
        "colab": {
          "base_uri": "https://localhost:8080/"
        },
        "id": "ZT0Cq3yZndlG",
        "outputId": "0259b5c7-6e7b-4762-fc31-2249c7da4e6c"
      },
      "outputs": [
        {
          "output_type": "stream",
          "name": "stdout",
          "text": [
            "Min of feature 0: -0.05, max: 0.05\n",
            "Min of feature 1: -494.87, max: 493.57\n",
            "Min of feature 2: -2.35, max: 213.31\n"
          ]
        }
      ],
      "source": [
        "def target_function_hw(x):\n",
        "    return 2 * x\n",
        "\n",
        "def generate_samples_hw():\n",
        "    np.random.seed(SEED)\n",
        "    x = np.random.uniform(*RANGE, size=N_SAMPLES)\n",
        "    \n",
        "    np.random.seed(SEED+1)\n",
        "    x_noise = np.random.uniform(*[x * 100 for x in RANGE], size=N_SAMPLES)\n",
        "    x_noise2 = np.random.normal(100, 50, size=N_SAMPLES)\n",
        "    \n",
        "    y = target_function_hw(x) + np.random.normal(scale=4, size=N_SAMPLES)\n",
        "    \n",
        "    return np.concatenate([x.reshape(-1, 1) / 100, \n",
        "                           x_noise.reshape(-1, 1),\n",
        "                           x_noise2.reshape(-1, 1)], axis=1), y\n",
        "\n",
        "X_hw, y_hw = generate_samples_hw()\n",
        "\n",
        "for i in range(X_hw.shape[1]):\n",
        "    print(f'Min of feature {i}: {min(X_hw[:, i]):.2f}, max: {max(X_hw[:, i]):.2f}')"
      ]
    },
    {
      "cell_type": "code",
      "source": [
        "def make_model_without_Scaler(degree, alpha=0, penalty=None):\n",
        "    # linear regression\n",
        "    if alpha == 0:\n",
        "        regressor = LinearRegression()\n",
        "    # lasso regression\",\n",
        "    elif penalty == 'L1':\n",
        "        regressor = Lasso(alpha=alpha, random_state=SEED, max_iter=50000)\n",
        "    # ridge regression\",\n",
        "    elif penalty == 'L2':\n",
        "        regressor = Ridge(alpha=alpha, random_state=SEED, max_iter=50000) \n",
        "    \n",
        "    \n",
        "    return Pipeline([\n",
        "        ('pol', PolynomialFeatures(degree, include_bias=(degree == 0))),\n",
        "        ('reg', regressor)\n",
        "    ])\n",
        "\n",
        "display(make_model_without_Scaler(2))\n",
        "display(make_model_without_Scaler(2, penalty='L1', alpha=0.1))\n",
        "display(make_model_without_Scaler(2, penalty='L2', alpha=0.1))"
      ],
      "metadata": {
        "colab": {
          "base_uri": "https://localhost:8080/",
          "height": 345
        },
        "id": "lJWrOUyw_jIF",
        "outputId": "8b2ca274-b251-475f-e347-d18b55bc9fb5"
      },
      "execution_count": 43,
      "outputs": [
        {
          "output_type": "display_data",
          "data": {
            "text/plain": [
              "Pipeline(steps=[('pol', PolynomialFeatures(include_bias=False)),\n",
              "                ('reg', LinearRegression())])"
            ],
            "text/html": [
              "<style>#sk-903febce-2c4b-417b-bc42-2d26c4d04766 {color: black;background-color: white;}#sk-903febce-2c4b-417b-bc42-2d26c4d04766 pre{padding: 0;}#sk-903febce-2c4b-417b-bc42-2d26c4d04766 div.sk-toggleable {background-color: white;}#sk-903febce-2c4b-417b-bc42-2d26c4d04766 label.sk-toggleable__label {cursor: pointer;display: block;width: 100%;margin-bottom: 0;padding: 0.3em;box-sizing: border-box;text-align: center;}#sk-903febce-2c4b-417b-bc42-2d26c4d04766 label.sk-toggleable__label-arrow:before {content: \"▸\";float: left;margin-right: 0.25em;color: #696969;}#sk-903febce-2c4b-417b-bc42-2d26c4d04766 label.sk-toggleable__label-arrow:hover:before {color: black;}#sk-903febce-2c4b-417b-bc42-2d26c4d04766 div.sk-estimator:hover label.sk-toggleable__label-arrow:before {color: black;}#sk-903febce-2c4b-417b-bc42-2d26c4d04766 div.sk-toggleable__content {max-height: 0;max-width: 0;overflow: hidden;text-align: left;background-color: #f0f8ff;}#sk-903febce-2c4b-417b-bc42-2d26c4d04766 div.sk-toggleable__content pre {margin: 0.2em;color: black;border-radius: 0.25em;background-color: #f0f8ff;}#sk-903febce-2c4b-417b-bc42-2d26c4d04766 input.sk-toggleable__control:checked~div.sk-toggleable__content {max-height: 200px;max-width: 100%;overflow: auto;}#sk-903febce-2c4b-417b-bc42-2d26c4d04766 input.sk-toggleable__control:checked~label.sk-toggleable__label-arrow:before {content: \"▾\";}#sk-903febce-2c4b-417b-bc42-2d26c4d04766 div.sk-estimator input.sk-toggleable__control:checked~label.sk-toggleable__label {background-color: #d4ebff;}#sk-903febce-2c4b-417b-bc42-2d26c4d04766 div.sk-label input.sk-toggleable__control:checked~label.sk-toggleable__label {background-color: #d4ebff;}#sk-903febce-2c4b-417b-bc42-2d26c4d04766 input.sk-hidden--visually {border: 0;clip: rect(1px 1px 1px 1px);clip: rect(1px, 1px, 1px, 1px);height: 1px;margin: -1px;overflow: hidden;padding: 0;position: absolute;width: 1px;}#sk-903febce-2c4b-417b-bc42-2d26c4d04766 div.sk-estimator {font-family: monospace;background-color: #f0f8ff;border: 1px dotted black;border-radius: 0.25em;box-sizing: border-box;margin-bottom: 0.5em;}#sk-903febce-2c4b-417b-bc42-2d26c4d04766 div.sk-estimator:hover {background-color: #d4ebff;}#sk-903febce-2c4b-417b-bc42-2d26c4d04766 div.sk-parallel-item::after {content: \"\";width: 100%;border-bottom: 1px solid gray;flex-grow: 1;}#sk-903febce-2c4b-417b-bc42-2d26c4d04766 div.sk-label:hover label.sk-toggleable__label {background-color: #d4ebff;}#sk-903febce-2c4b-417b-bc42-2d26c4d04766 div.sk-serial::before {content: \"\";position: absolute;border-left: 1px solid gray;box-sizing: border-box;top: 2em;bottom: 0;left: 50%;}#sk-903febce-2c4b-417b-bc42-2d26c4d04766 div.sk-serial {display: flex;flex-direction: column;align-items: center;background-color: white;padding-right: 0.2em;padding-left: 0.2em;}#sk-903febce-2c4b-417b-bc42-2d26c4d04766 div.sk-item {z-index: 1;}#sk-903febce-2c4b-417b-bc42-2d26c4d04766 div.sk-parallel {display: flex;align-items: stretch;justify-content: center;background-color: white;}#sk-903febce-2c4b-417b-bc42-2d26c4d04766 div.sk-parallel::before {content: \"\";position: absolute;border-left: 1px solid gray;box-sizing: border-box;top: 2em;bottom: 0;left: 50%;}#sk-903febce-2c4b-417b-bc42-2d26c4d04766 div.sk-parallel-item {display: flex;flex-direction: column;position: relative;background-color: white;}#sk-903febce-2c4b-417b-bc42-2d26c4d04766 div.sk-parallel-item:first-child::after {align-self: flex-end;width: 50%;}#sk-903febce-2c4b-417b-bc42-2d26c4d04766 div.sk-parallel-item:last-child::after {align-self: flex-start;width: 50%;}#sk-903febce-2c4b-417b-bc42-2d26c4d04766 div.sk-parallel-item:only-child::after {width: 0;}#sk-903febce-2c4b-417b-bc42-2d26c4d04766 div.sk-dashed-wrapped {border: 1px dashed gray;margin: 0 0.4em 0.5em 0.4em;box-sizing: border-box;padding-bottom: 0.4em;background-color: white;position: relative;}#sk-903febce-2c4b-417b-bc42-2d26c4d04766 div.sk-label label {font-family: monospace;font-weight: bold;background-color: white;display: inline-block;line-height: 1.2em;}#sk-903febce-2c4b-417b-bc42-2d26c4d04766 div.sk-label-container {position: relative;z-index: 2;text-align: center;}#sk-903febce-2c4b-417b-bc42-2d26c4d04766 div.sk-container {/* jupyter's `normalize.less` sets `[hidden] { display: none; }` but bootstrap.min.css set `[hidden] { display: none !important; }` so we also need the `!important` here to be able to override the default hidden behavior on the sphinx rendered scikit-learn.org. See: https://github.com/scikit-learn/scikit-learn/issues/21755 */display: inline-block !important;position: relative;}#sk-903febce-2c4b-417b-bc42-2d26c4d04766 div.sk-text-repr-fallback {display: none;}</style><div id=\"sk-903febce-2c4b-417b-bc42-2d26c4d04766\" class=\"sk-top-container\"><div class=\"sk-text-repr-fallback\"><pre>Pipeline(steps=[(&#x27;pol&#x27;, PolynomialFeatures(include_bias=False)),\n",
              "                (&#x27;reg&#x27;, LinearRegression())])</pre><b>Please rerun this cell to show the HTML repr or trust the notebook.</b></div><div class=\"sk-container\" hidden><div class=\"sk-item sk-dashed-wrapped\"><div class=\"sk-label-container\"><div class=\"sk-label sk-toggleable\"><input class=\"sk-toggleable__control sk-hidden--visually\" id=\"b4da2871-4c2a-4edc-a4f8-9c6c4e947ed3\" type=\"checkbox\" ><label for=\"b4da2871-4c2a-4edc-a4f8-9c6c4e947ed3\" class=\"sk-toggleable__label sk-toggleable__label-arrow\">Pipeline</label><div class=\"sk-toggleable__content\"><pre>Pipeline(steps=[(&#x27;pol&#x27;, PolynomialFeatures(include_bias=False)),\n",
              "                (&#x27;reg&#x27;, LinearRegression())])</pre></div></div></div><div class=\"sk-serial\"><div class=\"sk-item\"><div class=\"sk-estimator sk-toggleable\"><input class=\"sk-toggleable__control sk-hidden--visually\" id=\"e8a33791-eb62-4354-bb7d-4423f1168e8f\" type=\"checkbox\" ><label for=\"e8a33791-eb62-4354-bb7d-4423f1168e8f\" class=\"sk-toggleable__label sk-toggleable__label-arrow\">PolynomialFeatures</label><div class=\"sk-toggleable__content\"><pre>PolynomialFeatures(include_bias=False)</pre></div></div></div><div class=\"sk-item\"><div class=\"sk-estimator sk-toggleable\"><input class=\"sk-toggleable__control sk-hidden--visually\" id=\"4b8e3ee1-d0bb-482c-ad3e-908f006dc556\" type=\"checkbox\" ><label for=\"4b8e3ee1-d0bb-482c-ad3e-908f006dc556\" class=\"sk-toggleable__label sk-toggleable__label-arrow\">LinearRegression</label><div class=\"sk-toggleable__content\"><pre>LinearRegression()</pre></div></div></div></div></div></div></div>"
            ]
          },
          "metadata": {}
        },
        {
          "output_type": "display_data",
          "data": {
            "text/plain": [
              "Pipeline(steps=[('pol', PolynomialFeatures(include_bias=False)),\n",
              "                ('reg', Lasso(alpha=0.1, max_iter=50000, random_state=42))])"
            ],
            "text/html": [
              "<style>#sk-b3b602c3-900e-4871-a6c9-b26348de6d8c {color: black;background-color: white;}#sk-b3b602c3-900e-4871-a6c9-b26348de6d8c pre{padding: 0;}#sk-b3b602c3-900e-4871-a6c9-b26348de6d8c div.sk-toggleable {background-color: white;}#sk-b3b602c3-900e-4871-a6c9-b26348de6d8c label.sk-toggleable__label {cursor: pointer;display: block;width: 100%;margin-bottom: 0;padding: 0.3em;box-sizing: border-box;text-align: center;}#sk-b3b602c3-900e-4871-a6c9-b26348de6d8c label.sk-toggleable__label-arrow:before {content: \"▸\";float: left;margin-right: 0.25em;color: #696969;}#sk-b3b602c3-900e-4871-a6c9-b26348de6d8c label.sk-toggleable__label-arrow:hover:before {color: black;}#sk-b3b602c3-900e-4871-a6c9-b26348de6d8c div.sk-estimator:hover label.sk-toggleable__label-arrow:before {color: black;}#sk-b3b602c3-900e-4871-a6c9-b26348de6d8c div.sk-toggleable__content {max-height: 0;max-width: 0;overflow: hidden;text-align: left;background-color: #f0f8ff;}#sk-b3b602c3-900e-4871-a6c9-b26348de6d8c div.sk-toggleable__content pre {margin: 0.2em;color: black;border-radius: 0.25em;background-color: #f0f8ff;}#sk-b3b602c3-900e-4871-a6c9-b26348de6d8c input.sk-toggleable__control:checked~div.sk-toggleable__content {max-height: 200px;max-width: 100%;overflow: auto;}#sk-b3b602c3-900e-4871-a6c9-b26348de6d8c input.sk-toggleable__control:checked~label.sk-toggleable__label-arrow:before {content: \"▾\";}#sk-b3b602c3-900e-4871-a6c9-b26348de6d8c div.sk-estimator input.sk-toggleable__control:checked~label.sk-toggleable__label {background-color: #d4ebff;}#sk-b3b602c3-900e-4871-a6c9-b26348de6d8c div.sk-label input.sk-toggleable__control:checked~label.sk-toggleable__label {background-color: #d4ebff;}#sk-b3b602c3-900e-4871-a6c9-b26348de6d8c input.sk-hidden--visually {border: 0;clip: rect(1px 1px 1px 1px);clip: rect(1px, 1px, 1px, 1px);height: 1px;margin: -1px;overflow: hidden;padding: 0;position: absolute;width: 1px;}#sk-b3b602c3-900e-4871-a6c9-b26348de6d8c div.sk-estimator {font-family: monospace;background-color: #f0f8ff;border: 1px dotted black;border-radius: 0.25em;box-sizing: border-box;margin-bottom: 0.5em;}#sk-b3b602c3-900e-4871-a6c9-b26348de6d8c div.sk-estimator:hover {background-color: #d4ebff;}#sk-b3b602c3-900e-4871-a6c9-b26348de6d8c div.sk-parallel-item::after {content: \"\";width: 100%;border-bottom: 1px solid gray;flex-grow: 1;}#sk-b3b602c3-900e-4871-a6c9-b26348de6d8c div.sk-label:hover label.sk-toggleable__label {background-color: #d4ebff;}#sk-b3b602c3-900e-4871-a6c9-b26348de6d8c div.sk-serial::before {content: \"\";position: absolute;border-left: 1px solid gray;box-sizing: border-box;top: 2em;bottom: 0;left: 50%;}#sk-b3b602c3-900e-4871-a6c9-b26348de6d8c div.sk-serial {display: flex;flex-direction: column;align-items: center;background-color: white;padding-right: 0.2em;padding-left: 0.2em;}#sk-b3b602c3-900e-4871-a6c9-b26348de6d8c div.sk-item {z-index: 1;}#sk-b3b602c3-900e-4871-a6c9-b26348de6d8c div.sk-parallel {display: flex;align-items: stretch;justify-content: center;background-color: white;}#sk-b3b602c3-900e-4871-a6c9-b26348de6d8c div.sk-parallel::before {content: \"\";position: absolute;border-left: 1px solid gray;box-sizing: border-box;top: 2em;bottom: 0;left: 50%;}#sk-b3b602c3-900e-4871-a6c9-b26348de6d8c div.sk-parallel-item {display: flex;flex-direction: column;position: relative;background-color: white;}#sk-b3b602c3-900e-4871-a6c9-b26348de6d8c div.sk-parallel-item:first-child::after {align-self: flex-end;width: 50%;}#sk-b3b602c3-900e-4871-a6c9-b26348de6d8c div.sk-parallel-item:last-child::after {align-self: flex-start;width: 50%;}#sk-b3b602c3-900e-4871-a6c9-b26348de6d8c div.sk-parallel-item:only-child::after {width: 0;}#sk-b3b602c3-900e-4871-a6c9-b26348de6d8c div.sk-dashed-wrapped {border: 1px dashed gray;margin: 0 0.4em 0.5em 0.4em;box-sizing: border-box;padding-bottom: 0.4em;background-color: white;position: relative;}#sk-b3b602c3-900e-4871-a6c9-b26348de6d8c div.sk-label label {font-family: monospace;font-weight: bold;background-color: white;display: inline-block;line-height: 1.2em;}#sk-b3b602c3-900e-4871-a6c9-b26348de6d8c div.sk-label-container {position: relative;z-index: 2;text-align: center;}#sk-b3b602c3-900e-4871-a6c9-b26348de6d8c div.sk-container {/* jupyter's `normalize.less` sets `[hidden] { display: none; }` but bootstrap.min.css set `[hidden] { display: none !important; }` so we also need the `!important` here to be able to override the default hidden behavior on the sphinx rendered scikit-learn.org. See: https://github.com/scikit-learn/scikit-learn/issues/21755 */display: inline-block !important;position: relative;}#sk-b3b602c3-900e-4871-a6c9-b26348de6d8c div.sk-text-repr-fallback {display: none;}</style><div id=\"sk-b3b602c3-900e-4871-a6c9-b26348de6d8c\" class=\"sk-top-container\"><div class=\"sk-text-repr-fallback\"><pre>Pipeline(steps=[(&#x27;pol&#x27;, PolynomialFeatures(include_bias=False)),\n",
              "                (&#x27;reg&#x27;, Lasso(alpha=0.1, max_iter=50000, random_state=42))])</pre><b>Please rerun this cell to show the HTML repr or trust the notebook.</b></div><div class=\"sk-container\" hidden><div class=\"sk-item sk-dashed-wrapped\"><div class=\"sk-label-container\"><div class=\"sk-label sk-toggleable\"><input class=\"sk-toggleable__control sk-hidden--visually\" id=\"2275f4bd-39b1-4095-8227-3751cfd1f5c8\" type=\"checkbox\" ><label for=\"2275f4bd-39b1-4095-8227-3751cfd1f5c8\" class=\"sk-toggleable__label sk-toggleable__label-arrow\">Pipeline</label><div class=\"sk-toggleable__content\"><pre>Pipeline(steps=[(&#x27;pol&#x27;, PolynomialFeatures(include_bias=False)),\n",
              "                (&#x27;reg&#x27;, Lasso(alpha=0.1, max_iter=50000, random_state=42))])</pre></div></div></div><div class=\"sk-serial\"><div class=\"sk-item\"><div class=\"sk-estimator sk-toggleable\"><input class=\"sk-toggleable__control sk-hidden--visually\" id=\"c28f60de-9b46-4041-94b7-28ead5265fb8\" type=\"checkbox\" ><label for=\"c28f60de-9b46-4041-94b7-28ead5265fb8\" class=\"sk-toggleable__label sk-toggleable__label-arrow\">PolynomialFeatures</label><div class=\"sk-toggleable__content\"><pre>PolynomialFeatures(include_bias=False)</pre></div></div></div><div class=\"sk-item\"><div class=\"sk-estimator sk-toggleable\"><input class=\"sk-toggleable__control sk-hidden--visually\" id=\"f67fa81a-6fdb-4470-8bb0-6efcc6740da6\" type=\"checkbox\" ><label for=\"f67fa81a-6fdb-4470-8bb0-6efcc6740da6\" class=\"sk-toggleable__label sk-toggleable__label-arrow\">Lasso</label><div class=\"sk-toggleable__content\"><pre>Lasso(alpha=0.1, max_iter=50000, random_state=42)</pre></div></div></div></div></div></div></div>"
            ]
          },
          "metadata": {}
        },
        {
          "output_type": "display_data",
          "data": {
            "text/plain": [
              "Pipeline(steps=[('pol', PolynomialFeatures(include_bias=False)),\n",
              "                ('reg', Ridge(alpha=0.1, max_iter=50000, random_state=42))])"
            ],
            "text/html": [
              "<style>#sk-f966293d-742a-4996-a9b5-c9e143f33a66 {color: black;background-color: white;}#sk-f966293d-742a-4996-a9b5-c9e143f33a66 pre{padding: 0;}#sk-f966293d-742a-4996-a9b5-c9e143f33a66 div.sk-toggleable {background-color: white;}#sk-f966293d-742a-4996-a9b5-c9e143f33a66 label.sk-toggleable__label {cursor: pointer;display: block;width: 100%;margin-bottom: 0;padding: 0.3em;box-sizing: border-box;text-align: center;}#sk-f966293d-742a-4996-a9b5-c9e143f33a66 label.sk-toggleable__label-arrow:before {content: \"▸\";float: left;margin-right: 0.25em;color: #696969;}#sk-f966293d-742a-4996-a9b5-c9e143f33a66 label.sk-toggleable__label-arrow:hover:before {color: black;}#sk-f966293d-742a-4996-a9b5-c9e143f33a66 div.sk-estimator:hover label.sk-toggleable__label-arrow:before {color: black;}#sk-f966293d-742a-4996-a9b5-c9e143f33a66 div.sk-toggleable__content {max-height: 0;max-width: 0;overflow: hidden;text-align: left;background-color: #f0f8ff;}#sk-f966293d-742a-4996-a9b5-c9e143f33a66 div.sk-toggleable__content pre {margin: 0.2em;color: black;border-radius: 0.25em;background-color: #f0f8ff;}#sk-f966293d-742a-4996-a9b5-c9e143f33a66 input.sk-toggleable__control:checked~div.sk-toggleable__content {max-height: 200px;max-width: 100%;overflow: auto;}#sk-f966293d-742a-4996-a9b5-c9e143f33a66 input.sk-toggleable__control:checked~label.sk-toggleable__label-arrow:before {content: \"▾\";}#sk-f966293d-742a-4996-a9b5-c9e143f33a66 div.sk-estimator input.sk-toggleable__control:checked~label.sk-toggleable__label {background-color: #d4ebff;}#sk-f966293d-742a-4996-a9b5-c9e143f33a66 div.sk-label input.sk-toggleable__control:checked~label.sk-toggleable__label {background-color: #d4ebff;}#sk-f966293d-742a-4996-a9b5-c9e143f33a66 input.sk-hidden--visually {border: 0;clip: rect(1px 1px 1px 1px);clip: rect(1px, 1px, 1px, 1px);height: 1px;margin: -1px;overflow: hidden;padding: 0;position: absolute;width: 1px;}#sk-f966293d-742a-4996-a9b5-c9e143f33a66 div.sk-estimator {font-family: monospace;background-color: #f0f8ff;border: 1px dotted black;border-radius: 0.25em;box-sizing: border-box;margin-bottom: 0.5em;}#sk-f966293d-742a-4996-a9b5-c9e143f33a66 div.sk-estimator:hover {background-color: #d4ebff;}#sk-f966293d-742a-4996-a9b5-c9e143f33a66 div.sk-parallel-item::after {content: \"\";width: 100%;border-bottom: 1px solid gray;flex-grow: 1;}#sk-f966293d-742a-4996-a9b5-c9e143f33a66 div.sk-label:hover label.sk-toggleable__label {background-color: #d4ebff;}#sk-f966293d-742a-4996-a9b5-c9e143f33a66 div.sk-serial::before {content: \"\";position: absolute;border-left: 1px solid gray;box-sizing: border-box;top: 2em;bottom: 0;left: 50%;}#sk-f966293d-742a-4996-a9b5-c9e143f33a66 div.sk-serial {display: flex;flex-direction: column;align-items: center;background-color: white;padding-right: 0.2em;padding-left: 0.2em;}#sk-f966293d-742a-4996-a9b5-c9e143f33a66 div.sk-item {z-index: 1;}#sk-f966293d-742a-4996-a9b5-c9e143f33a66 div.sk-parallel {display: flex;align-items: stretch;justify-content: center;background-color: white;}#sk-f966293d-742a-4996-a9b5-c9e143f33a66 div.sk-parallel::before {content: \"\";position: absolute;border-left: 1px solid gray;box-sizing: border-box;top: 2em;bottom: 0;left: 50%;}#sk-f966293d-742a-4996-a9b5-c9e143f33a66 div.sk-parallel-item {display: flex;flex-direction: column;position: relative;background-color: white;}#sk-f966293d-742a-4996-a9b5-c9e143f33a66 div.sk-parallel-item:first-child::after {align-self: flex-end;width: 50%;}#sk-f966293d-742a-4996-a9b5-c9e143f33a66 div.sk-parallel-item:last-child::after {align-self: flex-start;width: 50%;}#sk-f966293d-742a-4996-a9b5-c9e143f33a66 div.sk-parallel-item:only-child::after {width: 0;}#sk-f966293d-742a-4996-a9b5-c9e143f33a66 div.sk-dashed-wrapped {border: 1px dashed gray;margin: 0 0.4em 0.5em 0.4em;box-sizing: border-box;padding-bottom: 0.4em;background-color: white;position: relative;}#sk-f966293d-742a-4996-a9b5-c9e143f33a66 div.sk-label label {font-family: monospace;font-weight: bold;background-color: white;display: inline-block;line-height: 1.2em;}#sk-f966293d-742a-4996-a9b5-c9e143f33a66 div.sk-label-container {position: relative;z-index: 2;text-align: center;}#sk-f966293d-742a-4996-a9b5-c9e143f33a66 div.sk-container {/* jupyter's `normalize.less` sets `[hidden] { display: none; }` but bootstrap.min.css set `[hidden] { display: none !important; }` so we also need the `!important` here to be able to override the default hidden behavior on the sphinx rendered scikit-learn.org. See: https://github.com/scikit-learn/scikit-learn/issues/21755 */display: inline-block !important;position: relative;}#sk-f966293d-742a-4996-a9b5-c9e143f33a66 div.sk-text-repr-fallback {display: none;}</style><div id=\"sk-f966293d-742a-4996-a9b5-c9e143f33a66\" class=\"sk-top-container\"><div class=\"sk-text-repr-fallback\"><pre>Pipeline(steps=[(&#x27;pol&#x27;, PolynomialFeatures(include_bias=False)),\n",
              "                (&#x27;reg&#x27;, Ridge(alpha=0.1, max_iter=50000, random_state=42))])</pre><b>Please rerun this cell to show the HTML repr or trust the notebook.</b></div><div class=\"sk-container\" hidden><div class=\"sk-item sk-dashed-wrapped\"><div class=\"sk-label-container\"><div class=\"sk-label sk-toggleable\"><input class=\"sk-toggleable__control sk-hidden--visually\" id=\"89f330bc-b6d2-4b84-b673-be7b25a04a89\" type=\"checkbox\" ><label for=\"89f330bc-b6d2-4b84-b673-be7b25a04a89\" class=\"sk-toggleable__label sk-toggleable__label-arrow\">Pipeline</label><div class=\"sk-toggleable__content\"><pre>Pipeline(steps=[(&#x27;pol&#x27;, PolynomialFeatures(include_bias=False)),\n",
              "                (&#x27;reg&#x27;, Ridge(alpha=0.1, max_iter=50000, random_state=42))])</pre></div></div></div><div class=\"sk-serial\"><div class=\"sk-item\"><div class=\"sk-estimator sk-toggleable\"><input class=\"sk-toggleable__control sk-hidden--visually\" id=\"db573236-db11-4d52-8b2b-31fa33372036\" type=\"checkbox\" ><label for=\"db573236-db11-4d52-8b2b-31fa33372036\" class=\"sk-toggleable__label sk-toggleable__label-arrow\">PolynomialFeatures</label><div class=\"sk-toggleable__content\"><pre>PolynomialFeatures(include_bias=False)</pre></div></div></div><div class=\"sk-item\"><div class=\"sk-estimator sk-toggleable\"><input class=\"sk-toggleable__control sk-hidden--visually\" id=\"5fea712f-4954-4626-ab0b-d6b73bb60498\" type=\"checkbox\" ><label for=\"5fea712f-4954-4626-ab0b-d6b73bb60498\" class=\"sk-toggleable__label sk-toggleable__label-arrow\">Ridge</label><div class=\"sk-toggleable__content\"><pre>Ridge(alpha=0.1, max_iter=50000, random_state=42)</pre></div></div></div></div></div></div></div>"
            ]
          },
          "metadata": {}
        }
      ]
    },
    {
      "cell_type": "markdown",
      "metadata": {
        "id": "FbrW70s8ndlH"
      },
      "source": [
        "#### L1"
      ]
    },
    {
      "cell_type": "markdown",
      "source": [
        "Сравним графики обучения моделей с применением StandardScaler и без него."
      ],
      "metadata": {
        "id": "xjdc8Mq__sNL"
      }
    },
    {
      "cell_type": "code",
      "execution_count": 44,
      "metadata": {
        "colab": {
          "base_uri": "https://localhost:8080/",
          "height": 380,
          "referenced_widgets": [
            "c0c94b8017644b93aeafc669c56d9dc1",
            "debad54cad724f51986ec36dfa81ac74",
            "be278678086f492a9a36aa8919e4c116",
            "94a311e05801424d8d62a8c6e7f80891",
            "124312c1c12747fbb98f3d402b3e4e53",
            "dca5e5ab9d764c7bbe385b414588788f",
            "451f937c7aea46df8dc03082edb45e5e",
            "85f990d344104f248b1a9e362cdec08a",
            "a620fb2848744a348df36a7886b761bf",
            "84ad1f51453c4fb4a4f90c87eb08e726",
            "ad8514c9620341a88a25f5b88e8723dd"
          ]
        },
        "id": "ZSgRexkvndlH",
        "outputId": "6de20375-a388-4ce3-ef02-e6bcc2d58119"
      },
      "outputs": [
        {
          "output_type": "display_data",
          "data": {
            "text/plain": [
              "  0%|          | 0/41 [00:00<?, ?it/s]"
            ],
            "application/vnd.jupyter.widget-view+json": {
              "version_major": 2,
              "version_minor": 0,
              "model_id": "c0c94b8017644b93aeafc669c56d9dc1"
            }
          },
          "metadata": {}
        },
        {
          "output_type": "display_data",
          "data": {
            "text/plain": [
              "<Figure size 648x324 with 2 Axes>"
            ],
            "image/png": "[encoded data removed]"
          },
          "metadata": {
            "needs_background": "light"
          }
        }
      ],
      "source": [
        "# with StandardScaler\n",
        "rmse_train, rmse_valid, avg_coef_scaler = [], [], []\n",
        "for alpha in tqdm(ALPHAS):    \n",
        "    results = cross_validate(make_model(degree=15, penalty='L1', alpha=alpha), \n",
        "                             X_hw, y_hw, cv=2,\n",
        "                             return_train_score=True, return_estimator=True,\n",
        "                             scoring='neg_root_mean_squared_error')\n",
        "    rmse_train.append(-np.mean(results['train_score']))\n",
        "    rmse_valid.append(-np.mean(results['test_score']))\n",
        "    \n",
        "    avg_coef_scaler.append(        \n",
        "        # average over CV folds\n",
        "        np.mean([            \n",
        "            # mean absolute value of weights\n",
        "            np.mean(np.abs(model['reg'].coef_))\n",
        "            for model in results['estimator']\n",
        "        ]))\n",
        "    \n",
        "plot_fitting_graph(ALPHAS, rmse_train, rmse_valid,\n",
        "                   xlabel='Regularization strength (alpha)', ylabel='Error (RMSE)',\n",
        "                   custom_metric=avg_coef, custom_label='avg(|$w_i$|)',\n",
        "                   title='Least squares polynomial regression')"
      ]
    },
    {
      "cell_type": "code",
      "source": [
        "# without StandardScaler\n",
        "rmse_train, rmse_valid, avg_coef = [], [], []\n",
        "for alpha in tqdm(ALPHAS):    \n",
        "    results = cross_validate(make_model_without_Scaler(degree=15, penalty='L1', alpha=alpha), \n",
        "                             X_hw, y_hw, cv=2,\n",
        "                             return_train_score=True, return_estimator=True,\n",
        "                             scoring='neg_root_mean_squared_error')\n",
        "    rmse_train.append(-np.mean(results['train_score']))\n",
        "    rmse_valid.append(-np.mean(results['test_score']))\n",
        "    \n",
        "    avg_coef.append(        \n",
        "        # average over CV folds\n",
        "        np.mean([            \n",
        "            # mean absolute value of weights\n",
        "            np.mean(np.abs(model['reg'].coef_))\n",
        "            for model in results['estimator']\n",
        "        ]))\n",
        "    \n",
        "plot_fitting_graph(ALPHAS, rmse_train, rmse_valid,\n",
        "                   xlabel='Regularization strength (alpha)', ylabel='Error (RMSE)',\n",
        "                   custom_metric=avg_coef, custom_label='avg(|$w_i$|)',\n",
        "                   title='Least squares polynomial regression')"
      ],
      "metadata": {
        "colab": {
          "base_uri": "https://localhost:8080/",
          "height": 380,
          "referenced_widgets": [
            "5ddb1c1cacd44a9db2db49961d732860",
            "7a7e4306d8e848a39a7cea19cd823b60",
            "c223f4df571546e898a3a820a9e4e116",
            "a1828a9bf978431a8845f07822a17f28",
            "9d02979d12644dd3867d5319a8a5da58",
            "d6bd0fd0a3294e4289249f2ca245861c",
            "3222e6e1e8b946259f90fea965b2c298",
            "0ade6dc3f2ba4e8cafa09230d47cd934",
            "41e142923c834537907d18d3f4f43c2a",
            "b687007b735340c48ae63f225afb2526",
            "8b5343f71bb940c9aaead282f630be01"
          ]
        },
        "id": "Y7Wa5QX0_7hk",
        "outputId": "15aaf026-a6bd-485e-f62f-1c072547811a"
      },
      "execution_count": 45,
      "outputs": [
        {
          "output_type": "display_data",
          "data": {
            "text/plain": [
              "  0%|          | 0/41 [00:00<?, ?it/s]"
            ],
            "application/vnd.jupyter.widget-view+json": {
              "version_major": 2,
              "version_minor": 0,
              "model_id": "5ddb1c1cacd44a9db2db49961d732860"
            }
          },
          "metadata": {}
        },
        {
          "output_type": "display_data",
          "data": {
            "text/plain": [
              "<Figure size 648x324 with 2 Axes>"
            ],
            "image/png": "[encoded data removed]"
          },
          "metadata": {
            "needs_background": "light"
          }
        }
      ]
    },
    {
      "cell_type": "code",
      "source": [
        "# сравним коэффициенты моделей обученные с Scaler и без\n",
        "print(f'Coef with standart scaler: {avg_coef_scaler[:5]}')\n",
        "print(f'Coef without standart scaler: {avg_coef[:5]}')"
      ],
      "metadata": {
        "colab": {
          "base_uri": "https://localhost:8080/"
        },
        "id": "sx7dEUnLAJxD",
        "outputId": "14f73ccd-7637-457a-949a-6793bdc6a4e1"
      },
      "execution_count": 51,
      "outputs": [
        {
          "output_type": "stream",
          "name": "stdout",
          "text": [
            "Coef with standart scaler: [0.2796852864127659, 0.06948053047948144, 0.045560963454331097, 0.0402180528978104, 0.03591168346083241]\n",
            "Coef without standart scaler: [9.452216906197379e-30, 0.000382299709367336, 0.00024766198621911683, 0.00018169653536147468, 0.00011266290823496244]\n"
          ]
        }
      ]
    },
    {
      "cell_type": "markdown",
      "metadata": {
        "id": "oYhe-zS1ndlH"
      },
      "source": [
        "#### L2"
      ]
    },
    {
      "cell_type": "code",
      "execution_count": 52,
      "metadata": {
        "colab": {
          "base_uri": "https://localhost:8080/",
          "height": 380,
          "referenced_widgets": [
            "e184a836f9844a269645e8e74d924177",
            "3689fa57bcf047a19241feea27114211",
            "ca78dedbe74e4d5cac9f3064ae8aec77",
            "5f10786dcfe74b2184e90f9ac4626705",
            "63fd681be5d3473d9c3ac0bf04fa752e",
            "bdc794affde347ba84669869d7bc0f3a",
            "d2c2c1cca96f4200b5e6461a57a73be2",
            "22261378b5834f4aa103dc599d80d20f",
            "ec0831b5cc67414c92507c0944b4221f",
            "cd673237d0f646d4bdb9e7b6e41d42d6",
            "4073082e47fe4962b618832be48029c0"
          ]
        },
        "id": "k52NbF4_ndlH",
        "outputId": "de833a55-aef7-4fec-da37-2ce4c31de779"
      },
      "outputs": [
        {
          "output_type": "display_data",
          "data": {
            "text/plain": [
              "  0%|          | 0/41 [00:00<?, ?it/s]"
            ],
            "application/vnd.jupyter.widget-view+json": {
              "version_major": 2,
              "version_minor": 0,
              "model_id": "e184a836f9844a269645e8e74d924177"
            }
          },
          "metadata": {}
        },
        {
          "output_type": "display_data",
          "data": {
            "text/plain": [
              "<Figure size 648x324 with 2 Axes>"
            ],
            "image/png": "[encoded data removed]"
          },
          "metadata": {
            "needs_background": "light"
          }
        }
      ],
      "source": [
        "# with StandardScaler\n",
        "rmse_train, rmse_valid, avg_coef_scaler = [], [], []\n",
        "for alpha in tqdm(ALPHAS):    \n",
        "    results = cross_validate(make_model(degree=15, penalty='L2', alpha=alpha), \n",
        "                             X_hw, y_hw, cv=2,\n",
        "                             return_train_score=True, return_estimator=True,\n",
        "                             scoring='neg_root_mean_squared_error')\n",
        "    rmse_train.append(-np.mean(results['train_score']))\n",
        "    rmse_valid.append(-np.mean(results['test_score']))\n",
        "\n",
        "    avg_coef_scaler.append(        \n",
        "        # average over CV folds\n",
        "        np.mean([            \n",
        "            # mean absolute value of weights\n",
        "            np.mean(np.abs(model['reg'].coef_))\n",
        "            for model in results['estimator']\n",
        "        ]))\n",
        "    \n",
        "plot_fitting_graph(ALPHAS, rmse_train, rmse_valid,\n",
        "                   xlabel='Regularization strength (alpha)', ylabel='Error (RMSE)',\n",
        "                   custom_metric=avg_coef_scaler, custom_label='avg(|$w_i$|)',\n",
        "                   title='Least squares polynomial regression')"
      ]
    },
    {
      "cell_type": "code",
      "source": [
        "# without StandardScaler\n",
        "rmse_train, rmse_valid, avg_coef = [], [], []\n",
        "for alpha in tqdm(ALPHAS):    \n",
        "    results = cross_validate(make_model_without_Scaler(degree=15, penalty='L2', alpha=alpha), \n",
        "                             X_hw, y_hw, cv=2,\n",
        "                             return_train_score=True, return_estimator=True,\n",
        "                             scoring='neg_root_mean_squared_error')\n",
        "    rmse_train.append(-np.mean(results['train_score']))\n",
        "    rmse_valid.append(-np.mean(results['test_score']))\n",
        "\n",
        "    avg_coef.append(        \n",
        "        # average over CV folds\n",
        "        np.mean([            \n",
        "            # mean absolute value of weights\n",
        "            np.mean(np.abs(model['reg'].coef_))\n",
        "            for model in results['estimator']\n",
        "        ]))\n",
        "    \n",
        "plot_fitting_graph(ALPHAS, rmse_train, rmse_valid,\n",
        "                   xlabel='Regularization strength (alpha)', ylabel='Error (RMSE)',\n",
        "                   custom_metric=avg_coef, custom_label='avg(|$w_i$|)',\n",
        "                   title='Least squares polynomial regression')"
      ],
      "metadata": {
        "colab": {
          "base_uri": "https://localhost:8080/",
          "height": 380,
          "referenced_widgets": [
            "7e1669ee18404900a11732df6f92cbc5",
            "649b46ca753d460c90f91831f16ab140",
            "65aa490bf4a04b25a26b850bf07ee75a",
            "af2efd5d6c164000bf06d4d31fd7f1c9",
            "5e439e819f564bda9773c09bd66138de",
            "0fa0cff9fb6546dcbcc6b12bf9b8fdc0",
            "cc0addaf04db44289dc9d5f147ea58c7",
            "bbdf419a09db4dfcb4be0758229a6703",
            "945013e322e24d62b3bfa448b86aafb4",
            "692171c6f62145c5b47820351af8bb53",
            "421dcf2bd9c3473bb79a24e3e9edcd07"
          ]
        },
        "id": "QJBdPV99-qlB",
        "outputId": "d99d13a8-0d1d-4616-d15a-c5df3e28831c"
      },
      "execution_count": 53,
      "outputs": [
        {
          "output_type": "display_data",
          "data": {
            "text/plain": [
              "  0%|          | 0/41 [00:00<?, ?it/s]"
            ],
            "application/vnd.jupyter.widget-view+json": {
              "version_major": 2,
              "version_minor": 0,
              "model_id": "7e1669ee18404900a11732df6f92cbc5"
            }
          },
          "metadata": {}
        },
        {
          "output_type": "display_data",
          "data": {
            "text/plain": [
              "<Figure size 648x324 with 2 Axes>"
            ],
            "image/png": "[encoded data removed]"
          },
          "metadata": {
            "needs_background": "light"
          }
        }
      ]
    },
    {
      "cell_type": "code",
      "source": [
        "# сравним коэффициенты моделей обученные с Scaler и без\n",
        "print(f'Coef with standart scaler: {avg_coef_scaler[:5]}')\n",
        "print(f'Coef without standart scaler: {avg_coef[:5]}')"
      ],
      "metadata": {
        "colab": {
          "base_uri": "https://localhost:8080/"
        },
        "id": "F1l6B4Tu_WdH",
        "outputId": "ebee5a88-b325-4b2e-83ea-1627d72b78a7"
      },
      "execution_count": 54,
      "outputs": [
        {
          "output_type": "stream",
          "name": "stdout",
          "text": [
            "Coef with standart scaler: [0.2796852864127659, 0.2600094919919954, 0.24444751812148624, 0.2318477543518057, 0.22134384103050642]\n",
            "Coef without standart scaler: [9.452216906197379e-30, 5.951630653850182e-35, 5.951630653850182e-35, 5.951630653850182e-35, 5.951630653850182e-35]\n"
          ]
        }
      ]
    },
    {
      "cell_type": "markdown",
      "metadata": {
        "id": "wPwZX_mandlH"
      },
      "source": [
        "#### Summary\n",
        "\n"
      ]
    },
    {
      "cell_type": "markdown",
      "source": [
        "Можно сделать вывод, что регуляризация плохо работает на ненормализованных данных, модель ведет себя очень нестабильно, веса получаются неадекватные.\n",
        "\n",
        "Поэтому важно применять нормализацию к данным. Так как если какая-то переменная имеет значения, среднее и дисперсию, которые намного больше, чем у других переменных, она может доминировать над целевой функцией и лишить модель возможности правильно учиться на других функциях.\n",
        "\n",
        "(где-то забыла поменять/добавить названия графиков, не снижайте за это, пожалуйста: слишком много времени займет заново прогонять все модели, чтобы просто исправить графики)"
      ],
      "metadata": {
        "id": "pFcKdKNrCIeU"
      }
    },
    {
      "cell_type": "code",
      "source": [
        ""
      ],
      "metadata": {
        "id": "mourqDJ71u_3"
      },
      "execution_count": null,
      "outputs": []
    }
  ],
  "metadata": {
    "kernelspec": {
      "display_name": "Python 3 (ipykernel)",
      "language": "python",
      "name": "python3"
    },
    "language_info": {
      "codemirror_mode": {
        "name": "ipython",
        "version": 3
      },
      "file_extension": ".py",
      "mimetype": "text/x-python",
      "name": "python",
      "nbconvert_exporter": "python",
      "pygments_lexer": "ipython3",
      "version": "3.8.12"
    },
    "toc": {
      "base_numbering": 1,
      "nav_menu": {},
      "number_sections": true,
      "sideBar": true,
      "skip_h1_title": false,
      "title_cell": "Table of Contents",
      "title_sidebar": "Contents",
      "toc_cell": false,
      "toc_position": {
        "height": "calc(100% - 180px)",
        "left": "10px",
        "top": "150px",
        "width": "288.188px"
      },
      "toc_section_display": true,
      "toc_window_display": true
    },
    "varInspector": {
      "cols": {
        "lenName": 16,
        "lenType": 16,
        "lenVar": 40
      },
      "kernels_config": {
        "python": {
          "delete_cmd_postfix": "",
          "delete_cmd_prefix": "del ",
          "library": "var_list.py",
          "varRefreshCmd": "print(var_dic_list())"
        },
        "r": {
          "delete_cmd_postfix": ") ",
          "delete_cmd_prefix": "rm(",
          "library": "var_list.r",
          "varRefreshCmd": "cat(var_dic_list()) "
        }
      },
      "types_to_exclude": [
        "module",
        "function",
        "builtin_function_or_method",
        "instance",
        "_Feature"
      ],
      "window_display": false
    },
    "colab": {
      "name": "overfitting_regularization.ipynb",
      "provenance": []
    },
    "widgets": {
      "application/vnd.jupyter.widget-state+json": {
        "2e36069e504e454ebed9637eb7a74e6b": {
          "model_module": "@jupyter-widgets/controls",
          "model_name": "HBoxModel",
          "model_module_version": "1.5.0",
          "state": {
            "_dom_classes": [],
            "_model_module": "@jupyter-widgets/controls",
            "_model_module_version": "1.5.0",
            "_model_name": "HBoxModel",
            "_view_count": null,
            "_view_module": "@jupyter-widgets/controls",
            "_view_module_version": "1.5.0",
            "_view_name": "HBoxView",
            "box_style": "",
            "children": [
              "IPY_MODEL_377f8f080a58431781919196774964b5",
              "IPY_MODEL_dcb9cf92e26747b2a8d8d014e05b7aec",
              "IPY_MODEL_6f2162db9d954118a2292d1ce5848422"
            ],
            "layout": "IPY_MODEL_3559a1a9dc7948dd91bb7f4ac0e3f269"
          }
        },
        "377f8f080a58431781919196774964b5": {
          "model_module": "@jupyter-widgets/controls",
          "model_name": "HTMLModel",
          "model_module_version": "1.5.0",
          "state": {
            "_dom_classes": [],
            "_model_module": "@jupyter-widgets/controls",
            "_model_module_version": "1.5.0",
            "_model_name": "HTMLModel",
            "_view_count": null,
            "_view_module": "@jupyter-widgets/controls",
            "_view_module_version": "1.5.0",
            "_view_name": "HTMLView",
            "description": "",
            "description_tooltip": null,
            "layout": "IPY_MODEL_2389b425debf47beb9de8192690b0541",
            "placeholder": "​",
            "style": "IPY_MODEL_46d8869f38c444bd9a8434f3bac4b9bd",
            "value": "100%"
          }
        },
        "dcb9cf92e26747b2a8d8d014e05b7aec": {
          "model_module": "@jupyter-widgets/controls",
          "model_name": "FloatProgressModel",
          "model_module_version": "1.5.0",
          "state": {
            "_dom_classes": [],
            "_model_module": "@jupyter-widgets/controls",
            "_model_module_version": "1.5.0",
            "_model_name": "FloatProgressModel",
            "_view_count": null,
            "_view_module": "@jupyter-widgets/controls",
            "_view_module_version": "1.5.0",
            "_view_name": "ProgressView",
            "bar_style": "success",
            "description": "",
            "description_tooltip": null,
            "layout": "IPY_MODEL_97fe73780584443188126c5680de8412",
            "max": 15,
            "min": 0,
            "orientation": "horizontal",
            "style": "IPY_MODEL_55805f7ba1f14858812b6824253e86e3",
            "value": 15
          }
        },
        "6f2162db9d954118a2292d1ce5848422": {
          "model_module": "@jupyter-widgets/controls",
          "model_name": "HTMLModel",
          "model_module_version": "1.5.0",
          "state": {
            "_dom_classes": [],
            "_model_module": "@jupyter-widgets/controls",
            "_model_module_version": "1.5.0",
            "_model_name": "HTMLModel",
            "_view_count": null,
            "_view_module": "@jupyter-widgets/controls",
            "_view_module_version": "1.5.0",
            "_view_name": "HTMLView",
            "description": "",
            "description_tooltip": null,
            "layout": "IPY_MODEL_a22bda9f99da45cf9a43b95b73ed1774",
            "placeholder": "​",
            "style": "IPY_MODEL_d7a84ea2a08747ebbba7949a712f4bb1",
            "value": " 15/15 [02:06&lt;00:00, 25.97s/it]"
          }
        },
        "3559a1a9dc7948dd91bb7f4ac0e3f269": {
          "model_module": "@jupyter-widgets/base",
          "model_name": "LayoutModel",
          "model_module_version": "1.2.0",
          "state": {
            "_model_module": "@jupyter-widgets/base",
            "_model_module_version": "1.2.0",
            "_model_name": "LayoutModel",
            "_view_count": null,
            "_view_module": "@jupyter-widgets/base",
            "_view_module_version": "1.2.0",
            "_view_name": "LayoutView",
            "align_content": null,
            "align_items": null,
            "align_self": null,
            "border": null,
            "bottom": null,
            "display": null,
            "flex": null,
            "flex_flow": null,
            "grid_area": null,
            "grid_auto_columns": null,
            "grid_auto_flow": null,
            "grid_auto_rows": null,
            "grid_column": null,
            "grid_gap": null,
            "grid_row": null,
            "grid_template_areas": null,
            "grid_template_columns": null,
            "grid_template_rows": null,
            "height": null,
            "justify_content": null,
            "justify_items": null,
            "left": null,
            "margin": null,
            "max_height": null,
            "max_width": null,
            "min_height": null,
            "min_width": null,
            "object_fit": null,
            "object_position": null,
            "order": null,
            "overflow": null,
            "overflow_x": null,
            "overflow_y": null,
            "padding": null,
            "right": null,
            "top": null,
            "visibility": null,
            "width": null
          }
        },
        "2389b425debf47beb9de8192690b0541": {
          "model_module": "@jupyter-widgets/base",
          "model_name": "LayoutModel",
          "model_module_version": "1.2.0",
          "state": {
            "_model_module": "@jupyter-widgets/base",
            "_model_module_version": "1.2.0",
            "_model_name": "LayoutModel",
            "_view_count": null,
            "_view_module": "@jupyter-widgets/base",
            "_view_module_version": "1.2.0",
            "_view_name": "LayoutView",
            "align_content": null,
            "align_items": null,
            "align_self": null,
            "border": null,
            "bottom": null,
            "display": null,
            "flex": null,
            "flex_flow": null,
            "grid_area": null,
            "grid_auto_columns": null,
            "grid_auto_flow": null,
            "grid_auto_rows": null,
            "grid_column": null,
            "grid_gap": null,
            "grid_row": null,
            "grid_template_areas": null,
            "grid_template_columns": null,
            "grid_template_rows": null,
            "height": null,
            "justify_content": null,
            "justify_items": null,
            "left": null,
            "margin": null,
            "max_height": null,
            "max_width": null,
            "min_height": null,
            "min_width": null,
            "object_fit": null,
            "object_position": null,
            "order": null,
            "overflow": null,
            "overflow_x": null,
            "overflow_y": null,
            "padding": null,
            "right": null,
            "top": null,
            "visibility": null,
            "width": null
          }
        },
        "46d8869f38c444bd9a8434f3bac4b9bd": {
          "model_module": "@jupyter-widgets/controls",
          "model_name": "DescriptionStyleModel",
          "model_module_version": "1.5.0",
          "state": {
            "_model_module": "@jupyter-widgets/controls",
            "_model_module_version": "1.5.0",
            "_model_name": "DescriptionStyleModel",
            "_view_count": null,
            "_view_module": "@jupyter-widgets/base",
            "_view_module_version": "1.2.0",
            "_view_name": "StyleView",
            "description_width": ""
          }
        },
        "97fe73780584443188126c5680de8412": {
          "model_module": "@jupyter-widgets/base",
          "model_name": "LayoutModel",
          "model_module_version": "1.2.0",
          "state": {
            "_model_module": "@jupyter-widgets/base",
            "_model_module_version": "1.2.0",
            "_model_name": "LayoutModel",
            "_view_count": null,
            "_view_module": "@jupyter-widgets/base",
            "_view_module_version": "1.2.0",
            "_view_name": "LayoutView",
            "align_content": null,
            "align_items": null,
            "align_self": null,
            "border": null,
            "bottom": null,
            "display": null,
            "flex": null,
            "flex_flow": null,
            "grid_area": null,
            "grid_auto_columns": null,
            "grid_auto_flow": null,
            "grid_auto_rows": null,
            "grid_column": null,
            "grid_gap": null,
            "grid_row": null,
            "grid_template_areas": null,
            "grid_template_columns": null,
            "grid_template_rows": null,
            "height": null,
            "justify_content": null,
            "justify_items": null,
            "left": null,
            "margin": null,
            "max_height": null,
            "max_width": null,
            "min_height": null,
            "min_width": null,
            "object_fit": null,
            "object_position": null,
            "order": null,
            "overflow": null,
            "overflow_x": null,
            "overflow_y": null,
            "padding": null,
            "right": null,
            "top": null,
            "visibility": null,
            "width": null
          }
        },
        "55805f7ba1f14858812b6824253e86e3": {
          "model_module": "@jupyter-widgets/controls",
          "model_name": "ProgressStyleModel",
          "model_module_version": "1.5.0",
          "state": {
            "_model_module": "@jupyter-widgets/controls",
            "_model_module_version": "1.5.0",
            "_model_name": "ProgressStyleModel",
            "_view_count": null,
            "_view_module": "@jupyter-widgets/base",
            "_view_module_version": "1.2.0",
            "_view_name": "StyleView",
            "bar_color": null,
            "description_width": ""
          }
        },
        "a22bda9f99da45cf9a43b95b73ed1774": {
          "model_module": "@jupyter-widgets/base",
          "model_name": "LayoutModel",
          "model_module_version": "1.2.0",
          "state": {
            "_model_module": "@jupyter-widgets/base",
            "_model_module_version": "1.2.0",
            "_model_name": "LayoutModel",
            "_view_count": null,
            "_view_module": "@jupyter-widgets/base",
            "_view_module_version": "1.2.0",
            "_view_name": "LayoutView",
            "align_content": null,
            "align_items": null,
            "align_self": null,
            "border": null,
            "bottom": null,
            "display": null,
            "flex": null,
            "flex_flow": null,
            "grid_area": null,
            "grid_auto_columns": null,
            "grid_auto_flow": null,
            "grid_auto_rows": null,
            "grid_column": null,
            "grid_gap": null,
            "grid_row": null,
            "grid_template_areas": null,
            "grid_template_columns": null,
            "grid_template_rows": null,
            "height": null,
            "justify_content": null,
            "justify_items": null,
            "left": null,
            "margin": null,
            "max_height": null,
            "max_width": null,
            "min_height": null,
            "min_width": null,
            "object_fit": null,
            "object_position": null,
            "order": null,
            "overflow": null,
            "overflow_x": null,
            "overflow_y": null,
            "padding": null,
            "right": null,
            "top": null,
            "visibility": null,
            "width": null
          }
        },
        "d7a84ea2a08747ebbba7949a712f4bb1": {
          "model_module": "@jupyter-widgets/controls",
          "model_name": "DescriptionStyleModel",
          "model_module_version": "1.5.0",
          "state": {
            "_model_module": "@jupyter-widgets/controls",
            "_model_module_version": "1.5.0",
            "_model_name": "DescriptionStyleModel",
            "_view_count": null,
            "_view_module": "@jupyter-widgets/base",
            "_view_module_version": "1.2.0",
            "_view_name": "StyleView",
            "description_width": ""
          }
        },
        "5d2dca4fc30d48c39ddefa79a51da426": {
          "model_module": "@jupyter-widgets/controls",
          "model_name": "HBoxModel",
          "model_module_version": "1.5.0",
          "state": {
            "_dom_classes": [],
            "_model_module": "@jupyter-widgets/controls",
            "_model_module_version": "1.5.0",
            "_model_name": "HBoxModel",
            "_view_count": null,
            "_view_module": "@jupyter-widgets/controls",
            "_view_module_version": "1.5.0",
            "_view_name": "HBoxView",
            "box_style": "",
            "children": [
              "IPY_MODEL_d244a7dac6f146cebc76db2a4173d373",
              "IPY_MODEL_6ab3854188fa42438cb072553f0d7537",
              "IPY_MODEL_889b128dceed4efcbe503df6d515e3bb"
            ],
            "layout": "IPY_MODEL_e09245bd6c8845bc921b1007e693ba5f"
          }
        },
        "d244a7dac6f146cebc76db2a4173d373": {
          "model_module": "@jupyter-widgets/controls",
          "model_name": "HTMLModel",
          "model_module_version": "1.5.0",
          "state": {
            "_dom_classes": [],
            "_model_module": "@jupyter-widgets/controls",
            "_model_module_version": "1.5.0",
            "_model_name": "HTMLModel",
            "_view_count": null,
            "_view_module": "@jupyter-widgets/controls",
            "_view_module_version": "1.5.0",
            "_view_name": "HTMLView",
            "description": "",
            "description_tooltip": null,
            "layout": "IPY_MODEL_d6685c55d73e4221bbe9bfd227b45e28",
            "placeholder": "​",
            "style": "IPY_MODEL_7fc749c05f6a41038975cfa8566de58b",
            "value": "100%"
          }
        },
        "6ab3854188fa42438cb072553f0d7537": {
          "model_module": "@jupyter-widgets/controls",
          "model_name": "FloatProgressModel",
          "model_module_version": "1.5.0",
          "state": {
            "_dom_classes": [],
            "_model_module": "@jupyter-widgets/controls",
            "_model_module_version": "1.5.0",
            "_model_name": "FloatProgressModel",
            "_view_count": null,
            "_view_module": "@jupyter-widgets/controls",
            "_view_module_version": "1.5.0",
            "_view_name": "ProgressView",
            "bar_style": "success",
            "description": "",
            "description_tooltip": null,
            "layout": "IPY_MODEL_06d16ec05fc64251befc5a6a402e8aea",
            "max": 41,
            "min": 0,
            "orientation": "horizontal",
            "style": "IPY_MODEL_4cf4dbd9c4d344e292e84fe373cf163f",
            "value": 41
          }
        },
        "889b128dceed4efcbe503df6d515e3bb": {
          "model_module": "@jupyter-widgets/controls",
          "model_name": "HTMLModel",
          "model_module_version": "1.5.0",
          "state": {
            "_dom_classes": [],
            "_model_module": "@jupyter-widgets/controls",
            "_model_module_version": "1.5.0",
            "_model_name": "HTMLModel",
            "_view_count": null,
            "_view_module": "@jupyter-widgets/controls",
            "_view_module_version": "1.5.0",
            "_view_name": "HTMLView",
            "description": "",
            "description_tooltip": null,
            "layout": "IPY_MODEL_858e708659fb494592a32ab361869031",
            "placeholder": "​",
            "style": "IPY_MODEL_ea5829c85a7e474c94cf3e5c6893f8e9",
            "value": " 41/41 [21:08&lt;00:00,  4.12s/it]"
          }
        },
        "e09245bd6c8845bc921b1007e693ba5f": {
          "model_module": "@jupyter-widgets/base",
          "model_name": "LayoutModel",
          "model_module_version": "1.2.0",
          "state": {
            "_model_module": "@jupyter-widgets/base",
            "_model_module_version": "1.2.0",
            "_model_name": "LayoutModel",
            "_view_count": null,
            "_view_module": "@jupyter-widgets/base",
            "_view_module_version": "1.2.0",
            "_view_name": "LayoutView",
            "align_content": null,
            "align_items": null,
            "align_self": null,
            "border": null,
            "bottom": null,
            "display": null,
            "flex": null,
            "flex_flow": null,
            "grid_area": null,
            "grid_auto_columns": null,
            "grid_auto_flow": null,
            "grid_auto_rows": null,
            "grid_column": null,
            "grid_gap": null,
            "grid_row": null,
            "grid_template_areas": null,
            "grid_template_columns": null,
            "grid_template_rows": null,
            "height": null,
            "justify_content": null,
            "justify_items": null,
            "left": null,
            "margin": null,
            "max_height": null,
            "max_width": null,
            "min_height": null,
            "min_width": null,
            "object_fit": null,
            "object_position": null,
            "order": null,
            "overflow": null,
            "overflow_x": null,
            "overflow_y": null,
            "padding": null,
            "right": null,
            "top": null,
            "visibility": null,
            "width": null
          }
        },
        "d6685c55d73e4221bbe9bfd227b45e28": {
          "model_module": "@jupyter-widgets/base",
          "model_name": "LayoutModel",
          "model_module_version": "1.2.0",
          "state": {
            "_model_module": "@jupyter-widgets/base",
            "_model_module_version": "1.2.0",
            "_model_name": "LayoutModel",
            "_view_count": null,
            "_view_module": "@jupyter-widgets/base",
            "_view_module_version": "1.2.0",
            "_view_name": "LayoutView",
            "align_content": null,
            "align_items": null,
            "align_self": null,
            "border": null,
            "bottom": null,
            "display": null,
            "flex": null,
            "flex_flow": null,
            "grid_area": null,
            "grid_auto_columns": null,
            "grid_auto_flow": null,
            "grid_auto_rows": null,
            "grid_column": null,
            "grid_gap": null,
            "grid_row": null,
            "grid_template_areas": null,
            "grid_template_columns": null,
            "grid_template_rows": null,
            "height": null,
            "justify_content": null,
            "justify_items": null,
            "left": null,
            "margin": null,
            "max_height": null,
            "max_width": null,
            "min_height": null,
            "min_width": null,
            "object_fit": null,
            "object_position": null,
            "order": null,
            "overflow": null,
            "overflow_x": null,
            "overflow_y": null,
            "padding": null,
            "right": null,
            "top": null,
            "visibility": null,
            "width": null
          }
        },
        "7fc749c05f6a41038975cfa8566de58b": {
          "model_module": "@jupyter-widgets/controls",
          "model_name": "DescriptionStyleModel",
          "model_module_version": "1.5.0",
          "state": {
            "_model_module": "@jupyter-widgets/controls",
            "_model_module_version": "1.5.0",
            "_model_name": "DescriptionStyleModel",
            "_view_count": null,
            "_view_module": "@jupyter-widgets/base",
            "_view_module_version": "1.2.0",
            "_view_name": "StyleView",
            "description_width": ""
          }
        },
        "06d16ec05fc64251befc5a6a402e8aea": {
          "model_module": "@jupyter-widgets/base",
          "model_name": "LayoutModel",
          "model_module_version": "1.2.0",
          "state": {
            "_model_module": "@jupyter-widgets/base",
            "_model_module_version": "1.2.0",
            "_model_name": "LayoutModel",
            "_view_count": null,
            "_view_module": "@jupyter-widgets/base",
            "_view_module_version": "1.2.0",
            "_view_name": "LayoutView",
            "align_content": null,
            "align_items": null,
            "align_self": null,
            "border": null,
            "bottom": null,
            "display": null,
            "flex": null,
            "flex_flow": null,
            "grid_area": null,
            "grid_auto_columns": null,
            "grid_auto_flow": null,
            "grid_auto_rows": null,
            "grid_column": null,
            "grid_gap": null,
            "grid_row": null,
            "grid_template_areas": null,
            "grid_template_columns": null,
            "grid_template_rows": null,
            "height": null,
            "justify_content": null,
            "justify_items": null,
            "left": null,
            "margin": null,
            "max_height": null,
            "max_width": null,
            "min_height": null,
            "min_width": null,
            "object_fit": null,
            "object_position": null,
            "order": null,
            "overflow": null,
            "overflow_x": null,
            "overflow_y": null,
            "padding": null,
            "right": null,
            "top": null,
            "visibility": null,
            "width": null
          }
        },
        "4cf4dbd9c4d344e292e84fe373cf163f": {
          "model_module": "@jupyter-widgets/controls",
          "model_name": "ProgressStyleModel",
          "model_module_version": "1.5.0",
          "state": {
            "_model_module": "@jupyter-widgets/controls",
            "_model_module_version": "1.5.0",
            "_model_name": "ProgressStyleModel",
            "_view_count": null,
            "_view_module": "@jupyter-widgets/base",
            "_view_module_version": "1.2.0",
            "_view_name": "StyleView",
            "bar_color": null,
            "description_width": ""
          }
        },
        "858e708659fb494592a32ab361869031": {
          "model_module": "@jupyter-widgets/base",
          "model_name": "LayoutModel",
          "model_module_version": "1.2.0",
          "state": {
            "_model_module": "@jupyter-widgets/base",
            "_model_module_version": "1.2.0",
            "_model_name": "LayoutModel",
            "_view_count": null,
            "_view_module": "@jupyter-widgets/base",
            "_view_module_version": "1.2.0",
            "_view_name": "LayoutView",
            "align_content": null,
            "align_items": null,
            "align_self": null,
            "border": null,
            "bottom": null,
            "display": null,
            "flex": null,
            "flex_flow": null,
            "grid_area": null,
            "grid_auto_columns": null,
            "grid_auto_flow": null,
            "grid_auto_rows": null,
            "grid_column": null,
            "grid_gap": null,
            "grid_row": null,
            "grid_template_areas": null,
            "grid_template_columns": null,
            "grid_template_rows": null,
            "height": null,
            "justify_content": null,
            "justify_items": null,
            "left": null,
            "margin": null,
            "max_height": null,
            "max_width": null,
            "min_height": null,
            "min_width": null,
            "object_fit": null,
            "object_position": null,
            "order": null,
            "overflow": null,
            "overflow_x": null,
            "overflow_y": null,
            "padding": null,
            "right": null,
            "top": null,
            "visibility": null,
            "width": null
          }
        },
        "ea5829c85a7e474c94cf3e5c6893f8e9": {
          "model_module": "@jupyter-widgets/controls",
          "model_name": "DescriptionStyleModel",
          "model_module_version": "1.5.0",
          "state": {
            "_model_module": "@jupyter-widgets/controls",
            "_model_module_version": "1.5.0",
            "_model_name": "DescriptionStyleModel",
            "_view_count": null,
            "_view_module": "@jupyter-widgets/base",
            "_view_module_version": "1.2.0",
            "_view_name": "StyleView",
            "description_width": ""
          }
        },
        "552aa2425d0c46a2a08e61d0da059e33": {
          "model_module": "@jupyter-widgets/controls",
          "model_name": "HBoxModel",
          "model_module_version": "1.5.0",
          "state": {
            "_dom_classes": [],
            "_model_module": "@jupyter-widgets/controls",
            "_model_module_version": "1.5.0",
            "_model_name": "HBoxModel",
            "_view_count": null,
            "_view_module": "@jupyter-widgets/controls",
            "_view_module_version": "1.5.0",
            "_view_name": "HBoxView",
            "box_style": "",
            "children": [
              "IPY_MODEL_68fe1d501ac64b419b8e39e5d35a5a0c",
              "IPY_MODEL_77cc7f65f5394174b283bfaf7136f2b4",
              "IPY_MODEL_050607fa4e4c4621abf613bac23e918d"
            ],
            "layout": "IPY_MODEL_889a1925f4164b03abb261a6525cacbb"
          }
        },
        "68fe1d501ac64b419b8e39e5d35a5a0c": {
          "model_module": "@jupyter-widgets/controls",
          "model_name": "HTMLModel",
          "model_module_version": "1.5.0",
          "state": {
            "_dom_classes": [],
            "_model_module": "@jupyter-widgets/controls",
            "_model_module_version": "1.5.0",
            "_model_name": "HTMLModel",
            "_view_count": null,
            "_view_module": "@jupyter-widgets/controls",
            "_view_module_version": "1.5.0",
            "_view_name": "HTMLView",
            "description": "",
            "description_tooltip": null,
            "layout": "IPY_MODEL_9ca581bcd46f438c99f16f9eebb40859",
            "placeholder": "​",
            "style": "IPY_MODEL_1b1cb4ef0f7a4581aa971e56cda4001f",
            "value": "100%"
          }
        },
        "77cc7f65f5394174b283bfaf7136f2b4": {
          "model_module": "@jupyter-widgets/controls",
          "model_name": "FloatProgressModel",
          "model_module_version": "1.5.0",
          "state": {
            "_dom_classes": [],
            "_model_module": "@jupyter-widgets/controls",
            "_model_module_version": "1.5.0",
            "_model_name": "FloatProgressModel",
            "_view_count": null,
            "_view_module": "@jupyter-widgets/controls",
            "_view_module_version": "1.5.0",
            "_view_name": "ProgressView",
            "bar_style": "success",
            "description": "",
            "description_tooltip": null,
            "layout": "IPY_MODEL_40e3aa5195214482bfd681b6a03fef8b",
            "max": 41,
            "min": 0,
            "orientation": "horizontal",
            "style": "IPY_MODEL_73cd78e17412465090f592fe39dfcfdd",
            "value": 41
          }
        },
        "050607fa4e4c4621abf613bac23e918d": {
          "model_module": "@jupyter-widgets/controls",
          "model_name": "HTMLModel",
          "model_module_version": "1.5.0",
          "state": {
            "_dom_classes": [],
            "_model_module": "@jupyter-widgets/controls",
            "_model_module_version": "1.5.0",
            "_model_name": "HTMLModel",
            "_view_count": null,
            "_view_module": "@jupyter-widgets/controls",
            "_view_module_version": "1.5.0",
            "_view_name": "HTMLView",
            "description": "",
            "description_tooltip": null,
            "layout": "IPY_MODEL_2836128f3a834c02bff725a93bdc0a50",
            "placeholder": "​",
            "style": "IPY_MODEL_c130979cf8644f4f8eb60a4d811b9c67",
            "value": " 41/41 [00:08&lt;00:00,  4.68it/s]"
          }
        },
        "889a1925f4164b03abb261a6525cacbb": {
          "model_module": "@jupyter-widgets/base",
          "model_name": "LayoutModel",
          "model_module_version": "1.2.0",
          "state": {
            "_model_module": "@jupyter-widgets/base",
            "_model_module_version": "1.2.0",
            "_model_name": "LayoutModel",
            "_view_count": null,
            "_view_module": "@jupyter-widgets/base",
            "_view_module_version": "1.2.0",
            "_view_name": "LayoutView",
            "align_content": null,
            "align_items": null,
            "align_self": null,
            "border": null,
            "bottom": null,
            "display": null,
            "flex": null,
            "flex_flow": null,
            "grid_area": null,
            "grid_auto_columns": null,
            "grid_auto_flow": null,
            "grid_auto_rows": null,
            "grid_column": null,
            "grid_gap": null,
            "grid_row": null,
            "grid_template_areas": null,
            "grid_template_columns": null,
            "grid_template_rows": null,
            "height": null,
            "justify_content": null,
            "justify_items": null,
            "left": null,
            "margin": null,
            "max_height": null,
            "max_width": null,
            "min_height": null,
            "min_width": null,
            "object_fit": null,
            "object_position": null,
            "order": null,
            "overflow": null,
            "overflow_x": null,
            "overflow_y": null,
            "padding": null,
            "right": null,
            "top": null,
            "visibility": null,
            "width": null
          }
        },
        "9ca581bcd46f438c99f16f9eebb40859": {
          "model_module": "@jupyter-widgets/base",
          "model_name": "LayoutModel",
          "model_module_version": "1.2.0",
          "state": {
            "_model_module": "@jupyter-widgets/base",
            "_model_module_version": "1.2.0",
            "_model_name": "LayoutModel",
            "_view_count": null,
            "_view_module": "@jupyter-widgets/base",
            "_view_module_version": "1.2.0",
            "_view_name": "LayoutView",
            "align_content": null,
            "align_items": null,
            "align_self": null,
            "border": null,
            "bottom": null,
            "display": null,
            "flex": null,
            "flex_flow": null,
            "grid_area": null,
            "grid_auto_columns": null,
            "grid_auto_flow": null,
            "grid_auto_rows": null,
            "grid_column": null,
            "grid_gap": null,
            "grid_row": null,
            "grid_template_areas": null,
            "grid_template_columns": null,
            "grid_template_rows": null,
            "height": null,
            "justify_content": null,
            "justify_items": null,
            "left": null,
            "margin": null,
            "max_height": null,
            "max_width": null,
            "min_height": null,
            "min_width": null,
            "object_fit": null,
            "object_position": null,
            "order": null,
            "overflow": null,
            "overflow_x": null,
            "overflow_y": null,
            "padding": null,
            "right": null,
            "top": null,
            "visibility": null,
            "width": null
          }
        },
        "1b1cb4ef0f7a4581aa971e56cda4001f": {
          "model_module": "@jupyter-widgets/controls",
          "model_name": "DescriptionStyleModel",
          "model_module_version": "1.5.0",
          "state": {
            "_model_module": "@jupyter-widgets/controls",
            "_model_module_version": "1.5.0",
            "_model_name": "DescriptionStyleModel",
            "_view_count": null,
            "_view_module": "@jupyter-widgets/base",
            "_view_module_version": "1.2.0",
            "_view_name": "StyleView",
            "description_width": ""
          }
        },
        "40e3aa5195214482bfd681b6a03fef8b": {
          "model_module": "@jupyter-widgets/base",
          "model_name": "LayoutModel",
          "model_module_version": "1.2.0",
          "state": {
            "_model_module": "@jupyter-widgets/base",
            "_model_module_version": "1.2.0",
            "_model_name": "LayoutModel",
            "_view_count": null,
            "_view_module": "@jupyter-widgets/base",
            "_view_module_version": "1.2.0",
            "_view_name": "LayoutView",
            "align_content": null,
            "align_items": null,
            "align_self": null,
            "border": null,
            "bottom": null,
            "display": null,
            "flex": null,
            "flex_flow": null,
            "grid_area": null,
            "grid_auto_columns": null,
            "grid_auto_flow": null,
            "grid_auto_rows": null,
            "grid_column": null,
            "grid_gap": null,
            "grid_row": null,
            "grid_template_areas": null,
            "grid_template_columns": null,
            "grid_template_rows": null,
            "height": null,
            "justify_content": null,
            "justify_items": null,
            "left": null,
            "margin": null,
            "max_height": null,
            "max_width": null,
            "min_height": null,
            "min_width": null,
            "object_fit": null,
            "object_position": null,
            "order": null,
            "overflow": null,
            "overflow_x": null,
            "overflow_y": null,
            "padding": null,
            "right": null,
            "top": null,
            "visibility": null,
            "width": null
          }
        },
        "73cd78e17412465090f592fe39dfcfdd": {
          "model_module": "@jupyter-widgets/controls",
          "model_name": "ProgressStyleModel",
          "model_module_version": "1.5.0",
          "state": {
            "_model_module": "@jupyter-widgets/controls",
            "_model_module_version": "1.5.0",
            "_model_name": "ProgressStyleModel",
            "_view_count": null,
            "_view_module": "@jupyter-widgets/base",
            "_view_module_version": "1.2.0",
            "_view_name": "StyleView",
            "bar_color": null,
            "description_width": ""
          }
        },
        "2836128f3a834c02bff725a93bdc0a50": {
          "model_module": "@jupyter-widgets/base",
          "model_name": "LayoutModel",
          "model_module_version": "1.2.0",
          "state": {
            "_model_module": "@jupyter-widgets/base",
            "_model_module_version": "1.2.0",
            "_model_name": "LayoutModel",
            "_view_count": null,
            "_view_module": "@jupyter-widgets/base",
            "_view_module_version": "1.2.0",
            "_view_name": "LayoutView",
            "align_content": null,
            "align_items": null,
            "align_self": null,
            "border": null,
            "bottom": null,
            "display": null,
            "flex": null,
            "flex_flow": null,
            "grid_area": null,
            "grid_auto_columns": null,
            "grid_auto_flow": null,
            "grid_auto_rows": null,
            "grid_column": null,
            "grid_gap": null,
            "grid_row": null,
            "grid_template_areas": null,
            "grid_template_columns": null,
            "grid_template_rows": null,
            "height": null,
            "justify_content": null,
            "justify_items": null,
            "left": null,
            "margin": null,
            "max_height": null,
            "max_width": null,
            "min_height": null,
            "min_width": null,
            "object_fit": null,
            "object_position": null,
            "order": null,
            "overflow": null,
            "overflow_x": null,
            "overflow_y": null,
            "padding": null,
            "right": null,
            "top": null,
            "visibility": null,
            "width": null
          }
        },
        "c130979cf8644f4f8eb60a4d811b9c67": {
          "model_module": "@jupyter-widgets/controls",
          "model_name": "DescriptionStyleModel",
          "model_module_version": "1.5.0",
          "state": {
            "_model_module": "@jupyter-widgets/controls",
            "_model_module_version": "1.5.0",
            "_model_name": "DescriptionStyleModel",
            "_view_count": null,
            "_view_module": "@jupyter-widgets/base",
            "_view_module_version": "1.2.0",
            "_view_name": "StyleView",
            "description_width": ""
          }
        },
        "e2250aa3c346437593605f64d032fd3c": {
          "model_module": "@jupyter-widgets/controls",
          "model_name": "HBoxModel",
          "model_module_version": "1.5.0",
          "state": {
            "_dom_classes": [],
            "_model_module": "@jupyter-widgets/controls",
            "_model_module_version": "1.5.0",
            "_model_name": "HBoxModel",
            "_view_count": null,
            "_view_module": "@jupyter-widgets/controls",
            "_view_module_version": "1.5.0",
            "_view_name": "HBoxView",
            "box_style": "",
            "children": [
              "IPY_MODEL_336269f08a9547da98f1d06258e852f8",
              "IPY_MODEL_c76aebc91f9f4df39161256a829081c0",
              "IPY_MODEL_820d0144594448b89233fa7b84e98e6e"
            ],
            "layout": "IPY_MODEL_c43188e1d2434caa830143040cbb1832"
          }
        },
        "336269f08a9547da98f1d06258e852f8": {
          "model_module": "@jupyter-widgets/controls",
          "model_name": "HTMLModel",
          "model_module_version": "1.5.0",
          "state": {
            "_dom_classes": [],
            "_model_module": "@jupyter-widgets/controls",
            "_model_module_version": "1.5.0",
            "_model_name": "HTMLModel",
            "_view_count": null,
            "_view_module": "@jupyter-widgets/controls",
            "_view_module_version": "1.5.0",
            "_view_name": "HTMLView",
            "description": "",
            "description_tooltip": null,
            "layout": "IPY_MODEL_eab78bcf7fb2459781afe58f04ea4b22",
            "placeholder": "​",
            "style": "IPY_MODEL_94fde5da8a144519aa401a78045a49ac",
            "value": "100%"
          }
        },
        "c76aebc91f9f4df39161256a829081c0": {
          "model_module": "@jupyter-widgets/controls",
          "model_name": "FloatProgressModel",
          "model_module_version": "1.5.0",
          "state": {
            "_dom_classes": [],
            "_model_module": "@jupyter-widgets/controls",
            "_model_module_version": "1.5.0",
            "_model_name": "FloatProgressModel",
            "_view_count": null,
            "_view_module": "@jupyter-widgets/controls",
            "_view_module_version": "1.5.0",
            "_view_name": "ProgressView",
            "bar_style": "success",
            "description": "",
            "description_tooltip": null,
            "layout": "IPY_MODEL_5899b9e3534142f5b9f3e97512e51024",
            "max": 41,
            "min": 0,
            "orientation": "horizontal",
            "style": "IPY_MODEL_5356dee4150243dbafde9e452836b129",
            "value": 41
          }
        },
        "820d0144594448b89233fa7b84e98e6e": {
          "model_module": "@jupyter-widgets/controls",
          "model_name": "HTMLModel",
          "model_module_version": "1.5.0",
          "state": {
            "_dom_classes": [],
            "_model_module": "@jupyter-widgets/controls",
            "_model_module_version": "1.5.0",
            "_model_name": "HTMLModel",
            "_view_count": null,
            "_view_module": "@jupyter-widgets/controls",
            "_view_module_version": "1.5.0",
            "_view_name": "HTMLView",
            "description": "",
            "description_tooltip": null,
            "layout": "IPY_MODEL_1d34010c61314657bc215e547d1d4cb0",
            "placeholder": "​",
            "style": "IPY_MODEL_b820064302544c21be0803588bc47b83",
            "value": " 41/41 [20:26&lt;00:00,  4.09s/it]"
          }
        },
        "c43188e1d2434caa830143040cbb1832": {
          "model_module": "@jupyter-widgets/base",
          "model_name": "LayoutModel",
          "model_module_version": "1.2.0",
          "state": {
            "_model_module": "@jupyter-widgets/base",
            "_model_module_version": "1.2.0",
            "_model_name": "LayoutModel",
            "_view_count": null,
            "_view_module": "@jupyter-widgets/base",
            "_view_module_version": "1.2.0",
            "_view_name": "LayoutView",
            "align_content": null,
            "align_items": null,
            "align_self": null,
            "border": null,
            "bottom": null,
            "display": null,
            "flex": null,
            "flex_flow": null,
            "grid_area": null,
            "grid_auto_columns": null,
            "grid_auto_flow": null,
            "grid_auto_rows": null,
            "grid_column": null,
            "grid_gap": null,
            "grid_row": null,
            "grid_template_areas": null,
            "grid_template_columns": null,
            "grid_template_rows": null,
            "height": null,
            "justify_content": null,
            "justify_items": null,
            "left": null,
            "margin": null,
            "max_height": null,
            "max_width": null,
            "min_height": null,
            "min_width": null,
            "object_fit": null,
            "object_position": null,
            "order": null,
            "overflow": null,
            "overflow_x": null,
            "overflow_y": null,
            "padding": null,
            "right": null,
            "top": null,
            "visibility": null,
            "width": null
          }
        },
        "eab78bcf7fb2459781afe58f04ea4b22": {
          "model_module": "@jupyter-widgets/base",
          "model_name": "LayoutModel",
          "model_module_version": "1.2.0",
          "state": {
            "_model_module": "@jupyter-widgets/base",
            "_model_module_version": "1.2.0",
            "_model_name": "LayoutModel",
            "_view_count": null,
            "_view_module": "@jupyter-widgets/base",
            "_view_module_version": "1.2.0",
            "_view_name": "LayoutView",
            "align_content": null,
            "align_items": null,
            "align_self": null,
            "border": null,
            "bottom": null,
            "display": null,
            "flex": null,
            "flex_flow": null,
            "grid_area": null,
            "grid_auto_columns": null,
            "grid_auto_flow": null,
            "grid_auto_rows": null,
            "grid_column": null,
            "grid_gap": null,
            "grid_row": null,
            "grid_template_areas": null,
            "grid_template_columns": null,
            "grid_template_rows": null,
            "height": null,
            "justify_content": null,
            "justify_items": null,
            "left": null,
            "margin": null,
            "max_height": null,
            "max_width": null,
            "min_height": null,
            "min_width": null,
            "object_fit": null,
            "object_position": null,
            "order": null,
            "overflow": null,
            "overflow_x": null,
            "overflow_y": null,
            "padding": null,
            "right": null,
            "top": null,
            "visibility": null,
            "width": null
          }
        },
        "94fde5da8a144519aa401a78045a49ac": {
          "model_module": "@jupyter-widgets/controls",
          "model_name": "DescriptionStyleModel",
          "model_module_version": "1.5.0",
          "state": {
            "_model_module": "@jupyter-widgets/controls",
            "_model_module_version": "1.5.0",
            "_model_name": "DescriptionStyleModel",
            "_view_count": null,
            "_view_module": "@jupyter-widgets/base",
            "_view_module_version": "1.2.0",
            "_view_name": "StyleView",
            "description_width": ""
          }
        },
        "5899b9e3534142f5b9f3e97512e51024": {
          "model_module": "@jupyter-widgets/base",
          "model_name": "LayoutModel",
          "model_module_version": "1.2.0",
          "state": {
            "_model_module": "@jupyter-widgets/base",
            "_model_module_version": "1.2.0",
            "_model_name": "LayoutModel",
            "_view_count": null,
            "_view_module": "@jupyter-widgets/base",
            "_view_module_version": "1.2.0",
            "_view_name": "LayoutView",
            "align_content": null,
            "align_items": null,
            "align_self": null,
            "border": null,
            "bottom": null,
            "display": null,
            "flex": null,
            "flex_flow": null,
            "grid_area": null,
            "grid_auto_columns": null,
            "grid_auto_flow": null,
            "grid_auto_rows": null,
            "grid_column": null,
            "grid_gap": null,
            "grid_row": null,
            "grid_template_areas": null,
            "grid_template_columns": null,
            "grid_template_rows": null,
            "height": null,
            "justify_content": null,
            "justify_items": null,
            "left": null,
            "margin": null,
            "max_height": null,
            "max_width": null,
            "min_height": null,
            "min_width": null,
            "object_fit": null,
            "object_position": null,
            "order": null,
            "overflow": null,
            "overflow_x": null,
            "overflow_y": null,
            "padding": null,
            "right": null,
            "top": null,
            "visibility": null,
            "width": null
          }
        },
        "5356dee4150243dbafde9e452836b129": {
          "model_module": "@jupyter-widgets/controls",
          "model_name": "ProgressStyleModel",
          "model_module_version": "1.5.0",
          "state": {
            "_model_module": "@jupyter-widgets/controls",
            "_model_module_version": "1.5.0",
            "_model_name": "ProgressStyleModel",
            "_view_count": null,
            "_view_module": "@jupyter-widgets/base",
            "_view_module_version": "1.2.0",
            "_view_name": "StyleView",
            "bar_color": null,
            "description_width": ""
          }
        },
        "1d34010c61314657bc215e547d1d4cb0": {
          "model_module": "@jupyter-widgets/base",
          "model_name": "LayoutModel",
          "model_module_version": "1.2.0",
          "state": {
            "_model_module": "@jupyter-widgets/base",
            "_model_module_version": "1.2.0",
            "_model_name": "LayoutModel",
            "_view_count": null,
            "_view_module": "@jupyter-widgets/base",
            "_view_module_version": "1.2.0",
            "_view_name": "LayoutView",
            "align_content": null,
            "align_items": null,
            "align_self": null,
            "border": null,
            "bottom": null,
            "display": null,
            "flex": null,
            "flex_flow": null,
            "grid_area": null,
            "grid_auto_columns": null,
            "grid_auto_flow": null,
            "grid_auto_rows": null,
            "grid_column": null,
            "grid_gap": null,
            "grid_row": null,
            "grid_template_areas": null,
            "grid_template_columns": null,
            "grid_template_rows": null,
            "height": null,
            "justify_content": null,
            "justify_items": null,
            "left": null,
            "margin": null,
            "max_height": null,
            "max_width": null,
            "min_height": null,
            "min_width": null,
            "object_fit": null,
            "object_position": null,
            "order": null,
            "overflow": null,
            "overflow_x": null,
            "overflow_y": null,
            "padding": null,
            "right": null,
            "top": null,
            "visibility": null,
            "width": null
          }
        },
        "b820064302544c21be0803588bc47b83": {
          "model_module": "@jupyter-widgets/controls",
          "model_name": "DescriptionStyleModel",
          "model_module_version": "1.5.0",
          "state": {
            "_model_module": "@jupyter-widgets/controls",
            "_model_module_version": "1.5.0",
            "_model_name": "DescriptionStyleModel",
            "_view_count": null,
            "_view_module": "@jupyter-widgets/base",
            "_view_module_version": "1.2.0",
            "_view_name": "StyleView",
            "description_width": ""
          }
        },
        "c0c94b8017644b93aeafc669c56d9dc1": {
          "model_module": "@jupyter-widgets/controls",
          "model_name": "HBoxModel",
          "model_module_version": "1.5.0",
          "state": {
            "_dom_classes": [],
            "_model_module": "@jupyter-widgets/controls",
            "_model_module_version": "1.5.0",
            "_model_name": "HBoxModel",
            "_view_count": null,
            "_view_module": "@jupyter-widgets/controls",
            "_view_module_version": "1.5.0",
            "_view_name": "HBoxView",
            "box_style": "",
            "children": [
              "IPY_MODEL_debad54cad724f51986ec36dfa81ac74",
              "IPY_MODEL_be278678086f492a9a36aa8919e4c116",
              "IPY_MODEL_94a311e05801424d8d62a8c6e7f80891"
            ],
            "layout": "IPY_MODEL_124312c1c12747fbb98f3d402b3e4e53"
          }
        },
        "debad54cad724f51986ec36dfa81ac74": {
          "model_module": "@jupyter-widgets/controls",
          "model_name": "HTMLModel",
          "model_module_version": "1.5.0",
          "state": {
            "_dom_classes": [],
            "_model_module": "@jupyter-widgets/controls",
            "_model_module_version": "1.5.0",
            "_model_name": "HTMLModel",
            "_view_count": null,
            "_view_module": "@jupyter-widgets/controls",
            "_view_module_version": "1.5.0",
            "_view_name": "HTMLView",
            "description": "",
            "description_tooltip": null,
            "layout": "IPY_MODEL_dca5e5ab9d764c7bbe385b414588788f",
            "placeholder": "​",
            "style": "IPY_MODEL_451f937c7aea46df8dc03082edb45e5e",
            "value": "100%"
          }
        },
        "be278678086f492a9a36aa8919e4c116": {
          "model_module": "@jupyter-widgets/controls",
          "model_name": "FloatProgressModel",
          "model_module_version": "1.5.0",
          "state": {
            "_dom_classes": [],
            "_model_module": "@jupyter-widgets/controls",
            "_model_module_version": "1.5.0",
            "_model_name": "FloatProgressModel",
            "_view_count": null,
            "_view_module": "@jupyter-widgets/controls",
            "_view_module_version": "1.5.0",
            "_view_name": "ProgressView",
            "bar_style": "success",
            "description": "",
            "description_tooltip": null,
            "layout": "IPY_MODEL_85f990d344104f248b1a9e362cdec08a",
            "max": 41,
            "min": 0,
            "orientation": "horizontal",
            "style": "IPY_MODEL_a620fb2848744a348df36a7886b761bf",
            "value": 41
          }
        },
        "94a311e05801424d8d62a8c6e7f80891": {
          "model_module": "@jupyter-widgets/controls",
          "model_name": "HTMLModel",
          "model_module_version": "1.5.0",
          "state": {
            "_dom_classes": [],
            "_model_module": "@jupyter-widgets/controls",
            "_model_module_version": "1.5.0",
            "_model_name": "HTMLModel",
            "_view_count": null,
            "_view_module": "@jupyter-widgets/controls",
            "_view_module_version": "1.5.0",
            "_view_name": "HTMLView",
            "description": "",
            "description_tooltip": null,
            "layout": "IPY_MODEL_84ad1f51453c4fb4a4f90c87eb08e726",
            "placeholder": "​",
            "style": "IPY_MODEL_ad8514c9620341a88a25f5b88e8723dd",
            "value": " 41/41 [00:12&lt;00:00, 10.79it/s]"
          }
        },
        "124312c1c12747fbb98f3d402b3e4e53": {
          "model_module": "@jupyter-widgets/base",
          "model_name": "LayoutModel",
          "model_module_version": "1.2.0",
          "state": {
            "_model_module": "@jupyter-widgets/base",
            "_model_module_version": "1.2.0",
            "_model_name": "LayoutModel",
            "_view_count": null,
            "_view_module": "@jupyter-widgets/base",
            "_view_module_version": "1.2.0",
            "_view_name": "LayoutView",
            "align_content": null,
            "align_items": null,
            "align_self": null,
            "border": null,
            "bottom": null,
            "display": null,
            "flex": null,
            "flex_flow": null,
            "grid_area": null,
            "grid_auto_columns": null,
            "grid_auto_flow": null,
            "grid_auto_rows": null,
            "grid_column": null,
            "grid_gap": null,
            "grid_row": null,
            "grid_template_areas": null,
            "grid_template_columns": null,
            "grid_template_rows": null,
            "height": null,
            "justify_content": null,
            "justify_items": null,
            "left": null,
            "margin": null,
            "max_height": null,
            "max_width": null,
            "min_height": null,
            "min_width": null,
            "object_fit": null,
            "object_position": null,
            "order": null,
            "overflow": null,
            "overflow_x": null,
            "overflow_y": null,
            "padding": null,
            "right": null,
            "top": null,
            "visibility": null,
            "width": null
          }
        },
        "dca5e5ab9d764c7bbe385b414588788f": {
          "model_module": "@jupyter-widgets/base",
          "model_name": "LayoutModel",
          "model_module_version": "1.2.0",
          "state": {
            "_model_module": "@jupyter-widgets/base",
            "_model_module_version": "1.2.0",
            "_model_name": "LayoutModel",
            "_view_count": null,
            "_view_module": "@jupyter-widgets/base",
            "_view_module_version": "1.2.0",
            "_view_name": "LayoutView",
            "align_content": null,
            "align_items": null,
            "align_self": null,
            "border": null,
            "bottom": null,
            "display": null,
            "flex": null,
            "flex_flow": null,
            "grid_area": null,
            "grid_auto_columns": null,
            "grid_auto_flow": null,
            "grid_auto_rows": null,
            "grid_column": null,
            "grid_gap": null,
            "grid_row": null,
            "grid_template_areas": null,
            "grid_template_columns": null,
            "grid_template_rows": null,
            "height": null,
            "justify_content": null,
            "justify_items": null,
            "left": null,
            "margin": null,
            "max_height": null,
            "max_width": null,
            "min_height": null,
            "min_width": null,
            "object_fit": null,
            "object_position": null,
            "order": null,
            "overflow": null,
            "overflow_x": null,
            "overflow_y": null,
            "padding": null,
            "right": null,
            "top": null,
            "visibility": null,
            "width": null
          }
        },
        "451f937c7aea46df8dc03082edb45e5e": {
          "model_module": "@jupyter-widgets/controls",
          "model_name": "DescriptionStyleModel",
          "model_module_version": "1.5.0",
          "state": {
            "_model_module": "@jupyter-widgets/controls",
            "_model_module_version": "1.5.0",
            "_model_name": "DescriptionStyleModel",
            "_view_count": null,
            "_view_module": "@jupyter-widgets/base",
            "_view_module_version": "1.2.0",
            "_view_name": "StyleView",
            "description_width": ""
          }
        },
        "85f990d344104f248b1a9e362cdec08a": {
          "model_module": "@jupyter-widgets/base",
          "model_name": "LayoutModel",
          "model_module_version": "1.2.0",
          "state": {
            "_model_module": "@jupyter-widgets/base",
            "_model_module_version": "1.2.0",
            "_model_name": "LayoutModel",
            "_view_count": null,
            "_view_module": "@jupyter-widgets/base",
            "_view_module_version": "1.2.0",
            "_view_name": "LayoutView",
            "align_content": null,
            "align_items": null,
            "align_self": null,
            "border": null,
            "bottom": null,
            "display": null,
            "flex": null,
            "flex_flow": null,
            "grid_area": null,
            "grid_auto_columns": null,
            "grid_auto_flow": null,
            "grid_auto_rows": null,
            "grid_column": null,
            "grid_gap": null,
            "grid_row": null,
            "grid_template_areas": null,
            "grid_template_columns": null,
            "grid_template_rows": null,
            "height": null,
            "justify_content": null,
            "justify_items": null,
            "left": null,
            "margin": null,
            "max_height": null,
            "max_width": null,
            "min_height": null,
            "min_width": null,
            "object_fit": null,
            "object_position": null,
            "order": null,
            "overflow": null,
            "overflow_x": null,
            "overflow_y": null,
            "padding": null,
            "right": null,
            "top": null,
            "visibility": null,
            "width": null
          }
        },
        "a620fb2848744a348df36a7886b761bf": {
          "model_module": "@jupyter-widgets/controls",
          "model_name": "ProgressStyleModel",
          "model_module_version": "1.5.0",
          "state": {
            "_model_module": "@jupyter-widgets/controls",
            "_model_module_version": "1.5.0",
            "_model_name": "ProgressStyleModel",
            "_view_count": null,
            "_view_module": "@jupyter-widgets/base",
            "_view_module_version": "1.2.0",
            "_view_name": "StyleView",
            "bar_color": null,
            "description_width": ""
          }
        },
        "84ad1f51453c4fb4a4f90c87eb08e726": {
          "model_module": "@jupyter-widgets/base",
          "model_name": "LayoutModel",
          "model_module_version": "1.2.0",
          "state": {
            "_model_module": "@jupyter-widgets/base",
            "_model_module_version": "1.2.0",
            "_model_name": "LayoutModel",
            "_view_count": null,
            "_view_module": "@jupyter-widgets/base",
            "_view_module_version": "1.2.0",
            "_view_name": "LayoutView",
            "align_content": null,
            "align_items": null,
            "align_self": null,
            "border": null,
            "bottom": null,
            "display": null,
            "flex": null,
            "flex_flow": null,
            "grid_area": null,
            "grid_auto_columns": null,
            "grid_auto_flow": null,
            "grid_auto_rows": null,
            "grid_column": null,
            "grid_gap": null,
            "grid_row": null,
            "grid_template_areas": null,
            "grid_template_columns": null,
            "grid_template_rows": null,
            "height": null,
            "justify_content": null,
            "justify_items": null,
            "left": null,
            "margin": null,
            "max_height": null,
            "max_width": null,
            "min_height": null,
            "min_width": null,
            "object_fit": null,
            "object_position": null,
            "order": null,
            "overflow": null,
            "overflow_x": null,
            "overflow_y": null,
            "padding": null,
            "right": null,
            "top": null,
            "visibility": null,
            "width": null
          }
        },
        "ad8514c9620341a88a25f5b88e8723dd": {
          "model_module": "@jupyter-widgets/controls",
          "model_name": "DescriptionStyleModel",
          "model_module_version": "1.5.0",
          "state": {
            "_model_module": "@jupyter-widgets/controls",
            "_model_module_version": "1.5.0",
            "_model_name": "DescriptionStyleModel",
            "_view_count": null,
            "_view_module": "@jupyter-widgets/base",
            "_view_module_version": "1.2.0",
            "_view_name": "StyleView",
            "description_width": ""
          }
        },
        "5ddb1c1cacd44a9db2db49961d732860": {
          "model_module": "@jupyter-widgets/controls",
          "model_name": "HBoxModel",
          "model_module_version": "1.5.0",
          "state": {
            "_dom_classes": [],
            "_model_module": "@jupyter-widgets/controls",
            "_model_module_version": "1.5.0",
            "_model_name": "HBoxModel",
            "_view_count": null,
            "_view_module": "@jupyter-widgets/controls",
            "_view_module_version": "1.5.0",
            "_view_name": "HBoxView",
            "box_style": "",
            "children": [
              "IPY_MODEL_7a7e4306d8e848a39a7cea19cd823b60",
              "IPY_MODEL_c223f4df571546e898a3a820a9e4e116",
              "IPY_MODEL_a1828a9bf978431a8845f07822a17f28"
            ],
            "layout": "IPY_MODEL_9d02979d12644dd3867d5319a8a5da58"
          }
        },
        "7a7e4306d8e848a39a7cea19cd823b60": {
          "model_module": "@jupyter-widgets/controls",
          "model_name": "HTMLModel",
          "model_module_version": "1.5.0",
          "state": {
            "_dom_classes": [],
            "_model_module": "@jupyter-widgets/controls",
            "_model_module_version": "1.5.0",
            "_model_name": "HTMLModel",
            "_view_count": null,
            "_view_module": "@jupyter-widgets/controls",
            "_view_module_version": "1.5.0",
            "_view_name": "HTMLView",
            "description": "",
            "description_tooltip": null,
            "layout": "IPY_MODEL_d6bd0fd0a3294e4289249f2ca245861c",
            "placeholder": "​",
            "style": "IPY_MODEL_3222e6e1e8b946259f90fea965b2c298",
            "value": "100%"
          }
        },
        "c223f4df571546e898a3a820a9e4e116": {
          "model_module": "@jupyter-widgets/controls",
          "model_name": "FloatProgressModel",
          "model_module_version": "1.5.0",
          "state": {
            "_dom_classes": [],
            "_model_module": "@jupyter-widgets/controls",
            "_model_module_version": "1.5.0",
            "_model_name": "FloatProgressModel",
            "_view_count": null,
            "_view_module": "@jupyter-widgets/controls",
            "_view_module_version": "1.5.0",
            "_view_name": "ProgressView",
            "bar_style": "success",
            "description": "",
            "description_tooltip": null,
            "layout": "IPY_MODEL_0ade6dc3f2ba4e8cafa09230d47cd934",
            "max": 41,
            "min": 0,
            "orientation": "horizontal",
            "style": "IPY_MODEL_41e142923c834537907d18d3f4f43c2a",
            "value": 41
          }
        },
        "a1828a9bf978431a8845f07822a17f28": {
          "model_module": "@jupyter-widgets/controls",
          "model_name": "HTMLModel",
          "model_module_version": "1.5.0",
          "state": {
            "_dom_classes": [],
            "_model_module": "@jupyter-widgets/controls",
            "_model_module_version": "1.5.0",
            "_model_name": "HTMLModel",
            "_view_count": null,
            "_view_module": "@jupyter-widgets/controls",
            "_view_module_version": "1.5.0",
            "_view_name": "HTMLView",
            "description": "",
            "description_tooltip": null,
            "layout": "IPY_MODEL_b687007b735340c48ae63f225afb2526",
            "placeholder": "​",
            "style": "IPY_MODEL_8b5343f71bb940c9aaead282f630be01",
            "value": " 41/41 [04:43&lt;00:00,  3.19s/it]"
          }
        },
        "9d02979d12644dd3867d5319a8a5da58": {
          "model_module": "@jupyter-widgets/base",
          "model_name": "LayoutModel",
          "model_module_version": "1.2.0",
          "state": {
            "_model_module": "@jupyter-widgets/base",
            "_model_module_version": "1.2.0",
            "_model_name": "LayoutModel",
            "_view_count": null,
            "_view_module": "@jupyter-widgets/base",
            "_view_module_version": "1.2.0",
            "_view_name": "LayoutView",
            "align_content": null,
            "align_items": null,
            "align_self": null,
            "border": null,
            "bottom": null,
            "display": null,
            "flex": null,
            "flex_flow": null,
            "grid_area": null,
            "grid_auto_columns": null,
            "grid_auto_flow": null,
            "grid_auto_rows": null,
            "grid_column": null,
            "grid_gap": null,
            "grid_row": null,
            "grid_template_areas": null,
            "grid_template_columns": null,
            "grid_template_rows": null,
            "height": null,
            "justify_content": null,
            "justify_items": null,
            "left": null,
            "margin": null,
            "max_height": null,
            "max_width": null,
            "min_height": null,
            "min_width": null,
            "object_fit": null,
            "object_position": null,
            "order": null,
            "overflow": null,
            "overflow_x": null,
            "overflow_y": null,
            "padding": null,
            "right": null,
            "top": null,
            "visibility": null,
            "width": null
          }
        },
        "d6bd0fd0a3294e4289249f2ca245861c": {
          "model_module": "@jupyter-widgets/base",
          "model_name": "LayoutModel",
          "model_module_version": "1.2.0",
          "state": {
            "_model_module": "@jupyter-widgets/base",
            "_model_module_version": "1.2.0",
            "_model_name": "LayoutModel",
            "_view_count": null,
            "_view_module": "@jupyter-widgets/base",
            "_view_module_version": "1.2.0",
            "_view_name": "LayoutView",
            "align_content": null,
            "align_items": null,
            "align_self": null,
            "border": null,
            "bottom": null,
            "display": null,
            "flex": null,
            "flex_flow": null,
            "grid_area": null,
            "grid_auto_columns": null,
            "grid_auto_flow": null,
            "grid_auto_rows": null,
            "grid_column": null,
            "grid_gap": null,
            "grid_row": null,
            "grid_template_areas": null,
            "grid_template_columns": null,
            "grid_template_rows": null,
            "height": null,
            "justify_content": null,
            "justify_items": null,
            "left": null,
            "margin": null,
            "max_height": null,
            "max_width": null,
            "min_height": null,
            "min_width": null,
            "object_fit": null,
            "object_position": null,
            "order": null,
            "overflow": null,
            "overflow_x": null,
            "overflow_y": null,
            "padding": null,
            "right": null,
            "top": null,
            "visibility": null,
            "width": null
          }
        },
        "3222e6e1e8b946259f90fea965b2c298": {
          "model_module": "@jupyter-widgets/controls",
          "model_name": "DescriptionStyleModel",
          "model_module_version": "1.5.0",
          "state": {
            "_model_module": "@jupyter-widgets/controls",
            "_model_module_version": "1.5.0",
            "_model_name": "DescriptionStyleModel",
            "_view_count": null,
            "_view_module": "@jupyter-widgets/base",
            "_view_module_version": "1.2.0",
            "_view_name": "StyleView",
            "description_width": ""
          }
        },
        "0ade6dc3f2ba4e8cafa09230d47cd934": {
          "model_module": "@jupyter-widgets/base",
          "model_name": "LayoutModel",
          "model_module_version": "1.2.0",
          "state": {
            "_model_module": "@jupyter-widgets/base",
            "_model_module_version": "1.2.0",
            "_model_name": "LayoutModel",
            "_view_count": null,
            "_view_module": "@jupyter-widgets/base",
            "_view_module_version": "1.2.0",
            "_view_name": "LayoutView",
            "align_content": null,
            "align_items": null,
            "align_self": null,
            "border": null,
            "bottom": null,
            "display": null,
            "flex": null,
            "flex_flow": null,
            "grid_area": null,
            "grid_auto_columns": null,
            "grid_auto_flow": null,
            "grid_auto_rows": null,
            "grid_column": null,
            "grid_gap": null,
            "grid_row": null,
            "grid_template_areas": null,
            "grid_template_columns": null,
            "grid_template_rows": null,
            "height": null,
            "justify_content": null,
            "justify_items": null,
            "left": null,
            "margin": null,
            "max_height": null,
            "max_width": null,
            "min_height": null,
            "min_width": null,
            "object_fit": null,
            "object_position": null,
            "order": null,
            "overflow": null,
            "overflow_x": null,
            "overflow_y": null,
            "padding": null,
            "right": null,
            "top": null,
            "visibility": null,
            "width": null
          }
        },
        "41e142923c834537907d18d3f4f43c2a": {
          "model_module": "@jupyter-widgets/controls",
          "model_name": "ProgressStyleModel",
          "model_module_version": "1.5.0",
          "state": {
            "_model_module": "@jupyter-widgets/controls",
            "_model_module_version": "1.5.0",
            "_model_name": "ProgressStyleModel",
            "_view_count": null,
            "_view_module": "@jupyter-widgets/base",
            "_view_module_version": "1.2.0",
            "_view_name": "StyleView",
            "bar_color": null,
            "description_width": ""
          }
        },
        "b687007b735340c48ae63f225afb2526": {
          "model_module": "@jupyter-widgets/base",
          "model_name": "LayoutModel",
          "model_module_version": "1.2.0",
          "state": {
            "_model_module": "@jupyter-widgets/base",
            "_model_module_version": "1.2.0",
            "_model_name": "LayoutModel",
            "_view_count": null,
            "_view_module": "@jupyter-widgets/base",
            "_view_module_version": "1.2.0",
            "_view_name": "LayoutView",
            "align_content": null,
            "align_items": null,
            "align_self": null,
            "border": null,
            "bottom": null,
            "display": null,
            "flex": null,
            "flex_flow": null,
            "grid_area": null,
            "grid_auto_columns": null,
            "grid_auto_flow": null,
            "grid_auto_rows": null,
            "grid_column": null,
            "grid_gap": null,
            "grid_row": null,
            "grid_template_areas": null,
            "grid_template_columns": null,
            "grid_template_rows": null,
            "height": null,
            "justify_content": null,
            "justify_items": null,
            "left": null,
            "margin": null,
            "max_height": null,
            "max_width": null,
            "min_height": null,
            "min_width": null,
            "object_fit": null,
            "object_position": null,
            "order": null,
            "overflow": null,
            "overflow_x": null,
            "overflow_y": null,
            "padding": null,
            "right": null,
            "top": null,
            "visibility": null,
            "width": null
          }
        },
        "8b5343f71bb940c9aaead282f630be01": {
          "model_module": "@jupyter-widgets/controls",
          "model_name": "DescriptionStyleModel",
          "model_module_version": "1.5.0",
          "state": {
            "_model_module": "@jupyter-widgets/controls",
            "_model_module_version": "1.5.0",
            "_model_name": "DescriptionStyleModel",
            "_view_count": null,
            "_view_module": "@jupyter-widgets/base",
            "_view_module_version": "1.2.0",
            "_view_name": "StyleView",
            "description_width": ""
          }
        },
        "e184a836f9844a269645e8e74d924177": {
          "model_module": "@jupyter-widgets/controls",
          "model_name": "HBoxModel",
          "model_module_version": "1.5.0",
          "state": {
            "_dom_classes": [],
            "_model_module": "@jupyter-widgets/controls",
            "_model_module_version": "1.5.0",
            "_model_name": "HBoxModel",
            "_view_count": null,
            "_view_module": "@jupyter-widgets/controls",
            "_view_module_version": "1.5.0",
            "_view_name": "HBoxView",
            "box_style": "",
            "children": [
              "IPY_MODEL_3689fa57bcf047a19241feea27114211",
              "IPY_MODEL_ca78dedbe74e4d5cac9f3064ae8aec77",
              "IPY_MODEL_5f10786dcfe74b2184e90f9ac4626705"
            ],
            "layout": "IPY_MODEL_63fd681be5d3473d9c3ac0bf04fa752e"
          }
        },
        "3689fa57bcf047a19241feea27114211": {
          "model_module": "@jupyter-widgets/controls",
          "model_name": "HTMLModel",
          "model_module_version": "1.5.0",
          "state": {
            "_dom_classes": [],
            "_model_module": "@jupyter-widgets/controls",
            "_model_module_version": "1.5.0",
            "_model_name": "HTMLModel",
            "_view_count": null,
            "_view_module": "@jupyter-widgets/controls",
            "_view_module_version": "1.5.0",
            "_view_name": "HTMLView",
            "description": "",
            "description_tooltip": null,
            "layout": "IPY_MODEL_bdc794affde347ba84669869d7bc0f3a",
            "placeholder": "​",
            "style": "IPY_MODEL_d2c2c1cca96f4200b5e6461a57a73be2",
            "value": "100%"
          }
        },
        "ca78dedbe74e4d5cac9f3064ae8aec77": {
          "model_module": "@jupyter-widgets/controls",
          "model_name": "FloatProgressModel",
          "model_module_version": "1.5.0",
          "state": {
            "_dom_classes": [],
            "_model_module": "@jupyter-widgets/controls",
            "_model_module_version": "1.5.0",
            "_model_name": "FloatProgressModel",
            "_view_count": null,
            "_view_module": "@jupyter-widgets/controls",
            "_view_module_version": "1.5.0",
            "_view_name": "ProgressView",
            "bar_style": "success",
            "description": "",
            "description_tooltip": null,
            "layout": "IPY_MODEL_22261378b5834f4aa103dc599d80d20f",
            "max": 41,
            "min": 0,
            "orientation": "horizontal",
            "style": "IPY_MODEL_ec0831b5cc67414c92507c0944b4221f",
            "value": 41
          }
        },
        "5f10786dcfe74b2184e90f9ac4626705": {
          "model_module": "@jupyter-widgets/controls",
          "model_name": "HTMLModel",
          "model_module_version": "1.5.0",
          "state": {
            "_dom_classes": [],
            "_model_module": "@jupyter-widgets/controls",
            "_model_module_version": "1.5.0",
            "_model_name": "HTMLModel",
            "_view_count": null,
            "_view_module": "@jupyter-widgets/controls",
            "_view_module_version": "1.5.0",
            "_view_name": "HTMLView",
            "description": "",
            "description_tooltip": null,
            "layout": "IPY_MODEL_cd673237d0f646d4bdb9e7b6e41d42d6",
            "placeholder": "​",
            "style": "IPY_MODEL_4073082e47fe4962b618832be48029c0",
            "value": " 41/41 [00:01&lt;00:00, 33.47it/s]"
          }
        },
        "63fd681be5d3473d9c3ac0bf04fa752e": {
          "model_module": "@jupyter-widgets/base",
          "model_name": "LayoutModel",
          "model_module_version": "1.2.0",
          "state": {
            "_model_module": "@jupyter-widgets/base",
            "_model_module_version": "1.2.0",
            "_model_name": "LayoutModel",
            "_view_count": null,
            "_view_module": "@jupyter-widgets/base",
            "_view_module_version": "1.2.0",
            "_view_name": "LayoutView",
            "align_content": null,
            "align_items": null,
            "align_self": null,
            "border": null,
            "bottom": null,
            "display": null,
            "flex": null,
            "flex_flow": null,
            "grid_area": null,
            "grid_auto_columns": null,
            "grid_auto_flow": null,
            "grid_auto_rows": null,
            "grid_column": null,
            "grid_gap": null,
            "grid_row": null,
            "grid_template_areas": null,
            "grid_template_columns": null,
            "grid_template_rows": null,
            "height": null,
            "justify_content": null,
            "justify_items": null,
            "left": null,
            "margin": null,
            "max_height": null,
            "max_width": null,
            "min_height": null,
            "min_width": null,
            "object_fit": null,
            "object_position": null,
            "order": null,
            "overflow": null,
            "overflow_x": null,
            "overflow_y": null,
            "padding": null,
            "right": null,
            "top": null,
            "visibility": null,
            "width": null
          }
        },
        "bdc794affde347ba84669869d7bc0f3a": {
          "model_module": "@jupyter-widgets/base",
          "model_name": "LayoutModel",
          "model_module_version": "1.2.0",
          "state": {
            "_model_module": "@jupyter-widgets/base",
            "_model_module_version": "1.2.0",
            "_model_name": "LayoutModel",
            "_view_count": null,
            "_view_module": "@jupyter-widgets/base",
            "_view_module_version": "1.2.0",
            "_view_name": "LayoutView",
            "align_content": null,
            "align_items": null,
            "align_self": null,
            "border": null,
            "bottom": null,
            "display": null,
            "flex": null,
            "flex_flow": null,
            "grid_area": null,
            "grid_auto_columns": null,
            "grid_auto_flow": null,
            "grid_auto_rows": null,
            "grid_column": null,
            "grid_gap": null,
            "grid_row": null,
            "grid_template_areas": null,
            "grid_template_columns": null,
            "grid_template_rows": null,
            "height": null,
            "justify_content": null,
            "justify_items": null,
            "left": null,
            "margin": null,
            "max_height": null,
            "max_width": null,
            "min_height": null,
            "min_width": null,
            "object_fit": null,
            "object_position": null,
            "order": null,
            "overflow": null,
            "overflow_x": null,
            "overflow_y": null,
            "padding": null,
            "right": null,
            "top": null,
            "visibility": null,
            "width": null
          }
        },
        "d2c2c1cca96f4200b5e6461a57a73be2": {
          "model_module": "@jupyter-widgets/controls",
          "model_name": "DescriptionStyleModel",
          "model_module_version": "1.5.0",
          "state": {
            "_model_module": "@jupyter-widgets/controls",
            "_model_module_version": "1.5.0",
            "_model_name": "DescriptionStyleModel",
            "_view_count": null,
            "_view_module": "@jupyter-widgets/base",
            "_view_module_version": "1.2.0",
            "_view_name": "StyleView",
            "description_width": ""
          }
        },
        "22261378b5834f4aa103dc599d80d20f": {
          "model_module": "@jupyter-widgets/base",
          "model_name": "LayoutModel",
          "model_module_version": "1.2.0",
          "state": {
            "_model_module": "@jupyter-widgets/base",
            "_model_module_version": "1.2.0",
            "_model_name": "LayoutModel",
            "_view_count": null,
            "_view_module": "@jupyter-widgets/base",
            "_view_module_version": "1.2.0",
            "_view_name": "LayoutView",
            "align_content": null,
            "align_items": null,
            "align_self": null,
            "border": null,
            "bottom": null,
            "display": null,
            "flex": null,
            "flex_flow": null,
            "grid_area": null,
            "grid_auto_columns": null,
            "grid_auto_flow": null,
            "grid_auto_rows": null,
            "grid_column": null,
            "grid_gap": null,
            "grid_row": null,
            "grid_template_areas": null,
            "grid_template_columns": null,
            "grid_template_rows": null,
            "height": null,
            "justify_content": null,
            "justify_items": null,
            "left": null,
            "margin": null,
            "max_height": null,
            "max_width": null,
            "min_height": null,
            "min_width": null,
            "object_fit": null,
            "object_position": null,
            "order": null,
            "overflow": null,
            "overflow_x": null,
            "overflow_y": null,
            "padding": null,
            "right": null,
            "top": null,
            "visibility": null,
            "width": null
          }
        },
        "ec0831b5cc67414c92507c0944b4221f": {
          "model_module": "@jupyter-widgets/controls",
          "model_name": "ProgressStyleModel",
          "model_module_version": "1.5.0",
          "state": {
            "_model_module": "@jupyter-widgets/controls",
            "_model_module_version": "1.5.0",
            "_model_name": "ProgressStyleModel",
            "_view_count": null,
            "_view_module": "@jupyter-widgets/base",
            "_view_module_version": "1.2.0",
            "_view_name": "StyleView",
            "bar_color": null,
            "description_width": ""
          }
        },
        "cd673237d0f646d4bdb9e7b6e41d42d6": {
          "model_module": "@jupyter-widgets/base",
          "model_name": "LayoutModel",
          "model_module_version": "1.2.0",
          "state": {
            "_model_module": "@jupyter-widgets/base",
            "_model_module_version": "1.2.0",
            "_model_name": "LayoutModel",
            "_view_count": null,
            "_view_module": "@jupyter-widgets/base",
            "_view_module_version": "1.2.0",
            "_view_name": "LayoutView",
            "align_content": null,
            "align_items": null,
            "align_self": null,
            "border": null,
            "bottom": null,
            "display": null,
            "flex": null,
            "flex_flow": null,
            "grid_area": null,
            "grid_auto_columns": null,
            "grid_auto_flow": null,
            "grid_auto_rows": null,
            "grid_column": null,
            "grid_gap": null,
            "grid_row": null,
            "grid_template_areas": null,
            "grid_template_columns": null,
            "grid_template_rows": null,
            "height": null,
            "justify_content": null,
            "justify_items": null,
            "left": null,
            "margin": null,
            "max_height": null,
            "max_width": null,
            "min_height": null,
            "min_width": null,
            "object_fit": null,
            "object_position": null,
            "order": null,
            "overflow": null,
            "overflow_x": null,
            "overflow_y": null,
            "padding": null,
            "right": null,
            "top": null,
            "visibility": null,
            "width": null
          }
        },
        "4073082e47fe4962b618832be48029c0": {
          "model_module": "@jupyter-widgets/controls",
          "model_name": "DescriptionStyleModel",
          "model_module_version": "1.5.0",
          "state": {
            "_model_module": "@jupyter-widgets/controls",
            "_model_module_version": "1.5.0",
            "_model_name": "DescriptionStyleModel",
            "_view_count": null,
            "_view_module": "@jupyter-widgets/base",
            "_view_module_version": "1.2.0",
            "_view_name": "StyleView",
            "description_width": ""
          }
        },
        "7e1669ee18404900a11732df6f92cbc5": {
          "model_module": "@jupyter-widgets/controls",
          "model_name": "HBoxModel",
          "model_module_version": "1.5.0",
          "state": {
            "_dom_classes": [],
            "_model_module": "@jupyter-widgets/controls",
            "_model_module_version": "1.5.0",
            "_model_name": "HBoxModel",
            "_view_count": null,
            "_view_module": "@jupyter-widgets/controls",
            "_view_module_version": "1.5.0",
            "_view_name": "HBoxView",
            "box_style": "",
            "children": [
              "IPY_MODEL_649b46ca753d460c90f91831f16ab140",
              "IPY_MODEL_65aa490bf4a04b25a26b850bf07ee75a",
              "IPY_MODEL_af2efd5d6c164000bf06d4d31fd7f1c9"
            ],
            "layout": "IPY_MODEL_5e439e819f564bda9773c09bd66138de"
          }
        },
        "649b46ca753d460c90f91831f16ab140": {
          "model_module": "@jupyter-widgets/controls",
          "model_name": "HTMLModel",
          "model_module_version": "1.5.0",
          "state": {
            "_dom_classes": [],
            "_model_module": "@jupyter-widgets/controls",
            "_model_module_version": "1.5.0",
            "_model_name": "HTMLModel",
            "_view_count": null,
            "_view_module": "@jupyter-widgets/controls",
            "_view_module_version": "1.5.0",
            "_view_name": "HTMLView",
            "description": "",
            "description_tooltip": null,
            "layout": "IPY_MODEL_0fa0cff9fb6546dcbcc6b12bf9b8fdc0",
            "placeholder": "​",
            "style": "IPY_MODEL_cc0addaf04db44289dc9d5f147ea58c7",
            "value": "100%"
          }
        },
        "65aa490bf4a04b25a26b850bf07ee75a": {
          "model_module": "@jupyter-widgets/controls",
          "model_name": "FloatProgressModel",
          "model_module_version": "1.5.0",
          "state": {
            "_dom_classes": [],
            "_model_module": "@jupyter-widgets/controls",
            "_model_module_version": "1.5.0",
            "_model_name": "FloatProgressModel",
            "_view_count": null,
            "_view_module": "@jupyter-widgets/controls",
            "_view_module_version": "1.5.0",
            "_view_name": "ProgressView",
            "bar_style": "success",
            "description": "",
            "description_tooltip": null,
            "layout": "IPY_MODEL_bbdf419a09db4dfcb4be0758229a6703",
            "max": 41,
            "min": 0,
            "orientation": "horizontal",
            "style": "IPY_MODEL_945013e322e24d62b3bfa448b86aafb4",
            "value": 41
          }
        },
        "af2efd5d6c164000bf06d4d31fd7f1c9": {
          "model_module": "@jupyter-widgets/controls",
          "model_name": "HTMLModel",
          "model_module_version": "1.5.0",
          "state": {
            "_dom_classes": [],
            "_model_module": "@jupyter-widgets/controls",
            "_model_module_version": "1.5.0",
            "_model_name": "HTMLModel",
            "_view_count": null,
            "_view_module": "@jupyter-widgets/controls",
            "_view_module_version": "1.5.0",
            "_view_name": "HTMLView",
            "description": "",
            "description_tooltip": null,
            "layout": "IPY_MODEL_692171c6f62145c5b47820351af8bb53",
            "placeholder": "​",
            "style": "IPY_MODEL_421dcf2bd9c3473bb79a24e3e9edcd07",
            "value": " 41/41 [00:00&lt;00:00, 61.22it/s]"
          }
        },
        "5e439e819f564bda9773c09bd66138de": {
          "model_module": "@jupyter-widgets/base",
          "model_name": "LayoutModel",
          "model_module_version": "1.2.0",
          "state": {
            "_model_module": "@jupyter-widgets/base",
            "_model_module_version": "1.2.0",
            "_model_name": "LayoutModel",
            "_view_count": null,
            "_view_module": "@jupyter-widgets/base",
            "_view_module_version": "1.2.0",
            "_view_name": "LayoutView",
            "align_content": null,
            "align_items": null,
            "align_self": null,
            "border": null,
            "bottom": null,
            "display": null,
            "flex": null,
            "flex_flow": null,
            "grid_area": null,
            "grid_auto_columns": null,
            "grid_auto_flow": null,
            "grid_auto_rows": null,
            "grid_column": null,
            "grid_gap": null,
            "grid_row": null,
            "grid_template_areas": null,
            "grid_template_columns": null,
            "grid_template_rows": null,
            "height": null,
            "justify_content": null,
            "justify_items": null,
            "left": null,
            "margin": null,
            "max_height": null,
            "max_width": null,
            "min_height": null,
            "min_width": null,
            "object_fit": null,
            "object_position": null,
            "order": null,
            "overflow": null,
            "overflow_x": null,
            "overflow_y": null,
            "padding": null,
            "right": null,
            "top": null,
            "visibility": null,
            "width": null
          }
        },
        "0fa0cff9fb6546dcbcc6b12bf9b8fdc0": {
          "model_module": "@jupyter-widgets/base",
          "model_name": "LayoutModel",
          "model_module_version": "1.2.0",
          "state": {
            "_model_module": "@jupyter-widgets/base",
            "_model_module_version": "1.2.0",
            "_model_name": "LayoutModel",
            "_view_count": null,
            "_view_module": "@jupyter-widgets/base",
            "_view_module_version": "1.2.0",
            "_view_name": "LayoutView",
            "align_content": null,
            "align_items": null,
            "align_self": null,
            "border": null,
            "bottom": null,
            "display": null,
            "flex": null,
            "flex_flow": null,
            "grid_area": null,
            "grid_auto_columns": null,
            "grid_auto_flow": null,
            "grid_auto_rows": null,
            "grid_column": null,
            "grid_gap": null,
            "grid_row": null,
            "grid_template_areas": null,
            "grid_template_columns": null,
            "grid_template_rows": null,
            "height": null,
            "justify_content": null,
            "justify_items": null,
            "left": null,
            "margin": null,
            "max_height": null,
            "max_width": null,
            "min_height": null,
            "min_width": null,
            "object_fit": null,
            "object_position": null,
            "order": null,
            "overflow": null,
            "overflow_x": null,
            "overflow_y": null,
            "padding": null,
            "right": null,
            "top": null,
            "visibility": null,
            "width": null
          }
        },
        "cc0addaf04db44289dc9d5f147ea58c7": {
          "model_module": "@jupyter-widgets/controls",
          "model_name": "DescriptionStyleModel",
          "model_module_version": "1.5.0",
          "state": {
            "_model_module": "@jupyter-widgets/controls",
            "_model_module_version": "1.5.0",
            "_model_name": "DescriptionStyleModel",
            "_view_count": null,
            "_view_module": "@jupyter-widgets/base",
            "_view_module_version": "1.2.0",
            "_view_name": "StyleView",
            "description_width": ""
          }
        },
        "bbdf419a09db4dfcb4be0758229a6703": {
          "model_module": "@jupyter-widgets/base",
          "model_name": "LayoutModel",
          "model_module_version": "1.2.0",
          "state": {
            "_model_module": "@jupyter-widgets/base",
            "_model_module_version": "1.2.0",
            "_model_name": "LayoutModel",
            "_view_count": null,
            "_view_module": "@jupyter-widgets/base",
            "_view_module_version": "1.2.0",
            "_view_name": "LayoutView",
            "align_content": null,
            "align_items": null,
            "align_self": null,
            "border": null,
            "bottom": null,
            "display": null,
            "flex": null,
            "flex_flow": null,
            "grid_area": null,
            "grid_auto_columns": null,
            "grid_auto_flow": null,
            "grid_auto_rows": null,
            "grid_column": null,
            "grid_gap": null,
            "grid_row": null,
            "grid_template_areas": null,
            "grid_template_columns": null,
            "grid_template_rows": null,
            "height": null,
            "justify_content": null,
            "justify_items": null,
            "left": null,
            "margin": null,
            "max_height": null,
            "max_width": null,
            "min_height": null,
            "min_width": null,
            "object_fit": null,
            "object_position": null,
            "order": null,
            "overflow": null,
            "overflow_x": null,
            "overflow_y": null,
            "padding": null,
            "right": null,
            "top": null,
            "visibility": null,
            "width": null
          }
        },
        "945013e322e24d62b3bfa448b86aafb4": {
          "model_module": "@jupyter-widgets/controls",
          "model_name": "ProgressStyleModel",
          "model_module_version": "1.5.0",
          "state": {
            "_model_module": "@jupyter-widgets/controls",
            "_model_module_version": "1.5.0",
            "_model_name": "ProgressStyleModel",
            "_view_count": null,
            "_view_module": "@jupyter-widgets/base",
            "_view_module_version": "1.2.0",
            "_view_name": "StyleView",
            "bar_color": null,
            "description_width": ""
          }
        },
        "692171c6f62145c5b47820351af8bb53": {
          "model_module": "@jupyter-widgets/base",
          "model_name": "LayoutModel",
          "model_module_version": "1.2.0",
          "state": {
            "_model_module": "@jupyter-widgets/base",
            "_model_module_version": "1.2.0",
            "_model_name": "LayoutModel",
            "_view_count": null,
            "_view_module": "@jupyter-widgets/base",
            "_view_module_version": "1.2.0",
            "_view_name": "LayoutView",
            "align_content": null,
            "align_items": null,
            "align_self": null,
            "border": null,
            "bottom": null,
            "display": null,
            "flex": null,
            "flex_flow": null,
            "grid_area": null,
            "grid_auto_columns": null,
            "grid_auto_flow": null,
            "grid_auto_rows": null,
            "grid_column": null,
            "grid_gap": null,
            "grid_row": null,
            "grid_template_areas": null,
            "grid_template_columns": null,
            "grid_template_rows": null,
            "height": null,
            "justify_content": null,
            "justify_items": null,
            "left": null,
            "margin": null,
            "max_height": null,
            "max_width": null,
            "min_height": null,
            "min_width": null,
            "object_fit": null,
            "object_position": null,
            "order": null,
            "overflow": null,
            "overflow_x": null,
            "overflow_y": null,
            "padding": null,
            "right": null,
            "top": null,
            "visibility": null,
            "width": null
          }
        },
        "421dcf2bd9c3473bb79a24e3e9edcd07": {
          "model_module": "@jupyter-widgets/controls",
          "model_name": "DescriptionStyleModel",
          "model_module_version": "1.5.0",
          "state": {
            "_model_module": "@jupyter-widgets/controls",
            "_model_module_version": "1.5.0",
            "_model_name": "DescriptionStyleModel",
            "_view_count": null,
            "_view_module": "@jupyter-widgets/base",
            "_view_module_version": "1.2.0",
            "_view_name": "StyleView",
            "description_width": ""
          }
        }
      }
    }
  },
  "nbformat": 4,
  "nbformat_minor": 0
}